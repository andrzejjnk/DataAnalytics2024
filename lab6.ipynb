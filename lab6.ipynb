{
 "cells": [
  {
   "cell_type": "code",
   "execution_count": 131,
   "metadata": {},
   "outputs": [],
   "source": [
    "from cmdstanpy import CmdStanModel\n",
    "\n",
    "import arviz as az\n",
    "import numpy as np\n",
    "import scipy.stats as stats\n",
    "import matplotlib.pyplot as plt\n",
    "import pandas as pd\n",
    "import seaborn as sns"
   ]
  },
  {
   "cell_type": "code",
   "execution_count": 132,
   "metadata": {},
   "outputs": [
    {
     "name": "stdout",
     "output_type": "stream",
     "text": [
      "Overwriting home/lab6_code_1.stan\n"
     ]
    }
   ],
   "source": [
    "%%writefile home/lab6_code_1.stan\n",
    "\n",
    "data {\n",
    "    int<lower=1> N;\n",
    "}\n",
    "\n",
    "generated quantities {\n",
    "    real theta = 0.1;\n",
    "    array [N] real y;\n",
    "    for (i in 1:N) {\n",
    "        if (bernoulli_rng(theta)) {\n",
    "            y[i] = normal_rng(10, 10);\n",
    "        }\n",
    "        else {\n",
    "            y[i] = normal_rng(1, 1);\n",
    "        }\n",
    "    }\n",
    "}"
   ]
  },
  {
   "cell_type": "code",
   "execution_count": 133,
   "metadata": {},
   "outputs": [
    {
     "name": "stdout",
     "output_type": "stream",
     "text": [
      "Overwriting home/lab6_code_2.stan\n"
     ]
    }
   ],
   "source": [
    "%%writefile home/lab6_code_2.stan\n",
    "\n",
    "data {\n",
    "    int<lower=1> N;\n",
    "}\n",
    "\n",
    "generated quantities {\n",
    "    matrix[N,3] X;\n",
    "    {vector [N] zeros = rep_vector(0, N);\n",
    "\n",
    "    for (j in 1:3) {\n",
    "        X[:,j] = to_vector(normal_rng(zeros, 1));\n",
    "    }\n",
    "    }\n",
    "\n",
    "    vector [3] beta;\n",
    "    beta = [2, 1, 0.5]';\n",
    "\n",
    "    array[N] real y;\n",
    "    y = normal_rng(X*beta, 1);\n",
    "}"
   ]
  },
  {
   "cell_type": "code",
   "execution_count": 134,
   "metadata": {},
   "outputs": [
    {
     "name": "stderr",
     "output_type": "stream",
     "text": [
      "INFO:cmdstanpy:compiling stan file /home/lab6_code_1.stan to exe file /home/lab6_code_1\n",
      "INFO:cmdstanpy:compiled model executable: /home/lab6_code_1\n"
     ]
    }
   ],
   "source": [
    "model_1=CmdStanModel(stan_file='home/lab6_code_1.stan')"
   ]
  },
  {
   "cell_type": "code",
   "execution_count": 135,
   "metadata": {},
   "outputs": [
    {
     "name": "stderr",
     "output_type": "stream",
     "text": [
      "INFO:cmdstanpy:compiling stan file /home/lab6_code_2.stan to exe file /home/lab6_code_2\n",
      "INFO:cmdstanpy:compiled model executable: /home/lab6_code_2\n"
     ]
    }
   ],
   "source": [
    "model_2=CmdStanModel(stan_file='home/lab6_code_2.stan')"
   ]
  },
  {
   "cell_type": "code",
   "execution_count": 136,
   "metadata": {},
   "outputs": [
    {
     "data": {
      "text/plain": [
       "1200"
      ]
     },
     "execution_count": 136,
     "metadata": {},
     "output_type": "execute_result"
    }
   ],
   "source": [
    "F = len('Andrzej')\n",
    "L = len('Janik')\n",
    "N = (L+F)*100\n",
    "N"
   ]
  },
  {
   "cell_type": "code",
   "execution_count": 137,
   "metadata": {},
   "outputs": [
    {
     "name": "stderr",
     "output_type": "stream",
     "text": [
      "INFO:cmdstanpy:CmdStan start processing\n",
      "chain 1 |\u001b[34m██████████\u001b[0m| 00:00 Sampling completed"
     ]
    },
    {
     "name": "stdout",
     "output_type": "stream",
     "text": [
      "                                                                                "
     ]
    },
    {
     "name": "stderr",
     "output_type": "stream",
     "text": [
      "\n",
      "INFO:cmdstanpy:CmdStan done processing.\n"
     ]
    },
    {
     "name": "stdout",
     "output_type": "stream",
     "text": [
      "\n"
     ]
    }
   ],
   "source": [
    "data1 = model_1.sample(data={'N': N}, iter_sampling=1, iter_warmup=1, chains=1, seed=29042020 )"
   ]
  },
  {
   "cell_type": "code",
   "execution_count": 138,
   "metadata": {},
   "outputs": [
    {
     "data": {
      "text/html": [
       "<div>\n",
       "<style scoped>\n",
       "    .dataframe tbody tr th:only-of-type {\n",
       "        vertical-align: middle;\n",
       "    }\n",
       "\n",
       "    .dataframe tbody tr th {\n",
       "        vertical-align: top;\n",
       "    }\n",
       "\n",
       "    .dataframe thead th {\n",
       "        text-align: right;\n",
       "    }\n",
       "</style>\n",
       "<table border=\"1\" class=\"dataframe\">\n",
       "  <thead>\n",
       "    <tr style=\"text-align: right;\">\n",
       "      <th></th>\n",
       "      <th>lp__</th>\n",
       "      <th>accept_stat__</th>\n",
       "      <th>theta</th>\n",
       "      <th>y[1]</th>\n",
       "      <th>y[2]</th>\n",
       "      <th>y[3]</th>\n",
       "      <th>y[4]</th>\n",
       "      <th>y[5]</th>\n",
       "      <th>y[6]</th>\n",
       "      <th>y[7]</th>\n",
       "      <th>...</th>\n",
       "      <th>y[1191]</th>\n",
       "      <th>y[1192]</th>\n",
       "      <th>y[1193]</th>\n",
       "      <th>y[1194]</th>\n",
       "      <th>y[1195]</th>\n",
       "      <th>y[1196]</th>\n",
       "      <th>y[1197]</th>\n",
       "      <th>y[1198]</th>\n",
       "      <th>y[1199]</th>\n",
       "      <th>y[1200]</th>\n",
       "    </tr>\n",
       "  </thead>\n",
       "  <tbody>\n",
       "    <tr>\n",
       "      <th>0</th>\n",
       "      <td>0.0</td>\n",
       "      <td>0.0</td>\n",
       "      <td>0.1</td>\n",
       "      <td>0.575498</td>\n",
       "      <td>0.936339</td>\n",
       "      <td>0.166115</td>\n",
       "      <td>2.55158</td>\n",
       "      <td>0.637755</td>\n",
       "      <td>1.74349</td>\n",
       "      <td>1.97084</td>\n",
       "      <td>...</td>\n",
       "      <td>0.82073</td>\n",
       "      <td>2.84911</td>\n",
       "      <td>-0.727297</td>\n",
       "      <td>0.595016</td>\n",
       "      <td>2.08221</td>\n",
       "      <td>-0.00288</td>\n",
       "      <td>-0.352847</td>\n",
       "      <td>1.92261</td>\n",
       "      <td>-0.209063</td>\n",
       "      <td>0.950039</td>\n",
       "    </tr>\n",
       "  </tbody>\n",
       "</table>\n",
       "<p>1 rows × 1203 columns</p>\n",
       "</div>"
      ],
      "text/plain": [
       "   lp__  accept_stat__  theta      y[1]      y[2]      y[3]     y[4]  \\\n",
       "0   0.0            0.0    0.1  0.575498  0.936339  0.166115  2.55158   \n",
       "\n",
       "       y[5]     y[6]     y[7]  ...  y[1191]  y[1192]   y[1193]   y[1194]  \\\n",
       "0  0.637755  1.74349  1.97084  ...  0.82073  2.84911 -0.727297  0.595016   \n",
       "\n",
       "   y[1195]  y[1196]   y[1197]  y[1198]   y[1199]   y[1200]  \n",
       "0  2.08221 -0.00288 -0.352847  1.92261 -0.209063  0.950039  \n",
       "\n",
       "[1 rows x 1203 columns]"
      ]
     },
     "execution_count": 138,
     "metadata": {},
     "output_type": "execute_result"
    }
   ],
   "source": [
    "df1 = data1.draws_pd()\n",
    "df1.head()"
   ]
  },
  {
   "cell_type": "code",
   "execution_count": 139,
   "metadata": {},
   "outputs": [
    {
     "name": "stderr",
     "output_type": "stream",
     "text": [
      "INFO:cmdstanpy:CmdStan start processing\n",
      "chain 1 |\u001b[34m██████████\u001b[0m| 00:00 Sampling completed"
     ]
    },
    {
     "name": "stdout",
     "output_type": "stream",
     "text": [
      "                                                                                "
     ]
    },
    {
     "name": "stderr",
     "output_type": "stream",
     "text": [
      "\n",
      "INFO:cmdstanpy:CmdStan done processing.\n"
     ]
    },
    {
     "name": "stdout",
     "output_type": "stream",
     "text": [
      "\n"
     ]
    }
   ],
   "source": [
    "data2 = model_2.sample(data={'N': N}, iter_sampling=1, iter_warmup=1, chains=1, seed=29042020 )"
   ]
  },
  {
   "cell_type": "code",
   "execution_count": 140,
   "metadata": {},
   "outputs": [
    {
     "data": {
      "text/html": [
       "<div>\n",
       "<style scoped>\n",
       "    .dataframe tbody tr th:only-of-type {\n",
       "        vertical-align: middle;\n",
       "    }\n",
       "\n",
       "    .dataframe tbody tr th {\n",
       "        vertical-align: top;\n",
       "    }\n",
       "\n",
       "    .dataframe thead th {\n",
       "        text-align: right;\n",
       "    }\n",
       "</style>\n",
       "<table border=\"1\" class=\"dataframe\">\n",
       "  <thead>\n",
       "    <tr style=\"text-align: right;\">\n",
       "      <th></th>\n",
       "      <th>lp__</th>\n",
       "      <th>accept_stat__</th>\n",
       "      <th>X[1,1]</th>\n",
       "      <th>X[2,1]</th>\n",
       "      <th>X[3,1]</th>\n",
       "      <th>X[4,1]</th>\n",
       "      <th>X[5,1]</th>\n",
       "      <th>X[6,1]</th>\n",
       "      <th>X[7,1]</th>\n",
       "      <th>X[8,1]</th>\n",
       "      <th>...</th>\n",
       "      <th>y[1191]</th>\n",
       "      <th>y[1192]</th>\n",
       "      <th>y[1193]</th>\n",
       "      <th>y[1194]</th>\n",
       "      <th>y[1195]</th>\n",
       "      <th>y[1196]</th>\n",
       "      <th>y[1197]</th>\n",
       "      <th>y[1198]</th>\n",
       "      <th>y[1199]</th>\n",
       "      <th>y[1200]</th>\n",
       "    </tr>\n",
       "  </thead>\n",
       "  <tbody>\n",
       "    <tr>\n",
       "      <th>0</th>\n",
       "      <td>0.0</td>\n",
       "      <td>0.0</td>\n",
       "      <td>2.70817</td>\n",
       "      <td>0.777181</td>\n",
       "      <td>-1.27227</td>\n",
       "      <td>0.127591</td>\n",
       "      <td>-1.38942</td>\n",
       "      <td>0.246162</td>\n",
       "      <td>1.19873</td>\n",
       "      <td>2.26533</td>\n",
       "      <td>...</td>\n",
       "      <td>-1.73839</td>\n",
       "      <td>5.82632</td>\n",
       "      <td>0.467584</td>\n",
       "      <td>5.68971</td>\n",
       "      <td>1.48844</td>\n",
       "      <td>-1.80466</td>\n",
       "      <td>-2.98097</td>\n",
       "      <td>2.59505</td>\n",
       "      <td>-3.23928</td>\n",
       "      <td>1.37315</td>\n",
       "    </tr>\n",
       "  </tbody>\n",
       "</table>\n",
       "<p>1 rows × 4805 columns</p>\n",
       "</div>"
      ],
      "text/plain": [
       "   lp__  accept_stat__   X[1,1]    X[2,1]   X[3,1]    X[4,1]   X[5,1]  \\\n",
       "0   0.0            0.0  2.70817  0.777181 -1.27227  0.127591 -1.38942   \n",
       "\n",
       "     X[6,1]   X[7,1]   X[8,1]  ...  y[1191]  y[1192]   y[1193]  y[1194]  \\\n",
       "0  0.246162  1.19873  2.26533  ... -1.73839  5.82632  0.467584  5.68971   \n",
       "\n",
       "   y[1195]  y[1196]  y[1197]  y[1198]  y[1199]  y[1200]  \n",
       "0  1.48844 -1.80466 -2.98097  2.59505 -3.23928  1.37315  \n",
       "\n",
       "[1 rows x 4805 columns]"
      ]
     },
     "execution_count": 140,
     "metadata": {},
     "output_type": "execute_result"
    }
   ],
   "source": [
    "df2 = data2.draws_pd()\n",
    "df2.head()"
   ]
  },
  {
   "cell_type": "code",
   "execution_count": 141,
   "metadata": {},
   "outputs": [
    {
     "name": "stdout",
     "output_type": "stream",
     "text": [
      "Overwriting home/lab6_code_3.stan\n"
     ]
    }
   ],
   "source": [
    "%%writefile home/lab6_code_3.stan\n",
    "data {\n",
    "    int N;\n",
    "    array [N] real y;\n",
    "}\n",
    "\n",
    "parameters {\n",
    "    real<lower=0> sigma;\n",
    "    real mu;\n",
    "}\n",
    "\n",
    "model {\n",
    "    target += -2*log(sigma);\n",
    "    target += normal_lpdf(y | mu, sigma);\n",
    "}\n",
    "\n",
    "generated quantities {\n",
    "    vector [N] log_lik;\n",
    "    array [N] real y_hat;\n",
    "    for (j in 1:N) {\n",
    "        log_lik[j] = normal_lpdf(y[j] | mu, sigma);\n",
    "        y_hat[j] = normal_rng(mu, sigma);\n",
    "    }\n",
    "}"
   ]
  },
  {
   "cell_type": "code",
   "execution_count": 142,
   "metadata": {},
   "outputs": [
    {
     "name": "stdout",
     "output_type": "stream",
     "text": [
      "Overwriting home/lab6_code_4.stan\n"
     ]
    }
   ],
   "source": [
    "%%writefile home/lab6_code_4.stan\n",
    "data {\n",
    "    int N;\n",
    "    array [N] real y;\n",
    "}\n",
    "\n",
    "parameters {\n",
    "    real<lower=0> sigma;\n",
    "    real mu;\n",
    "    real<lower=0> nu;\n",
    "}\n",
    "\n",
    "model {\n",
    "    target += -2*log(sigma);\n",
    "    target += gamma_lpdf(nu | 2, 0.1);\n",
    "    target += student_t_lpdf(y | nu, mu,  sigma);\n",
    "}\n",
    "\n",
    "generated quantities {\n",
    "    vector [N] log_lik;\n",
    "    array [N] real y_hat;\n",
    "    for (j in 1:N) {\n",
    "        log_lik[j] = student_t_lpdf(y[j] | nu, mu, sigma);\n",
    "        y_hat[j] = student_t_rng(nu, mu, sigma);\n",
    "    }\n",
    "}"
   ]
  },
  {
   "cell_type": "code",
   "execution_count": 143,
   "metadata": {},
   "outputs": [
    {
     "name": "stderr",
     "output_type": "stream",
     "text": [
      "INFO:cmdstanpy:compiling stan file /home/lab6_code_3.stan to exe file /home/lab6_code_3\n",
      "INFO:cmdstanpy:compiled model executable: /home/lab6_code_3\n"
     ]
    }
   ],
   "source": [
    "model_3=CmdStanModel(stan_file='home/lab6_code_3.stan')"
   ]
  },
  {
   "cell_type": "code",
   "execution_count": 144,
   "metadata": {},
   "outputs": [
    {
     "name": "stderr",
     "output_type": "stream",
     "text": [
      "INFO:cmdstanpy:compiling stan file /home/lab6_code_4.stan to exe file /home/lab6_code_4\n",
      "INFO:cmdstanpy:compiled model executable: /home/lab6_code_4\n"
     ]
    }
   ],
   "source": [
    "model_4=CmdStanModel(stan_file='home/lab6_code_4.stan')"
   ]
  },
  {
   "cell_type": "code",
   "execution_count": 145,
   "metadata": {},
   "outputs": [
    {
     "data": {
      "text/plain": [
       "(1200,)"
      ]
     },
     "execution_count": 145,
     "metadata": {},
     "output_type": "execute_result"
    }
   ],
   "source": [
    "dt = df1.loc[0, 'y[1]':]  #.values.reshape((N, ))\n",
    "#dt.head()\n",
    "data_fit = {'N': N, 'y': dt}\n",
    "dt.shape"
   ]
  },
  {
   "cell_type": "code",
   "execution_count": 146,
   "metadata": {},
   "outputs": [
    {
     "name": "stderr",
     "output_type": "stream",
     "text": [
      "INFO:cmdstanpy:CmdStan start processing\n",
      "chain 1 |\u001b[34m██████████\u001b[0m| 00:00 Sampling completed                     "
     ]
    },
    {
     "name": "stdout",
     "output_type": "stream",
     "text": [
      "                                                                                "
     ]
    },
    {
     "name": "stderr",
     "output_type": "stream",
     "text": [
      "\n",
      "INFO:cmdstanpy:CmdStan done processing.\n"
     ]
    },
    {
     "name": "stdout",
     "output_type": "stream",
     "text": [
      "\n"
     ]
    }
   ],
   "source": [
    "fit_model_3 = model_3.sample(data=data_fit, iter_sampling=100, iter_warmup=1, chains=1, seed=29042020)"
   ]
  },
  {
   "cell_type": "code",
   "execution_count": 147,
   "metadata": {},
   "outputs": [
    {
     "data": {
      "text/html": [
       "<div>\n",
       "<style scoped>\n",
       "    .dataframe tbody tr th:only-of-type {\n",
       "        vertical-align: middle;\n",
       "    }\n",
       "\n",
       "    .dataframe tbody tr th {\n",
       "        vertical-align: top;\n",
       "    }\n",
       "\n",
       "    .dataframe thead th {\n",
       "        text-align: right;\n",
       "    }\n",
       "</style>\n",
       "<table border=\"1\" class=\"dataframe\">\n",
       "  <thead>\n",
       "    <tr style=\"text-align: right;\">\n",
       "      <th></th>\n",
       "      <th>lp__</th>\n",
       "      <th>accept_stat__</th>\n",
       "      <th>stepsize__</th>\n",
       "      <th>treedepth__</th>\n",
       "      <th>n_leapfrog__</th>\n",
       "      <th>divergent__</th>\n",
       "      <th>energy__</th>\n",
       "      <th>sigma</th>\n",
       "      <th>mu</th>\n",
       "      <th>log_lik[1]</th>\n",
       "      <th>...</th>\n",
       "      <th>y_hat[1191]</th>\n",
       "      <th>y_hat[1192]</th>\n",
       "      <th>y_hat[1193]</th>\n",
       "      <th>y_hat[1194]</th>\n",
       "      <th>y_hat[1195]</th>\n",
       "      <th>y_hat[1196]</th>\n",
       "      <th>y_hat[1197]</th>\n",
       "      <th>y_hat[1198]</th>\n",
       "      <th>y_hat[1199]</th>\n",
       "      <th>y_hat[1200]</th>\n",
       "    </tr>\n",
       "  </thead>\n",
       "  <tbody>\n",
       "    <tr>\n",
       "      <th>0</th>\n",
       "      <td>-4373.45</td>\n",
       "      <td>0.0</td>\n",
       "      <td>14.3855</td>\n",
       "      <td>0.0</td>\n",
       "      <td>1.0</td>\n",
       "      <td>1.0</td>\n",
       "      <td>4373.48</td>\n",
       "      <td>2.17394</td>\n",
       "      <td>0.954686</td>\n",
       "      <td>-1.71069</td>\n",
       "      <td>...</td>\n",
       "      <td>0.150260</td>\n",
       "      <td>1.734350</td>\n",
       "      <td>2.42123</td>\n",
       "      <td>-0.348656</td>\n",
       "      <td>1.126090</td>\n",
       "      <td>-0.300249</td>\n",
       "      <td>-0.727573</td>\n",
       "      <td>-0.757951</td>\n",
       "      <td>1.593150</td>\n",
       "      <td>2.651520</td>\n",
       "    </tr>\n",
       "    <tr>\n",
       "      <th>1</th>\n",
       "      <td>-4373.45</td>\n",
       "      <td>0.0</td>\n",
       "      <td>14.3855</td>\n",
       "      <td>0.0</td>\n",
       "      <td>1.0</td>\n",
       "      <td>1.0</td>\n",
       "      <td>4375.99</td>\n",
       "      <td>2.17394</td>\n",
       "      <td>0.954686</td>\n",
       "      <td>-1.71069</td>\n",
       "      <td>...</td>\n",
       "      <td>4.028660</td>\n",
       "      <td>0.226361</td>\n",
       "      <td>4.45301</td>\n",
       "      <td>1.904000</td>\n",
       "      <td>3.946810</td>\n",
       "      <td>0.911031</td>\n",
       "      <td>-0.814353</td>\n",
       "      <td>0.360253</td>\n",
       "      <td>0.214708</td>\n",
       "      <td>1.732650</td>\n",
       "    </tr>\n",
       "    <tr>\n",
       "      <th>2</th>\n",
       "      <td>-4373.45</td>\n",
       "      <td>0.0</td>\n",
       "      <td>14.3855</td>\n",
       "      <td>0.0</td>\n",
       "      <td>1.0</td>\n",
       "      <td>1.0</td>\n",
       "      <td>4373.89</td>\n",
       "      <td>2.17394</td>\n",
       "      <td>0.954686</td>\n",
       "      <td>-1.71069</td>\n",
       "      <td>...</td>\n",
       "      <td>-1.498660</td>\n",
       "      <td>3.032830</td>\n",
       "      <td>2.29637</td>\n",
       "      <td>0.274810</td>\n",
       "      <td>0.927857</td>\n",
       "      <td>0.582819</td>\n",
       "      <td>0.228932</td>\n",
       "      <td>0.343525</td>\n",
       "      <td>-3.026890</td>\n",
       "      <td>-0.216942</td>\n",
       "    </tr>\n",
       "    <tr>\n",
       "      <th>3</th>\n",
       "      <td>-4373.45</td>\n",
       "      <td>0.0</td>\n",
       "      <td>14.3855</td>\n",
       "      <td>0.0</td>\n",
       "      <td>1.0</td>\n",
       "      <td>1.0</td>\n",
       "      <td>4373.68</td>\n",
       "      <td>2.17394</td>\n",
       "      <td>0.954686</td>\n",
       "      <td>-1.71069</td>\n",
       "      <td>...</td>\n",
       "      <td>-0.891905</td>\n",
       "      <td>0.259741</td>\n",
       "      <td>1.66791</td>\n",
       "      <td>-1.529680</td>\n",
       "      <td>0.809294</td>\n",
       "      <td>3.288220</td>\n",
       "      <td>-3.023460</td>\n",
       "      <td>3.085600</td>\n",
       "      <td>2.758240</td>\n",
       "      <td>0.554709</td>\n",
       "    </tr>\n",
       "    <tr>\n",
       "      <th>4</th>\n",
       "      <td>-4373.45</td>\n",
       "      <td>0.0</td>\n",
       "      <td>14.3855</td>\n",
       "      <td>0.0</td>\n",
       "      <td>1.0</td>\n",
       "      <td>1.0</td>\n",
       "      <td>4374.41</td>\n",
       "      <td>2.17394</td>\n",
       "      <td>0.954686</td>\n",
       "      <td>-1.71069</td>\n",
       "      <td>...</td>\n",
       "      <td>-0.532057</td>\n",
       "      <td>2.382950</td>\n",
       "      <td>5.32216</td>\n",
       "      <td>2.411900</td>\n",
       "      <td>2.962920</td>\n",
       "      <td>2.130670</td>\n",
       "      <td>-1.238460</td>\n",
       "      <td>2.730480</td>\n",
       "      <td>0.108342</td>\n",
       "      <td>-1.138650</td>\n",
       "    </tr>\n",
       "  </tbody>\n",
       "</table>\n",
       "<p>5 rows × 2409 columns</p>\n",
       "</div>"
      ],
      "text/plain": [
       "      lp__  accept_stat__  stepsize__  treedepth__  n_leapfrog__  divergent__  \\\n",
       "0 -4373.45            0.0     14.3855          0.0           1.0          1.0   \n",
       "1 -4373.45            0.0     14.3855          0.0           1.0          1.0   \n",
       "2 -4373.45            0.0     14.3855          0.0           1.0          1.0   \n",
       "3 -4373.45            0.0     14.3855          0.0           1.0          1.0   \n",
       "4 -4373.45            0.0     14.3855          0.0           1.0          1.0   \n",
       "\n",
       "   energy__    sigma        mu  log_lik[1]  ...  y_hat[1191]  y_hat[1192]  \\\n",
       "0   4373.48  2.17394  0.954686    -1.71069  ...     0.150260     1.734350   \n",
       "1   4375.99  2.17394  0.954686    -1.71069  ...     4.028660     0.226361   \n",
       "2   4373.89  2.17394  0.954686    -1.71069  ...    -1.498660     3.032830   \n",
       "3   4373.68  2.17394  0.954686    -1.71069  ...    -0.891905     0.259741   \n",
       "4   4374.41  2.17394  0.954686    -1.71069  ...    -0.532057     2.382950   \n",
       "\n",
       "   y_hat[1193]  y_hat[1194]  y_hat[1195]  y_hat[1196]  y_hat[1197]  \\\n",
       "0      2.42123    -0.348656     1.126090    -0.300249    -0.727573   \n",
       "1      4.45301     1.904000     3.946810     0.911031    -0.814353   \n",
       "2      2.29637     0.274810     0.927857     0.582819     0.228932   \n",
       "3      1.66791    -1.529680     0.809294     3.288220    -3.023460   \n",
       "4      5.32216     2.411900     2.962920     2.130670    -1.238460   \n",
       "\n",
       "   y_hat[1198]  y_hat[1199]  y_hat[1200]  \n",
       "0    -0.757951     1.593150     2.651520  \n",
       "1     0.360253     0.214708     1.732650  \n",
       "2     0.343525    -3.026890    -0.216942  \n",
       "3     3.085600     2.758240     0.554709  \n",
       "4     2.730480     0.108342    -1.138650  \n",
       "\n",
       "[5 rows x 2409 columns]"
      ]
     },
     "execution_count": 147,
     "metadata": {},
     "output_type": "execute_result"
    }
   ],
   "source": [
    "df3 = fit_model_3.draws_pd()\n",
    "df3.head()"
   ]
  },
  {
   "cell_type": "code",
   "execution_count": 148,
   "metadata": {},
   "outputs": [
    {
     "name": "stderr",
     "output_type": "stream",
     "text": [
      "INFO:cmdstanpy:CmdStan start processing\n",
      "chain 1 |\u001b[34m██████████\u001b[0m| 00:00 Sampling completed                     "
     ]
    },
    {
     "name": "stdout",
     "output_type": "stream",
     "text": [
      "                                                                                "
     ]
    },
    {
     "name": "stderr",
     "output_type": "stream",
     "text": [
      "\n",
      "INFO:cmdstanpy:CmdStan done processing.\n"
     ]
    },
    {
     "name": "stdout",
     "output_type": "stream",
     "text": [
      "\n"
     ]
    }
   ],
   "source": [
    "fit_model_4 = model_4.sample(data=data_fit, iter_sampling=100, iter_warmup=1, chains=1, seed=29042020)"
   ]
  },
  {
   "cell_type": "code",
   "execution_count": 149,
   "metadata": {},
   "outputs": [
    {
     "data": {
      "text/html": [
       "<div>\n",
       "<style scoped>\n",
       "    .dataframe tbody tr th:only-of-type {\n",
       "        vertical-align: middle;\n",
       "    }\n",
       "\n",
       "    .dataframe tbody tr th {\n",
       "        vertical-align: top;\n",
       "    }\n",
       "\n",
       "    .dataframe thead th {\n",
       "        text-align: right;\n",
       "    }\n",
       "</style>\n",
       "<table border=\"1\" class=\"dataframe\">\n",
       "  <thead>\n",
       "    <tr style=\"text-align: right;\">\n",
       "      <th></th>\n",
       "      <th>lp__</th>\n",
       "      <th>accept_stat__</th>\n",
       "      <th>stepsize__</th>\n",
       "      <th>treedepth__</th>\n",
       "      <th>n_leapfrog__</th>\n",
       "      <th>divergent__</th>\n",
       "      <th>energy__</th>\n",
       "      <th>sigma</th>\n",
       "      <th>mu</th>\n",
       "      <th>nu</th>\n",
       "      <th>...</th>\n",
       "      <th>y_hat[1191]</th>\n",
       "      <th>y_hat[1192]</th>\n",
       "      <th>y_hat[1193]</th>\n",
       "      <th>y_hat[1194]</th>\n",
       "      <th>y_hat[1195]</th>\n",
       "      <th>y_hat[1196]</th>\n",
       "      <th>y_hat[1197]</th>\n",
       "      <th>y_hat[1198]</th>\n",
       "      <th>y_hat[1199]</th>\n",
       "      <th>y_hat[1200]</th>\n",
       "    </tr>\n",
       "  </thead>\n",
       "  <tbody>\n",
       "    <tr>\n",
       "      <th>0</th>\n",
       "      <td>-2582.95</td>\n",
       "      <td>0.0</td>\n",
       "      <td>14.3855</td>\n",
       "      <td>0.0</td>\n",
       "      <td>1.0</td>\n",
       "      <td>1.0</td>\n",
       "      <td>2584.37</td>\n",
       "      <td>1.08406</td>\n",
       "      <td>0.959485</td>\n",
       "      <td>3.99223</td>\n",
       "      <td>...</td>\n",
       "      <td>1.261540</td>\n",
       "      <td>0.998269</td>\n",
       "      <td>1.602410</td>\n",
       "      <td>1.361130</td>\n",
       "      <td>2.125510</td>\n",
       "      <td>-0.590006</td>\n",
       "      <td>0.438321</td>\n",
       "      <td>1.356110</td>\n",
       "      <td>1.650860</td>\n",
       "      <td>0.789892</td>\n",
       "    </tr>\n",
       "    <tr>\n",
       "      <th>1</th>\n",
       "      <td>-2582.95</td>\n",
       "      <td>0.0</td>\n",
       "      <td>14.3855</td>\n",
       "      <td>0.0</td>\n",
       "      <td>1.0</td>\n",
       "      <td>1.0</td>\n",
       "      <td>2583.10</td>\n",
       "      <td>1.08406</td>\n",
       "      <td>0.959485</td>\n",
       "      <td>3.99223</td>\n",
       "      <td>...</td>\n",
       "      <td>-0.202406</td>\n",
       "      <td>2.529170</td>\n",
       "      <td>2.729490</td>\n",
       "      <td>1.683050</td>\n",
       "      <td>2.965080</td>\n",
       "      <td>2.029500</td>\n",
       "      <td>1.043730</td>\n",
       "      <td>1.024930</td>\n",
       "      <td>0.733501</td>\n",
       "      <td>0.856269</td>\n",
       "    </tr>\n",
       "    <tr>\n",
       "      <th>2</th>\n",
       "      <td>-2582.95</td>\n",
       "      <td>0.0</td>\n",
       "      <td>14.3855</td>\n",
       "      <td>0.0</td>\n",
       "      <td>1.0</td>\n",
       "      <td>1.0</td>\n",
       "      <td>2583.49</td>\n",
       "      <td>1.08406</td>\n",
       "      <td>0.959485</td>\n",
       "      <td>3.99223</td>\n",
       "      <td>...</td>\n",
       "      <td>-1.299170</td>\n",
       "      <td>0.760603</td>\n",
       "      <td>0.222384</td>\n",
       "      <td>3.059480</td>\n",
       "      <td>1.439050</td>\n",
       "      <td>0.940473</td>\n",
       "      <td>0.656061</td>\n",
       "      <td>-1.356510</td>\n",
       "      <td>0.639779</td>\n",
       "      <td>-0.404714</td>\n",
       "    </tr>\n",
       "    <tr>\n",
       "      <th>3</th>\n",
       "      <td>-2582.95</td>\n",
       "      <td>0.0</td>\n",
       "      <td>14.3855</td>\n",
       "      <td>0.0</td>\n",
       "      <td>1.0</td>\n",
       "      <td>1.0</td>\n",
       "      <td>2583.13</td>\n",
       "      <td>1.08406</td>\n",
       "      <td>0.959485</td>\n",
       "      <td>3.99223</td>\n",
       "      <td>...</td>\n",
       "      <td>0.612716</td>\n",
       "      <td>1.317380</td>\n",
       "      <td>-0.608283</td>\n",
       "      <td>0.950094</td>\n",
       "      <td>-0.991957</td>\n",
       "      <td>-0.401235</td>\n",
       "      <td>2.666700</td>\n",
       "      <td>0.498043</td>\n",
       "      <td>1.925760</td>\n",
       "      <td>1.608020</td>\n",
       "    </tr>\n",
       "    <tr>\n",
       "      <th>4</th>\n",
       "      <td>-2582.95</td>\n",
       "      <td>0.0</td>\n",
       "      <td>14.3855</td>\n",
       "      <td>0.0</td>\n",
       "      <td>1.0</td>\n",
       "      <td>1.0</td>\n",
       "      <td>2584.59</td>\n",
       "      <td>1.08406</td>\n",
       "      <td>0.959485</td>\n",
       "      <td>3.99223</td>\n",
       "      <td>...</td>\n",
       "      <td>0.719501</td>\n",
       "      <td>1.520610</td>\n",
       "      <td>1.605090</td>\n",
       "      <td>2.061540</td>\n",
       "      <td>0.400561</td>\n",
       "      <td>-0.628593</td>\n",
       "      <td>1.746280</td>\n",
       "      <td>0.671193</td>\n",
       "      <td>0.911241</td>\n",
       "      <td>0.949961</td>\n",
       "    </tr>\n",
       "  </tbody>\n",
       "</table>\n",
       "<p>5 rows × 2410 columns</p>\n",
       "</div>"
      ],
      "text/plain": [
       "      lp__  accept_stat__  stepsize__  treedepth__  n_leapfrog__  divergent__  \\\n",
       "0 -2582.95            0.0     14.3855          0.0           1.0          1.0   \n",
       "1 -2582.95            0.0     14.3855          0.0           1.0          1.0   \n",
       "2 -2582.95            0.0     14.3855          0.0           1.0          1.0   \n",
       "3 -2582.95            0.0     14.3855          0.0           1.0          1.0   \n",
       "4 -2582.95            0.0     14.3855          0.0           1.0          1.0   \n",
       "\n",
       "   energy__    sigma        mu       nu  ...  y_hat[1191]  y_hat[1192]  \\\n",
       "0   2584.37  1.08406  0.959485  3.99223  ...     1.261540     0.998269   \n",
       "1   2583.10  1.08406  0.959485  3.99223  ...    -0.202406     2.529170   \n",
       "2   2583.49  1.08406  0.959485  3.99223  ...    -1.299170     0.760603   \n",
       "3   2583.13  1.08406  0.959485  3.99223  ...     0.612716     1.317380   \n",
       "4   2584.59  1.08406  0.959485  3.99223  ...     0.719501     1.520610   \n",
       "\n",
       "   y_hat[1193]  y_hat[1194]  y_hat[1195]  y_hat[1196]  y_hat[1197]  \\\n",
       "0     1.602410     1.361130     2.125510    -0.590006     0.438321   \n",
       "1     2.729490     1.683050     2.965080     2.029500     1.043730   \n",
       "2     0.222384     3.059480     1.439050     0.940473     0.656061   \n",
       "3    -0.608283     0.950094    -0.991957    -0.401235     2.666700   \n",
       "4     1.605090     2.061540     0.400561    -0.628593     1.746280   \n",
       "\n",
       "   y_hat[1198]  y_hat[1199]  y_hat[1200]  \n",
       "0     1.356110     1.650860     0.789892  \n",
       "1     1.024930     0.733501     0.856269  \n",
       "2    -1.356510     0.639779    -0.404714  \n",
       "3     0.498043     1.925760     1.608020  \n",
       "4     0.671193     0.911241     0.949961  \n",
       "\n",
       "[5 rows x 2410 columns]"
      ]
     },
     "execution_count": 149,
     "metadata": {},
     "output_type": "execute_result"
    }
   ],
   "source": [
    "df4 = fit_model_4.draws_pd()\n",
    "df4.head()\n",
    "#df4.shape"
   ]
  },
  {
   "cell_type": "code",
   "execution_count": 150,
   "metadata": {},
   "outputs": [],
   "source": [
    "comp_dict = {'normal': fit_model_3, 'student': fit_model_4}"
   ]
  },
  {
   "cell_type": "code",
   "execution_count": 151,
   "metadata": {},
   "outputs": [
    {
     "name": "stderr",
     "output_type": "stream",
     "text": [
      "/usr/local/lib/python3.12/site-packages/arviz/stats/stats.py:811: UserWarning: Estimated shape parameter of Pareto distribution is greater than 0.7 for one or more samples. You should consider using a more robust model, this is because importance sampling is less likely to work well if the marginal posterior and LOO posterior are very different. This is more likely to happen with a non-robust model and highly influential observations.\n",
      "  warnings.warn(\n",
      "/usr/local/lib/python3.12/site-packages/arviz/stats/stats.py:811: UserWarning: Estimated shape parameter of Pareto distribution is greater than 0.7 for one or more samples. You should consider using a more robust model, this is because importance sampling is less likely to work well if the marginal posterior and LOO posterior are very different. This is more likely to happen with a non-robust model and highly influential observations.\n",
      "  warnings.warn(\n"
     ]
    },
    {
     "data": {
      "image/png": "[encoded data removed]",
      "text/plain": [
       "<Figure size 432x144 with 1 Axes>"
      ]
     },
     "metadata": {
      "needs_background": "light"
     },
     "output_type": "display_data"
    }
   ],
   "source": [
    "comp_loo = az.compare(comp_dict, ic='loo', scale='deviance')\n",
    "az.plot_compare(comp_loo)\n",
    "plt.title(\"Loo metric\")\n",
    "plt.show()"
   ]
  },
  {
   "cell_type": "code",
   "execution_count": 152,
   "metadata": {},
   "outputs": [
    {
     "data": {
      "image/png": "[encoded data removed]",
      "text/plain": [
       "<Figure size 432x144 with 1 Axes>"
      ]
     },
     "metadata": {
      "needs_background": "light"
     },
     "output_type": "display_data"
    }
   ],
   "source": [
    "comp_waic = az.compare(comp_dict, ic='waic', scale='deviance')\n",
    "az.plot_compare(comp_waic)\n",
    "plt.title(\"Waic metric\")\n",
    "plt.show()"
   ]
  },
  {
   "cell_type": "markdown",
   "metadata": {},
   "source": [
    "Student model definitely better fits to data than model with normal distribution. "
   ]
  },
  {
   "cell_type": "code",
   "execution_count": 153,
   "metadata": {},
   "outputs": [
    {
     "name": "stdout",
     "output_type": "stream",
     "text": [
      "Overwriting home/lab6_code_5.stan\n"
     ]
    }
   ],
   "source": [
    "%%writefile home/lab6_code_5.stan\n",
    "\n",
    "data {\n",
    "    int N;\n",
    "    int K;\n",
    "    array [N] real  y;\n",
    "    matrix[N, K] X;\n",
    "}\n",
    "\n",
    "parameters {\n",
    "    real<lower=0> sigma;\n",
    "    vector [K] beta;\n",
    "}\n",
    "\n",
    "transformed parameters {\n",
    "    vector [N] mu;\n",
    "    mu = X * beta;\n",
    "}\n",
    "\n",
    "model {\n",
    "    y ~ normal(mu, sigma);\n",
    "}\n",
    "\n",
    "generated quantities {\n",
    "    vector [N] log_lik;\n",
    "    array [N] real y_hat;\n",
    "    for (j in 1:N) {\n",
    "        log_lik[j] = normal_lpdf(y[j] | mu[j], sigma);\n",
    "        y_hat[j] = normal_rng(mu[j], sigma);\n",
    "    }\n",
    "}"
   ]
  },
  {
   "cell_type": "code",
   "execution_count": 154,
   "metadata": {},
   "outputs": [
    {
     "name": "stderr",
     "output_type": "stream",
     "text": [
      "INFO:cmdstanpy:compiling stan file /home/lab6_code_5.stan to exe file /home/lab6_code_5\n",
      "INFO:cmdstanpy:compiled model executable: /home/lab6_code_5\n"
     ]
    }
   ],
   "source": [
    "model_5=CmdStanModel(stan_file='home/lab6_code_5.stan')"
   ]
  },
  {
   "cell_type": "code",
   "execution_count": 155,
   "metadata": {},
   "outputs": [
    {
     "data": {
      "text/html": [
       "<div>\n",
       "<style scoped>\n",
       "    .dataframe tbody tr th:only-of-type {\n",
       "        vertical-align: middle;\n",
       "    }\n",
       "\n",
       "    .dataframe tbody tr th {\n",
       "        vertical-align: top;\n",
       "    }\n",
       "\n",
       "    .dataframe thead th {\n",
       "        text-align: right;\n",
       "    }\n",
       "</style>\n",
       "<table border=\"1\" class=\"dataframe\">\n",
       "  <thead>\n",
       "    <tr style=\"text-align: right;\">\n",
       "      <th></th>\n",
       "      <th>lp__</th>\n",
       "      <th>accept_stat__</th>\n",
       "      <th>X[1,1]</th>\n",
       "      <th>X[2,1]</th>\n",
       "      <th>X[3,1]</th>\n",
       "      <th>X[4,1]</th>\n",
       "      <th>X[5,1]</th>\n",
       "      <th>X[6,1]</th>\n",
       "      <th>X[7,1]</th>\n",
       "      <th>X[8,1]</th>\n",
       "      <th>...</th>\n",
       "      <th>y[1191]</th>\n",
       "      <th>y[1192]</th>\n",
       "      <th>y[1193]</th>\n",
       "      <th>y[1194]</th>\n",
       "      <th>y[1195]</th>\n",
       "      <th>y[1196]</th>\n",
       "      <th>y[1197]</th>\n",
       "      <th>y[1198]</th>\n",
       "      <th>y[1199]</th>\n",
       "      <th>y[1200]</th>\n",
       "    </tr>\n",
       "  </thead>\n",
       "  <tbody>\n",
       "    <tr>\n",
       "      <th>0</th>\n",
       "      <td>0.0</td>\n",
       "      <td>0.0</td>\n",
       "      <td>2.70817</td>\n",
       "      <td>0.777181</td>\n",
       "      <td>-1.27227</td>\n",
       "      <td>0.127591</td>\n",
       "      <td>-1.38942</td>\n",
       "      <td>0.246162</td>\n",
       "      <td>1.19873</td>\n",
       "      <td>2.26533</td>\n",
       "      <td>...</td>\n",
       "      <td>-1.73839</td>\n",
       "      <td>5.82632</td>\n",
       "      <td>0.467584</td>\n",
       "      <td>5.68971</td>\n",
       "      <td>1.48844</td>\n",
       "      <td>-1.80466</td>\n",
       "      <td>-2.98097</td>\n",
       "      <td>2.59505</td>\n",
       "      <td>-3.23928</td>\n",
       "      <td>1.37315</td>\n",
       "    </tr>\n",
       "  </tbody>\n",
       "</table>\n",
       "<p>1 rows × 4805 columns</p>\n",
       "</div>"
      ],
      "text/plain": [
       "   lp__  accept_stat__   X[1,1]    X[2,1]   X[3,1]    X[4,1]   X[5,1]  \\\n",
       "0   0.0            0.0  2.70817  0.777181 -1.27227  0.127591 -1.38942   \n",
       "\n",
       "     X[6,1]   X[7,1]   X[8,1]  ...  y[1191]  y[1192]   y[1193]  y[1194]  \\\n",
       "0  0.246162  1.19873  2.26533  ... -1.73839  5.82632  0.467584  5.68971   \n",
       "\n",
       "   y[1195]  y[1196]  y[1197]  y[1198]  y[1199]  y[1200]  \n",
       "0  1.48844 -1.80466 -2.98097  2.59505 -3.23928  1.37315  \n",
       "\n",
       "[1 rows x 4805 columns]"
      ]
     },
     "execution_count": 155,
     "metadata": {},
     "output_type": "execute_result"
    }
   ],
   "source": [
    "df2.head()"
   ]
  },
  {
   "cell_type": "markdown",
   "metadata": {},
   "source": [
    "1 predictor"
   ]
  },
  {
   "cell_type": "code",
   "execution_count": 156,
   "metadata": {},
   "outputs": [],
   "source": [
    "dt_y = df2.loc[0, 'y[1]':]\n",
    "dt_x = df2.loc[:, 'X[1,1]':f'X[{N},1]'].values.reshape((N, 1))\n",
    "data_fit = {'N': N, 'K': 1, 'y': dt_y, 'X': dt_x}\n",
    "#dt_y.shape\n",
    "#dt_x.shape"
   ]
  },
  {
   "cell_type": "code",
   "execution_count": 157,
   "metadata": {},
   "outputs": [
    {
     "name": "stderr",
     "output_type": "stream",
     "text": [
      "INFO:cmdstanpy:CmdStan start processing\n",
      "chain 1 |\u001b[34m██████████\u001b[0m| 00:00 Sampling completed                     "
     ]
    },
    {
     "name": "stdout",
     "output_type": "stream",
     "text": [
      "                                                                                "
     ]
    },
    {
     "name": "stderr",
     "output_type": "stream",
     "text": [
      "\n",
      "INFO:cmdstanpy:CmdStan done processing.\n"
     ]
    },
    {
     "name": "stdout",
     "output_type": "stream",
     "text": [
      "\n"
     ]
    }
   ],
   "source": [
    "fit_model_5_pred1 = model_5.sample(data=data_fit, iter_sampling=100, iter_warmup=1, chains=1, seed=29042020)"
   ]
  },
  {
   "cell_type": "markdown",
   "metadata": {},
   "source": [
    "2 predictors"
   ]
  },
  {
   "cell_type": "code",
   "execution_count": 158,
   "metadata": {},
   "outputs": [
    {
     "name": "stderr",
     "output_type": "stream",
     "text": [
      "INFO:cmdstanpy:CmdStan start processing\n",
      "chain 1 |\u001b[34m██████████\u001b[0m| 00:00 Sampling completed                     "
     ]
    },
    {
     "name": "stdout",
     "output_type": "stream",
     "text": [
      "                                                                                "
     ]
    },
    {
     "name": "stderr",
     "output_type": "stream",
     "text": [
      "\n",
      "INFO:cmdstanpy:CmdStan done processing.\n"
     ]
    },
    {
     "name": "stdout",
     "output_type": "stream",
     "text": [
      "\n"
     ]
    }
   ],
   "source": [
    "dt_y = df2.loc[0, 'y[1]':]\n",
    "dt_x = df2.loc[:, 'X[1,1]':f'X[{N},2]'].values.reshape((N, 2))\n",
    "data_fit = {'N': N, 'K': 2, 'y': dt_y, 'X': dt_x}\n",
    "fit_model_5_pred2 = model_5.sample(data=data_fit, iter_sampling=100, iter_warmup=1, chains=1, seed=29042020)"
   ]
  },
  {
   "cell_type": "markdown",
   "metadata": {},
   "source": [
    "3 predictors"
   ]
  },
  {
   "cell_type": "code",
   "execution_count": 159,
   "metadata": {},
   "outputs": [
    {
     "name": "stderr",
     "output_type": "stream",
     "text": [
      "INFO:cmdstanpy:CmdStan start processing\n",
      "chain 1 |\u001b[34m██████████\u001b[0m| 00:00 Sampling completed                     "
     ]
    },
    {
     "name": "stdout",
     "output_type": "stream",
     "text": [
      "                                                                                "
     ]
    },
    {
     "name": "stderr",
     "output_type": "stream",
     "text": [
      "\n",
      "INFO:cmdstanpy:CmdStan done processing.\n"
     ]
    },
    {
     "name": "stdout",
     "output_type": "stream",
     "text": [
      "\n"
     ]
    }
   ],
   "source": [
    "dt_y = df2.loc[0, 'y[1]':]\n",
    "dt_x = df2.loc[:, 'X[1,1]':f'X[{N},3]'].values.reshape((N, 3))\n",
    "data_fit = {'N': N, 'K': 3, 'y': dt_y, 'X': dt_x}\n",
    "fit_model_5_pred3 = model_5.sample(data=data_fit, iter_sampling=100, iter_warmup=1, chains=1, seed=29042020)"
   ]
  },
  {
   "cell_type": "code",
   "execution_count": 160,
   "metadata": {},
   "outputs": [],
   "source": [
    "comp_dict = {\n",
    "    'Model with 1 predictor': fit_model_5_pred1,\n",
    "    'Model with 2 predictors': fit_model_5_pred2,\n",
    "    'Model with 3 predictors': fit_model_5_pred3\n",
    "    }"
   ]
  },
  {
   "cell_type": "code",
   "execution_count": 161,
   "metadata": {},
   "outputs": [
    {
     "name": "stderr",
     "output_type": "stream",
     "text": [
      "/usr/local/lib/python3.12/site-packages/arviz/stats/stats.py:811: UserWarning: Estimated shape parameter of Pareto distribution is greater than 0.7 for one or more samples. You should consider using a more robust model, this is because importance sampling is less likely to work well if the marginal posterior and LOO posterior are very different. This is more likely to happen with a non-robust model and highly influential observations.\n",
      "  warnings.warn(\n",
      "/usr/local/lib/python3.12/site-packages/arviz/stats/stats.py:811: UserWarning: Estimated shape parameter of Pareto distribution is greater than 0.7 for one or more samples. You should consider using a more robust model, this is because importance sampling is less likely to work well if the marginal posterior and LOO posterior are very different. This is more likely to happen with a non-robust model and highly influential observations.\n",
      "  warnings.warn(\n",
      "/usr/local/lib/python3.12/site-packages/arviz/stats/stats.py:811: UserWarning: Estimated shape parameter of Pareto distribution is greater than 0.7 for one or more samples. You should consider using a more robust model, this is because importance sampling is less likely to work well if the marginal posterior and LOO posterior are very different. This is more likely to happen with a non-robust model and highly influential observations.\n",
      "  warnings.warn(\n"
     ]
    },
    {
     "data": {
      "image/png": "[encoded data removed]",
      "text/plain": [
       "<Figure size 432x216 with 1 Axes>"
      ]
     },
     "metadata": {
      "needs_background": "light"
     },
     "output_type": "display_data"
    }
   ],
   "source": [
    "comp_loo = az.compare(compare_dict=comp_dict, ic='loo', scale='deviance')\n",
    "az.plot_compare(comp_loo)\n",
    "plt.title(\"Loo metric\")\n",
    "plt.show()"
   ]
  },
  {
   "cell_type": "code",
   "execution_count": 162,
   "metadata": {},
   "outputs": [
    {
     "data": {
      "image/png": "[encoded data removed]",
      "text/plain": [
       "<Figure size 432x216 with 1 Axes>"
      ]
     },
     "metadata": {
      "needs_background": "light"
     },
     "output_type": "display_data"
    }
   ],
   "source": [
    "comp_waic = az.compare(compare_dict=comp_dict, ic='waic', scale='deviance')\n",
    "az.plot_compare(comp_waic)\n",
    "plt.title(\"Waic metric\")\n",
    "plt.show()"
   ]
  },
  {
   "cell_type": "markdown",
   "metadata": {},
   "source": [
    "According to Loo and Waic metrics, model with 1 predictor fits the best to the generated data, models with 2 and 3 predictors are very similiar but significantly worse than first model.  "
   ]
  }
 ],
 "metadata": {
  "kernelspec": {
   "display_name": "Python 3",
   "language": "python",
   "name": "python3"
  },
  "language_info": {
   "codemirror_mode": {
    "name": "ipython",
    "version": 3
   },
   "file_extension": ".py",
   "mimetype": "text/x-python",
   "name": "python",
   "nbconvert_exporter": "python",
   "pygments_lexer": "ipython3",
   "version": "3.12.2"
  }
 },
 "nbformat": 4,
 "nbformat_minor": 2
}
