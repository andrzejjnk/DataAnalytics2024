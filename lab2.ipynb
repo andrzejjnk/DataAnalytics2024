{
 "cells": [
  {
   "cell_type": "code",
   "execution_count": 2,
   "metadata": {},
   "outputs": [],
   "source": [
    "from cmdstanpy import CmdStanModel\n",
    "import pandas as pd\n",
    "import arviz as az \n",
    "import numpy as np\n",
    "import matplotlib.pyplot as plt\n",
    "import scipy.stats as stats\n"
   ]
  },
  {
   "cell_type": "code",
   "execution_count": 3,
   "metadata": {},
   "outputs": [],
   "source": [
    "F = 7\n",
    "L = 5"
   ]
  },
  {
   "cell_type": "markdown",
   "metadata": {},
   "source": [
    "## Excercise 1 -  Generated Quantities Block"
   ]
  },
  {
   "cell_type": "code",
   "execution_count": 4,
   "metadata": {},
   "outputs": [
    {
     "name": "stdout",
     "output_type": "stream",
     "text": [
      "Overwriting home/code_1.stan\n"
     ]
    }
   ],
   "source": [
    "%%writefile home/code_1.stan\n",
    "data {\n",
    "    int M;\n",
    "}\n",
    "\n",
    "generated quantities {\n",
    "    real lambda=abs(normal_rng(0, 121));\n",
    "    array [M] int y_sim;\n",
    "    for (k in 1:M) {\n",
    "        y_sim[k] = poisson_rng(lambda);\n",
    "    }\n",
    "}\n"
   ]
  },
  {
   "cell_type": "code",
   "execution_count": 5,
   "metadata": {},
   "outputs": [
    {
     "name": "stderr",
     "output_type": "stream",
     "text": [
      "INFO:cmdstanpy:compiling stan file /home/code_1.stan to exe file /home/code_1\n",
      "INFO:cmdstanpy:compiled model executable: /home/code_1\n"
     ]
    }
   ],
   "source": [
    "gen_quant = CmdStanModel(stan_file='home/code_1.stan')"
   ]
  },
  {
   "cell_type": "code",
   "execution_count": 6,
   "metadata": {},
   "outputs": [
    {
     "name": "stderr",
     "output_type": "stream",
     "text": [
      "INFO:cmdstanpy:CmdStan start processing\n",
      "chain 1 |\u001b[33m          \u001b[0m| 00:00 Status"
     ]
    },
    {
     "name": "stderr",
     "output_type": "stream",
     "text": [
      "chain 1 |\u001b[34m██████████\u001b[0m| 00:00 Sampling completed                      "
     ]
    },
    {
     "name": "stdout",
     "output_type": "stream",
     "text": [
      "                                                                                "
     ]
    },
    {
     "name": "stderr",
     "output_type": "stream",
     "text": [
      "\n",
      "INFO:cmdstanpy:CmdStan done processing.\n"
     ]
    },
    {
     "name": "stdout",
     "output_type": "stream",
     "text": [
      "\n"
     ]
    }
   ],
   "source": [
    "samples = gen_quant.sample(data={'M':F}, \n",
    "                            fixed_param=True, \n",
    "                            iter_sampling=1000, \n",
    "                            iter_warmup=1,\n",
    "                            chains = 1)"
   ]
  },
  {
   "cell_type": "code",
   "execution_count": 7,
   "metadata": {},
   "outputs": [
    {
     "data": {
      "text/plain": [
       "(1000, 1, 10)"
      ]
     },
     "execution_count": 7,
     "metadata": {},
     "output_type": "execute_result"
    }
   ],
   "source": [
    "samples.draws().shape"
   ]
  },
  {
   "cell_type": "code",
   "execution_count": 8,
   "metadata": {},
   "outputs": [
    {
     "data": {
      "text/html": [
       "<div>\n",
       "<style scoped>\n",
       "    .dataframe tbody tr th:only-of-type {\n",
       "        vertical-align: middle;\n",
       "    }\n",
       "\n",
       "    .dataframe tbody tr th {\n",
       "        vertical-align: top;\n",
       "    }\n",
       "\n",
       "    .dataframe thead th {\n",
       "        text-align: right;\n",
       "    }\n",
       "</style>\n",
       "<table border=\"1\" class=\"dataframe\">\n",
       "  <thead>\n",
       "    <tr style=\"text-align: right;\">\n",
       "      <th></th>\n",
       "      <th>lp__</th>\n",
       "      <th>accept_stat__</th>\n",
       "      <th>lambda</th>\n",
       "      <th>y_sim[1]</th>\n",
       "      <th>y_sim[2]</th>\n",
       "      <th>y_sim[3]</th>\n",
       "      <th>y_sim[4]</th>\n",
       "      <th>y_sim[5]</th>\n",
       "      <th>y_sim[6]</th>\n",
       "      <th>y_sim[7]</th>\n",
       "    </tr>\n",
       "  </thead>\n",
       "  <tbody>\n",
       "    <tr>\n",
       "      <th>0</th>\n",
       "      <td>0.0</td>\n",
       "      <td>0.0</td>\n",
       "      <td>106.8100</td>\n",
       "      <td>97.0</td>\n",
       "      <td>107.0</td>\n",
       "      <td>119.0</td>\n",
       "      <td>97.0</td>\n",
       "      <td>107.0</td>\n",
       "      <td>109.0</td>\n",
       "      <td>111.0</td>\n",
       "    </tr>\n",
       "    <tr>\n",
       "      <th>1</th>\n",
       "      <td>0.0</td>\n",
       "      <td>0.0</td>\n",
       "      <td>37.7221</td>\n",
       "      <td>50.0</td>\n",
       "      <td>32.0</td>\n",
       "      <td>41.0</td>\n",
       "      <td>27.0</td>\n",
       "      <td>41.0</td>\n",
       "      <td>33.0</td>\n",
       "      <td>39.0</td>\n",
       "    </tr>\n",
       "    <tr>\n",
       "      <th>2</th>\n",
       "      <td>0.0</td>\n",
       "      <td>0.0</td>\n",
       "      <td>75.7833</td>\n",
       "      <td>76.0</td>\n",
       "      <td>68.0</td>\n",
       "      <td>72.0</td>\n",
       "      <td>88.0</td>\n",
       "      <td>86.0</td>\n",
       "      <td>76.0</td>\n",
       "      <td>74.0</td>\n",
       "    </tr>\n",
       "    <tr>\n",
       "      <th>3</th>\n",
       "      <td>0.0</td>\n",
       "      <td>0.0</td>\n",
       "      <td>22.3972</td>\n",
       "      <td>19.0</td>\n",
       "      <td>27.0</td>\n",
       "      <td>30.0</td>\n",
       "      <td>23.0</td>\n",
       "      <td>19.0</td>\n",
       "      <td>19.0</td>\n",
       "      <td>18.0</td>\n",
       "    </tr>\n",
       "    <tr>\n",
       "      <th>4</th>\n",
       "      <td>0.0</td>\n",
       "      <td>0.0</td>\n",
       "      <td>143.2200</td>\n",
       "      <td>135.0</td>\n",
       "      <td>144.0</td>\n",
       "      <td>151.0</td>\n",
       "      <td>137.0</td>\n",
       "      <td>157.0</td>\n",
       "      <td>146.0</td>\n",
       "      <td>133.0</td>\n",
       "    </tr>\n",
       "    <tr>\n",
       "      <th>...</th>\n",
       "      <td>...</td>\n",
       "      <td>...</td>\n",
       "      <td>...</td>\n",
       "      <td>...</td>\n",
       "      <td>...</td>\n",
       "      <td>...</td>\n",
       "      <td>...</td>\n",
       "      <td>...</td>\n",
       "      <td>...</td>\n",
       "      <td>...</td>\n",
       "    </tr>\n",
       "    <tr>\n",
       "      <th>995</th>\n",
       "      <td>0.0</td>\n",
       "      <td>0.0</td>\n",
       "      <td>93.4535</td>\n",
       "      <td>99.0</td>\n",
       "      <td>94.0</td>\n",
       "      <td>81.0</td>\n",
       "      <td>95.0</td>\n",
       "      <td>98.0</td>\n",
       "      <td>103.0</td>\n",
       "      <td>106.0</td>\n",
       "    </tr>\n",
       "    <tr>\n",
       "      <th>996</th>\n",
       "      <td>0.0</td>\n",
       "      <td>0.0</td>\n",
       "      <td>128.7080</td>\n",
       "      <td>114.0</td>\n",
       "      <td>123.0</td>\n",
       "      <td>143.0</td>\n",
       "      <td>122.0</td>\n",
       "      <td>135.0</td>\n",
       "      <td>122.0</td>\n",
       "      <td>123.0</td>\n",
       "    </tr>\n",
       "    <tr>\n",
       "      <th>997</th>\n",
       "      <td>0.0</td>\n",
       "      <td>0.0</td>\n",
       "      <td>155.5770</td>\n",
       "      <td>147.0</td>\n",
       "      <td>144.0</td>\n",
       "      <td>162.0</td>\n",
       "      <td>152.0</td>\n",
       "      <td>136.0</td>\n",
       "      <td>146.0</td>\n",
       "      <td>143.0</td>\n",
       "    </tr>\n",
       "    <tr>\n",
       "      <th>998</th>\n",
       "      <td>0.0</td>\n",
       "      <td>0.0</td>\n",
       "      <td>87.7448</td>\n",
       "      <td>81.0</td>\n",
       "      <td>71.0</td>\n",
       "      <td>92.0</td>\n",
       "      <td>89.0</td>\n",
       "      <td>96.0</td>\n",
       "      <td>86.0</td>\n",
       "      <td>84.0</td>\n",
       "    </tr>\n",
       "    <tr>\n",
       "      <th>999</th>\n",
       "      <td>0.0</td>\n",
       "      <td>0.0</td>\n",
       "      <td>95.2978</td>\n",
       "      <td>70.0</td>\n",
       "      <td>101.0</td>\n",
       "      <td>113.0</td>\n",
       "      <td>110.0</td>\n",
       "      <td>102.0</td>\n",
       "      <td>91.0</td>\n",
       "      <td>84.0</td>\n",
       "    </tr>\n",
       "  </tbody>\n",
       "</table>\n",
       "<p>1000 rows × 10 columns</p>\n",
       "</div>"
      ],
      "text/plain": [
       "     lp__  accept_stat__    lambda  y_sim[1]  y_sim[2]  y_sim[3]  y_sim[4]  \\\n",
       "0     0.0            0.0  106.8100      97.0     107.0     119.0      97.0   \n",
       "1     0.0            0.0   37.7221      50.0      32.0      41.0      27.0   \n",
       "2     0.0            0.0   75.7833      76.0      68.0      72.0      88.0   \n",
       "3     0.0            0.0   22.3972      19.0      27.0      30.0      23.0   \n",
       "4     0.0            0.0  143.2200     135.0     144.0     151.0     137.0   \n",
       "..    ...            ...       ...       ...       ...       ...       ...   \n",
       "995   0.0            0.0   93.4535      99.0      94.0      81.0      95.0   \n",
       "996   0.0            0.0  128.7080     114.0     123.0     143.0     122.0   \n",
       "997   0.0            0.0  155.5770     147.0     144.0     162.0     152.0   \n",
       "998   0.0            0.0   87.7448      81.0      71.0      92.0      89.0   \n",
       "999   0.0            0.0   95.2978      70.0     101.0     113.0     110.0   \n",
       "\n",
       "     y_sim[5]  y_sim[6]  y_sim[7]  \n",
       "0       107.0     109.0     111.0  \n",
       "1        41.0      33.0      39.0  \n",
       "2        86.0      76.0      74.0  \n",
       "3        19.0      19.0      18.0  \n",
       "4       157.0     146.0     133.0  \n",
       "..        ...       ...       ...  \n",
       "995      98.0     103.0     106.0  \n",
       "996     135.0     122.0     123.0  \n",
       "997     136.0     146.0     143.0  \n",
       "998      96.0      86.0      84.0  \n",
       "999     102.0      91.0      84.0  \n",
       "\n",
       "[1000 rows x 10 columns]"
      ]
     },
     "execution_count": 8,
     "metadata": {},
     "output_type": "execute_result"
    }
   ],
   "source": [
    "samples.draws_pd()"
   ]
  },
  {
   "cell_type": "code",
   "execution_count": 9,
   "metadata": {},
   "outputs": [
    {
     "data": {
      "text/html": [
       "<div>\n",
       "<style scoped>\n",
       "    .dataframe tbody tr th:only-of-type {\n",
       "        vertical-align: middle;\n",
       "    }\n",
       "\n",
       "    .dataframe tbody tr th {\n",
       "        vertical-align: top;\n",
       "    }\n",
       "\n",
       "    .dataframe thead th {\n",
       "        text-align: right;\n",
       "    }\n",
       "</style>\n",
       "<table border=\"1\" class=\"dataframe\">\n",
       "  <thead>\n",
       "    <tr style=\"text-align: right;\">\n",
       "      <th></th>\n",
       "      <th>lambda</th>\n",
       "      <th>y_sim[1]</th>\n",
       "      <th>y_sim[2]</th>\n",
       "      <th>y_sim[3]</th>\n",
       "      <th>y_sim[4]</th>\n",
       "      <th>y_sim[5]</th>\n",
       "      <th>y_sim[6]</th>\n",
       "      <th>y_sim[7]</th>\n",
       "    </tr>\n",
       "  </thead>\n",
       "  <tbody>\n",
       "    <tr>\n",
       "      <th>0</th>\n",
       "      <td>106.8100</td>\n",
       "      <td>97.0</td>\n",
       "      <td>107.0</td>\n",
       "      <td>119.0</td>\n",
       "      <td>97.0</td>\n",
       "      <td>107.0</td>\n",
       "      <td>109.0</td>\n",
       "      <td>111.0</td>\n",
       "    </tr>\n",
       "    <tr>\n",
       "      <th>1</th>\n",
       "      <td>37.7221</td>\n",
       "      <td>50.0</td>\n",
       "      <td>32.0</td>\n",
       "      <td>41.0</td>\n",
       "      <td>27.0</td>\n",
       "      <td>41.0</td>\n",
       "      <td>33.0</td>\n",
       "      <td>39.0</td>\n",
       "    </tr>\n",
       "    <tr>\n",
       "      <th>2</th>\n",
       "      <td>75.7833</td>\n",
       "      <td>76.0</td>\n",
       "      <td>68.0</td>\n",
       "      <td>72.0</td>\n",
       "      <td>88.0</td>\n",
       "      <td>86.0</td>\n",
       "      <td>76.0</td>\n",
       "      <td>74.0</td>\n",
       "    </tr>\n",
       "    <tr>\n",
       "      <th>3</th>\n",
       "      <td>22.3972</td>\n",
       "      <td>19.0</td>\n",
       "      <td>27.0</td>\n",
       "      <td>30.0</td>\n",
       "      <td>23.0</td>\n",
       "      <td>19.0</td>\n",
       "      <td>19.0</td>\n",
       "      <td>18.0</td>\n",
       "    </tr>\n",
       "    <tr>\n",
       "      <th>4</th>\n",
       "      <td>143.2200</td>\n",
       "      <td>135.0</td>\n",
       "      <td>144.0</td>\n",
       "      <td>151.0</td>\n",
       "      <td>137.0</td>\n",
       "      <td>157.0</td>\n",
       "      <td>146.0</td>\n",
       "      <td>133.0</td>\n",
       "    </tr>\n",
       "    <tr>\n",
       "      <th>...</th>\n",
       "      <td>...</td>\n",
       "      <td>...</td>\n",
       "      <td>...</td>\n",
       "      <td>...</td>\n",
       "      <td>...</td>\n",
       "      <td>...</td>\n",
       "      <td>...</td>\n",
       "      <td>...</td>\n",
       "    </tr>\n",
       "    <tr>\n",
       "      <th>995</th>\n",
       "      <td>93.4535</td>\n",
       "      <td>99.0</td>\n",
       "      <td>94.0</td>\n",
       "      <td>81.0</td>\n",
       "      <td>95.0</td>\n",
       "      <td>98.0</td>\n",
       "      <td>103.0</td>\n",
       "      <td>106.0</td>\n",
       "    </tr>\n",
       "    <tr>\n",
       "      <th>996</th>\n",
       "      <td>128.7080</td>\n",
       "      <td>114.0</td>\n",
       "      <td>123.0</td>\n",
       "      <td>143.0</td>\n",
       "      <td>122.0</td>\n",
       "      <td>135.0</td>\n",
       "      <td>122.0</td>\n",
       "      <td>123.0</td>\n",
       "    </tr>\n",
       "    <tr>\n",
       "      <th>997</th>\n",
       "      <td>155.5770</td>\n",
       "      <td>147.0</td>\n",
       "      <td>144.0</td>\n",
       "      <td>162.0</td>\n",
       "      <td>152.0</td>\n",
       "      <td>136.0</td>\n",
       "      <td>146.0</td>\n",
       "      <td>143.0</td>\n",
       "    </tr>\n",
       "    <tr>\n",
       "      <th>998</th>\n",
       "      <td>87.7448</td>\n",
       "      <td>81.0</td>\n",
       "      <td>71.0</td>\n",
       "      <td>92.0</td>\n",
       "      <td>89.0</td>\n",
       "      <td>96.0</td>\n",
       "      <td>86.0</td>\n",
       "      <td>84.0</td>\n",
       "    </tr>\n",
       "    <tr>\n",
       "      <th>999</th>\n",
       "      <td>95.2978</td>\n",
       "      <td>70.0</td>\n",
       "      <td>101.0</td>\n",
       "      <td>113.0</td>\n",
       "      <td>110.0</td>\n",
       "      <td>102.0</td>\n",
       "      <td>91.0</td>\n",
       "      <td>84.0</td>\n",
       "    </tr>\n",
       "  </tbody>\n",
       "</table>\n",
       "<p>1000 rows × 8 columns</p>\n",
       "</div>"
      ],
      "text/plain": [
       "       lambda  y_sim[1]  y_sim[2]  y_sim[3]  y_sim[4]  y_sim[5]  y_sim[6]  \\\n",
       "0    106.8100      97.0     107.0     119.0      97.0     107.0     109.0   \n",
       "1     37.7221      50.0      32.0      41.0      27.0      41.0      33.0   \n",
       "2     75.7833      76.0      68.0      72.0      88.0      86.0      76.0   \n",
       "3     22.3972      19.0      27.0      30.0      23.0      19.0      19.0   \n",
       "4    143.2200     135.0     144.0     151.0     137.0     157.0     146.0   \n",
       "..        ...       ...       ...       ...       ...       ...       ...   \n",
       "995   93.4535      99.0      94.0      81.0      95.0      98.0     103.0   \n",
       "996  128.7080     114.0     123.0     143.0     122.0     135.0     122.0   \n",
       "997  155.5770     147.0     144.0     162.0     152.0     136.0     146.0   \n",
       "998   87.7448      81.0      71.0      92.0      89.0      96.0      86.0   \n",
       "999   95.2978      70.0     101.0     113.0     110.0     102.0      91.0   \n",
       "\n",
       "     y_sim[7]  \n",
       "0       111.0  \n",
       "1        39.0  \n",
       "2        74.0  \n",
       "3        18.0  \n",
       "4       133.0  \n",
       "..        ...  \n",
       "995     106.0  \n",
       "996     123.0  \n",
       "997     143.0  \n",
       "998      84.0  \n",
       "999      84.0  \n",
       "\n",
       "[1000 rows x 8 columns]"
      ]
     },
     "execution_count": 9,
     "metadata": {},
     "output_type": "execute_result"
    }
   ],
   "source": [
    "samples_columns_names = samples.column_names[2:]\n",
    "df = pd.DataFrame((samples.draws()[:, :, 2:]).reshape(1000, 8), columns=samples_columns_names)\n",
    "df"
   ]
  },
  {
   "cell_type": "code",
   "execution_count": 10,
   "metadata": {},
   "outputs": [
    {
     "data": {
      "image/png": "[encoded data removed]",
      "text/plain": [
       "<Figure size 864x432 with 8 Axes>"
      ]
     },
     "metadata": {
      "needs_background": "light"
     },
     "output_type": "display_data"
    }
   ],
   "source": [
    "df.hist(figsize=(12, 6), layout=(2, 4))\n",
    "plt.tight_layout()\n",
    "plt.suptitle('Histograms of Sampling Results', y=1.04, fontsize=20)\n",
    "plt.show()"
   ]
  },
  {
   "cell_type": "markdown",
   "metadata": {},
   "source": [
    "## Excercise 2 - Constraints on the data "
   ]
  },
  {
   "cell_type": "code",
   "execution_count": 11,
   "metadata": {},
   "outputs": [
    {
     "name": "stdout",
     "output_type": "stream",
     "text": [
      "Overwriting home/code_2.stan\n"
     ]
    }
   ],
   "source": [
    "%%writefile home/code_2.stan\n",
    "data {\n",
    "    int N;\n",
    "    array [N] int y;\n",
    "}\n",
    "\n",
    "parameters {\n",
    "    real<lower=0,upper=1> theta;\n",
    "}\n",
    "model {\n",
    "    theta ~ beta(1,1);\n",
    "    y ~ bernoulli(theta);\n",
    "}"
   ]
  },
  {
   "cell_type": "code",
   "execution_count": 12,
   "metadata": {},
   "outputs": [
    {
     "name": "stderr",
     "output_type": "stream",
     "text": [
      "INFO:cmdstanpy:compiling stan file /home/code_2.stan to exe file /home/code_2\n",
      "INFO:cmdstanpy:compiled model executable: /home/code_2\n",
      "INFO:cmdstanpy:CmdStan start processing\n",
      "chain 1 |\u001b[33m          \u001b[0m| 00:00 Status\n",
      "\u001b[A\n",
      "\n",
      "\u001b[A\u001b[AERROR:cmdstanpy:Chain [2] error: error during processing Operation not permitted\n",
      "ERROR:cmdstanpy:Chain [3] error: error during processing Operation not permitted\n",
      "ERROR:cmdstanpy:Chain [4] error: error during processing Operation not permitted\n",
      "ERROR:cmdstanpy:Chain [1] error: error during processing Operation not permitted\n",
      "chain 1 |\u001b[33m██████████\u001b[0m| 00:00 Sampling completed\n",
      "chain 2 |\u001b[33m██████████\u001b[0m| 00:00 Sampling completed\n",
      "\n",
      "chain 3 |\u001b[33m██████████\u001b[0m| 00:00 Sampling completed\n",
      "\n",
      "\n",
      "chain 4 |\u001b[33m██████████\u001b[0m| 00:00 Sampling completed"
     ]
    },
    {
     "name": "stdout",
     "output_type": "stream",
     "text": [
      "                                                                                                                                                                                                                                                                                                                                "
     ]
    },
    {
     "name": "stderr",
     "output_type": "stream",
     "text": [
      "\n",
      "INFO:cmdstanpy:CmdStan done processing.\n"
     ]
    },
    {
     "name": "stdout",
     "output_type": "stream",
     "text": [
      "\n"
     ]
    },
    {
     "ename": "RuntimeError",
     "evalue": "Error during sampling:\nException: bernoulli_lpmf: n[2] is 2, but must be in the interval [0, 1] (in '/home/code_2.stan', line 11, column 4 to column 25)\n\tException: bernoulli_lpmf: n[2] is 2, but must be in the interval [0, 1] (in '/home/code_2.stan', line 11, column 4 to column 25)\n\tException: bernoulli_lpmf: n[2] is 2, but must be in the interval [0, 1] (in '/home/code_2.stan', line 11, column 4 to column 25)\n\tException: bernoulli_lpmf: n[2] is 2, but must be in the interval [0, 1] (in '/home/code_2.stan', line 11, column 4 to column 25)\n\tException: bernoulli_lpmf: n[2] is 2, but must be in the interval [0, 1] (in '/home/code_2.stan', line 11, column 4 to column 25)\n\tException: bernoulli_lpmf: n[2] is 2, but must be in the interval [0, 1] (in '/home/code_2.stan', line 11, column 4 to column 25)\n\tException: bernoulli_lpmf: n[2] is 2, but must be in the interval [0, 1] (in '/home/code_2.stan', line 11, column 4 to column 25)\n\tException: bernoulli_lpmf: n[2] is 2, but must be in the interval [0, 1] (in '/home/code_2.stan', line 11, column 4 to column 25)\n\tException: bernoulli_lpmf: n[2] is 2, but must be in the interval [0, 1] (in '/home/code_2.stan', line 11, column 4 to column 25)\n\tException: bernoulli_lpmf: n[2] is 2, but must be in the interval [0, 1] (in '/home/code_2.stan', line 11, column 4 to column 25)\n\tException: bernoulli_lpmf: n[2] is 2, but must be in the interval [0, 1] (in '/home/code_2.stan', line 11, column 4 to column 25)\n\tException: bernoulli_lpmf: n[2] is 2, but must be in the interval [0, 1] (in '/home/code_2.stan', line 11, column 4 to column 25)\n\tException: bernoulli_lpmf: n[2] is 2, but must be in the interval [0, 1] (in '/home/code_2.stan', line 11, column 4 to column 25)\n\tException: bernoulli_lpmf: n[2] is 2, but must be in the interval [0, 1] (in '/home/code_2.stan', line 11, column 4 to column 25)\n\tException: bernoulli_lpmf: n[2] is 2, but must be in the interval [0, 1] (in '/home/code_2.stan', line 11, column 4 to column 25)\n\tException: bernoulli_lpmf: n[2] is 2, but must be in the interval [0, 1] (in '/home/code_2.stan', line 11, column 4 to column 25)\n\tException: bernoulli_lpmf: n[2] is 2, but must be in the interval [0, 1] (in '/home/code_2.stan', line 11, column 4 to column 25)\n\tException: bernoulli_lpmf: n[2] is 2, but must be in the interval [0, 1] (in '/home/code_2.stan', line 11, column 4 to column 25)\n\tException: bernoulli_lpmf: n[2] is 2, but must be in the interval [0, 1] (in '/home/code_2.stan', line 11, column 4 to column 25)\n\tException: bernoulli_lpmf: n[2] is 2, but must be in the interval [0, 1] (in '/home/code_2.stan', line 11, column 4 to column 25)\n\tException: bernoulli_lpmf: n[2] is 2, but must be in the interval [0, 1] (in '/home/code_2.stan', line 11, column 4 to column 25)\n\tException: bernoulli_lpmf: n[2] is 2, but must be in the interval [0, 1] (in '/home/code_2.stan', line 11, column 4 to column 25)\n\tException: bernoulli_lpmf: n[2] is 2, but must be in the interval [0, 1] (in '/home/code_2.stan', line 11, column 4 to column 25)\n\tException: bernoulli_lpmf: n[2] is 2, but must be in the interval [0, 1] (in '/home/code_2.stan', line 11, column 4 to column 25)\n\tException: bernoulli_lpmf: n[2] is 2, but must be in the interval [0, 1] (in '/home/code_2.stan', line 11, column 4 to column 25)\n\tException: bernoulli_lpmf: n[2] is 2, but must be in the interval [0, 1] (in '/home/code_2.stan', line 11, column 4 to column 25)\n\tException: bernoulli_lpmf: n[2] is 2, but must be in the interval [0, 1] (in '/home/code_2.stan', line 11, column 4 to column 25)\n\tException: bernoulli_lpmf: n[2] is 2, but must be in the interval [0, 1] (in '/home/code_2.stan', line 11, column 4 to column 25)\n\tException: bernoulli_lpmf: n[2] is 2, but must be in the interval [0, 1] (in '/home/code_2.stan', line 11, column 4 to column 25)\n\tException: bernoulli_lpmf: n[2] is 2, but must be in the interval [0, 1] (in '/home/code_2.stan', line 11, column 4 to column 25)\n\tException: bernoulli_lpmf: n[2] is 2, but must be in the interval [0, 1] (in '/home/code_2.stan', line 11, column 4 to column 25)\n\tException: bernoulli_lpmf: n[2] is 2, but must be in the interval [0, 1] (in '/home/code_2.stan', line 11, column 4 to column 25)\n\tException: bernoulli_lpmf: n[2] is 2, but must be in the interval [0, 1] (in '/home/code_2.stan', line 11, column 4 to column 25)\n\tException: bernoulli_lpmf: n[2] is 2, but must be in the interval [0, 1] (in '/home/code_2.stan', line 11, column 4 to column 25)\n\tException: bernoulli_lpmf: n[2] is 2, but must be in the interval [0, 1] (in '/home/code_2.stan', line 11, column 4 to column 25)\n\tException: bernoulli_lpmf: n[2] is 2, but must be in the interval [0, 1] (in '/home/code_2.stan', line 11, column 4 to column 25)\n\tException: bernoulli_lpmf: n[2] is 2, but must be in the interval [0, 1] (in '/home/code_2.stan', line 11, column 4 to column 25)\n\tException: bernoulli_lpmf: n[2] is 2, but must be in the interval [0, 1] (in '/home/code_2.stan', line 11, column 4 to column 25)\n\tException: bernoulli_lpmf: n[2] is 2, but must be in the interval [0, 1] (in '/home/code_2.stan', line 11, column 4 to column 25)\n\tException: bernoulli_lpmf: n[2] is 2, but must be in the interval [0, 1] (in '/home/code_2.stan', line 11, column 4 to column 25)\n\tException: bernoulli_lpmf: n[2] is 2, but must be in the interval [0, 1] (in '/home/code_2.stan', line 11, column 4 to column 25)\n\tException: bernoulli_lpmf: n[2] is 2, but must be in the interval [0, 1] (in '/home/code_2.stan', line 11, column 4 to column 25)\n\tException: bernoulli_lpmf: n[2] is 2, but must be in the interval [0, 1] (in '/home/code_2.stan', line 11, column 4 to column 25)\n\tException: bernoulli_lpmf: n[2] is 2, but must be in the interval [0, 1] (in '/home/code_2.stan', line 11, column 4 to column 25)\n\tException: bernoulli_lpmf: n[2] is 2, but must be in the interval [0, 1] (in '/home/code_2.stan', line 11, column 4 to column 25)\n\tException: bernoulli_lpmf: n[2] is 2, but must be in the interval [0, 1] (in '/home/code_2.stan', line 11, column 4 to column 25)\n\tException: bernoulli_lpmf: n[2] is 2, but must be in the interval [0, 1] (in '/home/code_2.stan', line 11, column 4 to column 25)\n\tException: bernoulli_lpmf: n[2] is 2, but must be in the interval [0, 1] (in '/home/code_2.stan', line 11, column 4 to column 25)\n\tException: bernoulli_lpmf: n[2] is 2, but must be in the interval [0, 1] (in '/home/code_2.stan', line 11, column 4 to column 25)\n\tException: bernoulli_lpmf: n[2] is 2, but must be in the interval [0, 1] (in '/home/code_2.stan', line 11, column 4 to column 25)\n\tException: bernoulli_lpmf: n[2] is 2, but must be in the interval [0, 1] (in '/home/code_2.stan', line 11, column 4 to column 25)\n\tException: bernoulli_lpmf: n[2] is 2, but must be in the interval [0, 1] (in '/home/code_2.stan', line 11, column 4 to column 25)\n\tException: bernoulli_lpmf: n[2] is 2, but must be in the interval [0, 1] (in '/home/code_2.stan', line 11, column 4 to column 25)\n\tException: bernoulli_lpmf: n[2] is 2, but must be in the interval [0, 1] (in '/home/code_2.stan', line 11, column 4 to column 25)\n\tException: bernoulli_lpmf: n[2] is 2, but must be in the interval [0, 1] (in '/home/code_2.stan', line 11, column 4 to column 25)\n\tException: bernoulli_lpmf: n[2] is 2, but must be in the interval [0, 1] (in '/home/code_2.stan', line 11, column 4 to column 25)\n\tException: bernoulli_lpmf: n[2] is 2, but must be in the interval [0, 1] (in '/home/code_2.stan', line 11, column 4 to column 25)\n\tException: bernoulli_lpmf: n[2] is 2, but must be in the interval [0, 1] (in '/home/code_2.stan', line 11, column 4 to column 25)\n\tException: bernoulli_lpmf: n[2] is 2, but must be in the interval [0, 1] (in '/home/code_2.stan', line 11, column 4 to column 25)\n\tException: bernoulli_lpmf: n[2] is 2, but must be in the interval [0, 1] (in '/home/code_2.stan', line 11, column 4 to column 25)\n\tException: bernoulli_lpmf: n[2] is 2, but must be in the interval [0, 1] (in '/home/code_2.stan', line 11, column 4 to column 25)\n\tException: bernoulli_lpmf: n[2] is 2, but must be in the interval [0, 1] (in '/home/code_2.stan', line 11, column 4 to column 25)\n\tException: bernoulli_lpmf: n[2] is 2, but must be in the interval [0, 1] (in '/home/code_2.stan', line 11, column 4 to column 25)\n\tException: bernoulli_lpmf: n[2] is 2, but must be in the interval [0, 1] (in '/home/code_2.stan', line 11, column 4 to column 25)\n\tException: bernoulli_lpmf: n[2] is 2, but must be in the interval [0, 1] (in '/home/code_2.stan', line 11, column 4 to column 25)\n\tException: bernoulli_lpmf: n[2] is 2, but must be in the interval [0, 1] (in '/home/code_2.stan', line 11, column 4 to column 25)\n\tException: bernoulli_lpmf: n[2] is 2, but must be in the interval [0, 1] (in '/home/code_2.stan', line 11, column 4 to column 25)\n\tException: bernoulli_lpmf: n[2] is 2, but must be in the interval [0, 1] (in '/home/code_2.stan', line 11, column 4 to column 25)\n\tException: bernoulli_lpmf: n[2] is 2, but must be in the interval [0, 1] (in '/home/code_2.stan', line 11, column 4 to column 25)\n\tException: bernoulli_lpmf: n[2] is 2, but must be in the interval [0, 1] (in '/home/code_2.stan', line 11, column 4 to column 25)\n\tException: bernoulli_lpmf: n[2] is 2, but must be in the interval [0, 1] (in '/home/code_2.stan', line 11, column 4 to column 25)\n\tException: bernoulli_lpmf: n[2] is 2, but must be in the interval [0, 1] (in '/home/code_2.stan', line 11, column 4 to column 25)\n\tException: bernoulli_lpmf: n[2] is 2, but must be in the interval [0, 1] (in '/home/code_2.stan', line 11, column 4 to column 25)\n\tException: bernoulli_lpmf: n[2] is 2, but must be in the interval [0, 1] (in '/home/code_2.stan', line 11, column 4 to column 25)\n\tException: bernoulli_lpmf: n[2] is 2, but must be in the interval [0, 1] (in '/home/code_2.stan', line 11, column 4 to column 25)\n\tException: bernoulli_lpmf: n[2] is 2, but must be in the interval [0, 1] (in '/home/code_2.stan', line 11, column 4 to column 25)\n\tException: bernoulli_lpmf: n[2] is 2, but must be in the interval [0, 1] (in '/home/code_2.stan', line 11, column 4 to column 25)\n\tException: bernoulli_lpmf: n[2] is 2, but must be in the interval [0, 1] (in '/home/code_2.stan', line 11, column 4 to column 25)\n\tException: bernoulli_lpmf: n[2] is 2, but must be in the interval [0, 1] (in '/home/code_2.stan', line 11, column 4 to column 25)\n\tException: bernoulli_lpmf: n[2] is 2, but must be in the interval [0, 1] (in '/home/code_2.stan', line 11, column 4 to column 25)\n\tException: bernoulli_lpmf: n[2] is 2, but must be in the interval [0, 1] (in '/home/code_2.stan', line 11, column 4 to column 25)\n\tException: bernoulli_lpmf: n[2] is 2, but must be in the interval [0, 1] (in '/home/code_2.stan', line 11, column 4 to column 25)\n\tException: bernoulli_lpmf: n[2] is 2, but must be in the interval [0, 1] (in '/home/code_2.stan', line 11, column 4 to column 25)\n\tException: bernoulli_lpmf: n[2] is 2, but must be in the interval [0, 1] (in '/home/code_2.stan', line 11, column 4 to column 25)\n\tException: bernoulli_lpmf: n[2] is 2, but must be in the interval [0, 1] (in '/home/code_2.stan', line 11, column 4 to column 25)\n\tException: bernoulli_lpmf: n[2] is 2, but must be in the interval [0, 1] (in '/home/code_2.stan', line 11, column 4 to column 25)\n\tException: bernoulli_lpmf: n[2] is 2, but must be in the interval [0, 1] (in '/home/code_2.stan', line 11, column 4 to column 25)\n\tException: bernoulli_lpmf: n[2] is 2, but must be in the interval [0, 1] (in '/home/code_2.stan', line 11, column 4 to column 25)\n\tException: bernoulli_lpmf: n[2] is 2, but must be in the interval [0, 1] (in '/home/code_2.stan', line 11, column 4 to column 25)\n\tException: bernoulli_lpmf: n[2] is 2, but must be in the interval [0, 1] (in '/home/code_2.stan', line 11, column 4 to column 25)\n\tException: bernoulli_lpmf: n[2] is 2, but must be in the interval [0, 1] (in '/home/code_2.stan', line 11, column 4 to column 25)\n\tException: bernoulli_lpmf: n[2] is 2, but must be in the interval [0, 1] (in '/home/code_2.stan', line 11, column 4 to column 25)\n\tException: bernoulli_lpmf: n[2] is 2, but must be in the interval [0, 1] (in '/home/code_2.stan', line 11, column 4 to column 25)\n\tException: bernoulli_lpmf: n[2] is 2, but must be in the interval [0, 1] (in '/home/code_2.stan', line 11, column 4 to column 25)\n\tException: bernoulli_lpmf: n[2] is 2, but must be in the interval [0, 1] (in '/home/code_2.stan', line 11, column 4 to column 25)\n\tException: bernoulli_lpmf: n[2] is 2, but must be in the interval [0, 1] (in '/home/code_2.stan', line 11, column 4 to column 25)\n\tException: bernoulli_lpmf: n[2] is 2, but must be in the interval [0, 1] (in '/home/code_2.stan', line 11, column 4 to column 25)\n\tException: bernoulli_lpmf: n[2] is 2, but must be in the interval [0, 1] (in '/home/code_2.stan', line 11, column 4 to column 25)\n\tException: bernoulli_lpmf: n[2] is 2, but must be in the interval [0, 1] (in '/home/code_2.stan', line 11, column 4 to column 25)\n\tException: bernoulli_lpmf: n[2] is 2, but must be in the interval [0, 1] (in '/home/code_2.stan', line 11, column 4 to column 25)\nException: bernoulli_lpmf: n[2] is 2, but must be in the interval [0, 1] (in '/home/code_2.stan', line 11, column 4 to column 25)\n\tException: bernoulli_lpmf: n[2] is 2, but must be in the interval [0, 1] (in '/home/code_2.stan', line 11, column 4 to column 25)\n\tException: bernoulli_lpmf: n[2] is 2, but must be in the interval [0, 1] (in '/home/code_2.stan', line 11, column 4 to column 25)\n\tException: bernoulli_lpmf: n[2] is 2, but must be in the interval [0, 1] (in '/home/code_2.stan', line 11, column 4 to column 25)\n\tException: bernoulli_lpmf: n[2] is 2, but must be in the interval [0, 1] (in '/home/code_2.stan', line 11, column 4 to column 25)\n\tException: bernoulli_lpmf: n[2] is 2, but must be in the interval [0, 1] (in '/home/code_2.stan', line 11, column 4 to column 25)\n\tException: bernoulli_lpmf: n[2] is 2, but must be in the interval [0, 1] (in '/home/code_2.stan', line 11, column 4 to column 25)\n\tException: bernoulli_lpmf: n[2] is 2, but must be in the interval [0, 1] (in '/home/code_2.stan', line 11, column 4 to column 25)\n\tException: bernoulli_lpmf: n[2] is 2, but must be in the interval [0, 1] (in '/home/code_2.stan', line 11, column 4 to column 25)\n\tException: bernoulli_lpmf: n[2] is 2, but must be in the interval [0, 1] (in '/home/code_2.stan', line 11, column 4 to column 25)\n\tException: bernoulli_lpmf: n[2] is 2, but must be in the interval [0, 1] (in '/home/code_2.stan', line 11, column 4 to column 25)\n\tException: bernoulli_lpmf: n[2] is 2, but must be in the interval [0, 1] (in '/home/code_2.stan', line 11, column 4 to column 25)\n\tException: bernoulli_lpmf: n[2] is 2, but must be in the interval [0, 1] (in '/home/code_2.stan', line 11, column 4 to column 25)\n\tException: bernoulli_lpmf: n[2] is 2, but must be in the interval [0, 1] (in '/home/code_2.stan', line 11, column 4 to column 25)\n\tException: bernoulli_lpmf: n[2] is 2, but must be in the interval [0, 1] (in '/home/code_2.stan', line 11, column 4 to column 25)\n\tException: bernoulli_lpmf: n[2] is 2, but must be in the interval [0, 1] (in '/home/code_2.stan', line 11, column 4 to column 25)\n\tException: bernoulli_lpmf: n[2] is 2, but must be in the interval [0, 1] (in '/home/code_2.stan', line 11, column 4 to column 25)\n\tException: bernoulli_lpmf: n[2] is 2, but must be in the interval [0, 1] (in '/home/code_2.stan', line 11, column 4 to column 25)\n\tException: bernoulli_lpmf: n[2] is 2, but must be in the interval [0, 1] (in '/home/code_2.stan', line 11, column 4 to column 25)\n\tException: bernoulli_lpmf: n[2] is 2, but must be in the interval [0, 1] (in '/home/code_2.stan', line 11, column 4 to column 25)\n\tException: bernoulli_lpmf: n[2] is 2, but must be in the interval [0, 1] (in '/home/code_2.stan', line 11, column 4 to column 25)\n\tException: bernoulli_lpmf: n[2] is 2, but must be in the interval [0, 1] (in '/home/code_2.stan', line 11, column 4 to column 25)\n\tException: bernoulli_lpmf: n[2] is 2, but must be in the interval [0, 1] (in '/home/code_2.stan', line 11, column 4 to column 25)\n\tException: bernoulli_lpmf: n[2] is 2, but must be in the interval [0, 1] (in '/home/code_2.stan', line 11, column 4 to column 25)\n\tException: bernoulli_lpmf: n[2] is 2, but must be in the interval [0, 1] (in '/home/code_2.stan', line 11, column 4 to column 25)\n\tException: bernoulli_lpmf: n[2] is 2, but must be in the interval [0, 1] (in '/home/code_2.stan', line 11, column 4 to column 25)\n\tException: bernoulli_lpmf: n[2] is 2, but must be in the interval [0, 1] (in '/home/code_2.stan', line 11, column 4 to column 25)\n\tException: bernoulli_lpmf: n[2] is 2, but must be in the interval [0, 1] (in '/home/code_2.stan', line 11, column 4 to column 25)\n\tException: bernoulli_lpmf: n[2] is 2, but must be in the interval [0, 1] (in '/home/code_2.stan', line 11, column 4 to column 25)\n\tException: bernoulli_lpmf: n[2] is 2, but must be in the interval [0, 1] (in '/home/code_2.stan', line 11, column 4 to column 25)\n\tException: bernoulli_lpmf: n[2] is 2, but must be in the interval [0, 1] (in '/home/code_2.stan', line 11, column 4 to column 25)\n\tException: bernoulli_lpmf: n[2] is 2, but must be in the interval [0, 1] (in '/home/code_2.stan', line 11, column 4 to column 25)\n\tException: bernoulli_lpmf: n[2] is 2, but must be in the interval [0, 1] (in '/home/code_2.stan', line 11, column 4 to column 25)\n\tException: bernoulli_lpmf: n[2] is 2, but must be in the interval [0, 1] (in '/home/code_2.stan', line 11, column 4 to column 25)\n\tException: bernoulli_lpmf: n[2] is 2, but must be in the interval [0, 1] (in '/home/code_2.stan', line 11, column 4 to column 25)\n\tException: bernoulli_lpmf: n[2] is 2, but must be in the interval [0, 1] (in '/home/code_2.stan', line 11, column 4 to column 25)\n\tException: bernoulli_lpmf: n[2] is 2, but must be in the interval [0, 1] (in '/home/code_2.stan', line 11, column 4 to column 25)\n\tException: bernoulli_lpmf: n[2] is 2, but must be in the interval [0, 1] (in '/home/code_2.stan', line 11, column 4 to column 25)\n\tException: bernoulli_lpmf: n[2] is 2, but must be in the interval [0, 1] (in '/home/code_2.stan', line 11, column 4 to column 25)\n\tException: bernoulli_lpmf: n[2] is 2, but must be in the interval [0, 1] (in '/home/code_2.stan', line 11, column 4 to column 25)\n\tException: bernoulli_lpmf: n[2] is 2, but must be in the interval [0, 1] (in '/home/code_2.stan', line 11, column 4 to column 25)\n\tException: bernoulli_lpmf: n[2] is 2, but must be in the interval [0, 1] (in '/home/code_2.stan', line 11, column 4 to column 25)\n\tException: bernoulli_lpmf: n[2] is 2, but must be in the interval [0, 1] (in '/home/code_2.stan', line 11, column 4 to column 25)\n\tException: bernoulli_lpmf: n[2] is 2, but must be in the interval [0, 1] (in '/home/code_2.stan', line 11, column 4 to column 25)\n\tException: bernoulli_lpmf: n[2] is 2, but must be in the interval [0, 1] (in '/home/code_2.stan', line 11, column 4 to column 25)\n\tException: bernoulli_lpmf: n[2] is 2, but must be in the interval [0, 1] (in '/home/code_2.stan', line 11, column 4 to column 25)\n\tException: bernoulli_lpmf: n[2] is 2, but must be in the interval [0, 1] (in '/home/code_2.stan', line 11, column 4 to column 25)\n\tException: bernoulli_lpmf: n[2] is 2, but must be in the interval [0, 1] (in '/home/code_2.stan', line 11, column 4 to column 25)\n\tException: bernoulli_lpmf: n[2] is 2, but must be in the interval [0, 1] (in '/home/code_2.stan', line 11, column 4 to column 25)\n\tException: bernoulli_lpmf: n[2] is 2, but must be in the interval [0, 1] (in '/home/code_2.stan', line 11, column 4 to column 25)\n\tException: bernoulli_lpmf: n[2] is 2, but must be in the interval [0, 1] (in '/home/code_2.stan', line 11, column 4 to column 25)\n\tException: bernoulli_lpmf: n[2] is 2, but must be in the interval [0, 1] (in '/home/code_2.stan', line 11, column 4 to column 25)\n\tException: bernoulli_lpmf: n[2] is 2, but must be in the interval [0, 1] (in '/home/code_2.stan', line 11, column 4 to column 25)\n\tException: bernoulli_lpmf: n[2] is 2, but must be in the interval [0, 1] (in '/home/code_2.stan', line 11, column 4 to column 25)\n\tException: bernoulli_lpmf: n[2] is 2, but must be in the interval [0, 1] (in '/home/code_2.stan', line 11, column 4 to column 25)\n\tException: bernoulli_lpmf: n[2] is 2, but must be in the interval [0, 1] (in '/home/code_2.stan', line 11, column 4 to column 25)\n\tException: bernoulli_lpmf: n[2] is 2, but must be in the interval [0, 1] (in '/home/code_2.stan', line 11, column 4 to column 25)\n\tException: bernoulli_lpmf: n[2] is 2, but must be in the interval [0, 1] (in '/home/code_2.stan', line 11, column 4 to column 25)\n\tException: bernoulli_lpmf: n[2] is 2, but must be in the interval [0, 1] (in '/home/code_2.stan', line 11, column 4 to column 25)\n\tException: bernoulli_lpmf: n[2] is 2, but must be in the interval [0, 1] (in '/home/code_2.stan', line 11, column 4 to column 25)\n\tException: bernoulli_lpmf: n[2] is 2, but must be in the interval [0, 1] (in '/home/code_2.stan', line 11, column 4 to column 25)\n\tException: bernoulli_lpmf: n[2] is 2, but must be in the interval [0, 1] (in '/home/code_2.stan', line 11, column 4 to column 25)\n\tException: bernoulli_lpmf: n[2] is 2, but must be in the interval [0, 1] (in '/home/code_2.stan', line 11, column 4 to column 25)\n\tException: bernoulli_lpmf: n[2] is 2, but must be in the interval [0, 1] (in '/home/code_2.stan', line 11, column 4 to column 25)\n\tException: bernoulli_lpmf: n[2] is 2, but must be in the interval [0, 1] (in '/home/code_2.stan', line 11, column 4 to column 25)\n\tException: bernoulli_lpmf: n[2] is 2, but must be in the interval [0, 1] (in '/home/code_2.stan', line 11, column 4 to column 25)\n\tException: bernoulli_lpmf: n[2] is 2, but must be in the interval [0, 1] (in '/home/code_2.stan', line 11, column 4 to column 25)\n\tException: bernoulli_lpmf: n[2] is 2, but must be in the interval [0, 1] (in '/home/code_2.stan', line 11, column 4 to column 25)\n\tException: bernoulli_lpmf: n[2] is 2, but must be in the interval [0, 1] (in '/home/code_2.stan', line 11, column 4 to column 25)\n\tException: bernoulli_lpmf: n[2] is 2, but must be in the interval [0, 1] (in '/home/code_2.stan', line 11, column 4 to column 25)\n\tException: bernoulli_lpmf: n[2] is 2, but must be in the interval [0, 1] (in '/home/code_2.stan', line 11, column 4 to column 25)\n\tException: bernoulli_lpmf: n[2] is 2, but must be in the interval [0, 1] (in '/home/code_2.stan', line 11, column 4 to column 25)\n\tException: bernoulli_lpmf: n[2] is 2, but must be in the interval [0, 1] (in '/home/code_2.stan', line 11, column 4 to column 25)\n\tException: bernoulli_lpmf: n[2] is 2, but must be in the interval [0, 1] (in '/home/code_2.stan', line 11, column 4 to column 25)\n\tException: bernoulli_lpmf: n[2] is 2, but must be in the interval [0, 1] (in '/home/code_2.stan', line 11, column 4 to column 25)\n\tException: bernoulli_lpmf: n[2] is 2, but must be in the interval [0, 1] (in '/home/code_2.stan', line 11, column 4 to column 25)\n\tException: bernoulli_lpmf: n[2] is 2, but must be in the interval [0, 1] (in '/home/code_2.stan', line 11, column 4 to column 25)\n\tException: bernoulli_lpmf: n[2] is 2, but must be in the interval [0, 1] (in '/home/code_2.stan', line 11, column 4 to column 25)\n\tException: bernoulli_lpmf: n[2] is 2, but must be in the interval [0, 1] (in '/home/code_2.stan', line 11, column 4 to column 25)\n\tException: bernoulli_lpmf: n[2] is 2, but must be in the interval [0, 1] (in '/home/code_2.stan', line 11, column 4 to column 25)\n\tException: bernoulli_lpmf: n[2] is 2, but must be in the interval [0, 1] (in '/home/code_2.stan', line 11, column 4 to column 25)\n\tException: bernoulli_lpmf: n[2] is 2, but must be in the interval [0, 1] (in '/home/code_2.stan', line 11, column 4 to column 25)\n\tException: bernoulli_lpmf: n[2] is 2, but must be in the interval [0, 1] (in '/home/code_2.stan', line 11, column 4 to column 25)\n\tException: bernoulli_lpmf: n[2] is 2, but must be in the interval [0, 1] (in '/home/code_2.stan', line 11, column 4 to column 25)\n\tException: bernoulli_lpmf: n[2] is 2, but must be in the interval [0, 1] (in '/home/code_2.stan', line 11, column 4 to column 25)\n\tException: bernoulli_lpmf: n[2] is 2, but must be in the interval [0, 1] (in '/home/code_2.stan', line 11, column 4 to column 25)\n\tException: bernoulli_lpmf: n[2] is 2, but must be in the interval [0, 1] (in '/home/code_2.stan', line 11, column 4 to column 25)\n\tException: bernoulli_lpmf: n[2] is 2, but must be in the interval [0, 1] (in '/home/code_2.stan', line 11, column 4 to column 25)\n\tException: bernoulli_lpmf: n[2] is 2, but must be in the interval [0, 1] (in '/home/code_2.stan', line 11, column 4 to column 25)\n\tException: bernoulli_lpmf: n[2] is 2, but must be in the interval [0, 1] (in '/home/code_2.stan', line 11, column 4 to column 25)\n\tException: bernoulli_lpmf: n[2] is 2, but must be in the interval [0, 1] (in '/home/code_2.stan', line 11, column 4 to column 25)\n\tException: bernoulli_lpmf: n[2] is 2, but must be in the interval [0, 1] (in '/home/code_2.stan', line 11, column 4 to column 25)\n\tException: bernoulli_lpmf: n[2] is 2, but must be in the interval [0, 1] (in '/home/code_2.stan', line 11, column 4 to column 25)\n\tException: bernoulli_lpmf: n[2] is 2, but must be in the interval [0, 1] (in '/home/code_2.stan', line 11, column 4 to column 25)\n\tException: bernoulli_lpmf: n[2] is 2, but must be in the interval [0, 1] (in '/home/code_2.stan', line 11, column 4 to column 25)\n\tException: bernoulli_lpmf: n[2] is 2, but must be in the interval [0, 1] (in '/home/code_2.stan', line 11, column 4 to column 25)\n\tException: bernoulli_lpmf: n[2] is 2, but must be in the interval [0, 1] (in '/home/code_2.stan', line 11, column 4 to column 25)\n\tException: bernoulli_lpmf: n[2] is 2, but must be in the interval [0, 1] (in '/home/code_2.stan', line 11, column 4 to column 25)\n\tException: bernoulli_lpmf: n[2] is 2, but must be in the interval [0, 1] (in '/home/code_2.stan', line 11, column 4 to column 25)\n\tException: bernoulli_lpmf: n[2] is 2, but must be in the interval [0, 1] (in '/home/code_2.stan', line 11, column 4 to column 25)\nException: bernoulli_lpmf: n[2] is 2, but must be in the interval [0, 1] (in '/home/code_2.stan', line 11, column 4 to column 25)\n\tException: bernoulli_lpmf: n[2] is 2, but must be in the interval [0, 1] (in '/home/code_2.stan', line 11, column 4 to column 25)\n\tException: bernoulli_lpmf: n[2] is 2, but must be in the interval [0, 1] (in '/home/code_2.stan', line 11, column 4 to column 25)\n\tException: bernoulli_lpmf: n[2] is 2, but must be in the interval [0, 1] (in '/home/code_2.stan', line 11, column 4 to column 25)\n\tException: bernoulli_lpmf: n[2] is 2, but must be in the interval [0, 1] (in '/home/code_2.stan', line 11, column 4 to column 25)\n\tException: bernoulli_lpmf: n[2] is 2, but must be in the interval [0, 1] (in '/home/code_2.stan', line 11, column 4 to column 25)\n\tException: bernoulli_lpmf: n[2] is 2, but must be in the interval [0, 1] (in '/home/code_2.stan', line 11, column 4 to column 25)\n\tException: bernoulli_lpmf: n[2] is 2, but must be in the interval [0, 1] (in '/home/code_2.stan', line 11, column 4 to column 25)\n\tException: bernoulli_lpmf: n[2] is 2, but must be in the interval [0, 1] (in '/home/code_2.stan', line 11, column 4 to column 25)\n\tException: bernoulli_lpmf: n[2] is 2, but must be in the interval [0, 1] (in '/home/code_2.stan', line 11, column 4 to column 25)\n\tException: bernoulli_lpmf: n[2] is 2, but must be in the interval [0, 1] (in '/home/code_2.stan', line 11, column 4 to column 25)\n\tException: bernoulli_lpmf: n[2] is 2, but must be in the interval [0, 1] (in '/home/code_2.stan', line 11, column 4 to column 25)\n\tException: bernoulli_lpmf: n[2] is 2, but must be in the interval [0, 1] (in '/home/code_2.stan', line 11, column 4 to column 25)\n\tException: bernoulli_lpmf: n[2] is 2, but must be in the interval [0, 1] (in '/home/code_2.stan', line 11, column 4 to column 25)\n\tException: bernoulli_lpmf: n[2] is 2, but must be in the interval [0, 1] (in '/home/code_2.stan', line 11, column 4 to column 25)\n\tException: bernoulli_lpmf: n[2] is 2, but must be in the interval [0, 1] (in '/home/code_2.stan', line 11, column 4 to column 25)\n\tException: bernoulli_lpmf: n[2] is 2, but must be in the interval [0, 1] (in '/home/code_2.stan', line 11, column 4 to column 25)\n\tException: bernoulli_lpmf: n[2] is 2, but must be in the interval [0, 1] (in '/home/code_2.stan', line 11, column 4 to column 25)\n\tException: bernoulli_lpmf: n[2] is 2, but must be in the interval [0, 1] (in '/home/code_2.stan', line 11, column 4 to column 25)\n\tException: bernoulli_lpmf: n[2] is 2, but must be in the interval [0, 1] (in '/home/code_2.stan', line 11, column 4 to column 25)\n\tException: bernoulli_lpmf: n[2] is 2, but must be in the interval [0, 1] (in '/home/code_2.stan', line 11, column 4 to column 25)\n\tException: bernoulli_lpmf: n[2] is 2, but must be in the interval [0, 1] (in '/home/code_2.stan', line 11, column 4 to column 25)\n\tException: bernoulli_lpmf: n[2] is 2, but must be in the interval [0, 1] (in '/home/code_2.stan', line 11, column 4 to column 25)\n\tException: bernoulli_lpmf: n[2] is 2, but must be in the interval [0, 1] (in '/home/code_2.stan', line 11, column 4 to column 25)\n\tException: bernoulli_lpmf: n[2] is 2, but must be in the interval [0, 1] (in '/home/code_2.stan', line 11, column 4 to column 25)\n\tException: bernoulli_lpmf: n[2] is 2, but must be in the interval [0, 1] (in '/home/code_2.stan', line 11, column 4 to column 25)\n\tException: bernoulli_lpmf: n[2] is 2, but must be in the interval [0, 1] (in '/home/code_2.stan', line 11, column 4 to column 25)\n\tException: bernoulli_lpmf: n[2] is 2, but must be in the interval [0, 1] (in '/home/code_2.stan', line 11, column 4 to column 25)\n\tException: bernoulli_lpmf: n[2] is 2, but must be in the interval [0, 1] (in '/home/code_2.stan', line 11, column 4 to column 25)\n\tException: bernoulli_lpmf: n[2] is 2, but must be in the interval [0, 1] (in '/home/code_2.stan', line 11, column 4 to column 25)\n\tException: bernoulli_lpmf: n[2] is 2, but must be in the interval [0, 1] (in '/home/code_2.stan', line 11, column 4 to column 25)\n\tException: bernoulli_lpmf: n[2] is 2, but must be in the interval [0, 1] (in '/home/code_2.stan', line 11, column 4 to column 25)\n\tException: bernoulli_lpmf: n[2] is 2, but must be in the interval [0, 1] (in '/home/code_2.stan', line 11, column 4 to column 25)\n\tException: bernoulli_lpmf: n[2] is 2, but must be in the interval [0, 1] (in '/home/code_2.stan', line 11, column 4 to column 25)\n\tException: bernoulli_lpmf: n[2] is 2, but must be in the interval [0, 1] (in '/home/code_2.stan', line 11, column 4 to column 25)\n\tException: bernoulli_lpmf: n[2] is 2, but must be in the interval [0, 1] (in '/home/code_2.stan', line 11, column 4 to column 25)\n\tException: bernoulli_lpmf: n[2] is 2, but must be in the interval [0, 1] (in '/home/code_2.stan', line 11, column 4 to column 25)\n\tException: bernoulli_lpmf: n[2] is 2, but must be in the interval [0, 1] (in '/home/code_2.stan', line 11, column 4 to column 25)\n\tException: bernoulli_lpmf: n[2] is 2, but must be in the interval [0, 1] (in '/home/code_2.stan', line 11, column 4 to column 25)\n\tException: bernoulli_lpmf: n[2] is 2, but must be in the interval [0, 1] (in '/home/code_2.stan', line 11, column 4 to column 25)\n\tException: bernoulli_lpmf: n[2] is 2, but must be in the interval [0, 1] (in '/home/code_2.stan', line 11, column 4 to column 25)\n\tException: bernoulli_lpmf: n[2] is 2, but must be in the interval [0, 1] (in '/home/code_2.stan', line 11, column 4 to column 25)\n\tException: bernoulli_lpmf: n[2] is 2, but must be in the interval [0, 1] (in '/home/code_2.stan', line 11, column 4 to column 25)\n\tException: bernoulli_lpmf: n[2] is 2, but must be in the interval [0, 1] (in '/home/code_2.stan', line 11, column 4 to column 25)\n\tException: bernoulli_lpmf: n[2] is 2, but must be in the interval [0, 1] (in '/home/code_2.stan', line 11, column 4 to column 25)\n\tException: bernoulli_lpmf: n[2] is 2, but must be in the interval [0, 1] (in '/home/code_2.stan', line 11, column 4 to column 25)\n\tException: bernoulli_lpmf: n[2] is 2, but must be in the interval [0, 1] (in '/home/code_2.stan', line 11, column 4 to column 25)\n\tException: bernoulli_lpmf: n[2] is 2, but must be in the interval [0, 1] (in '/home/code_2.stan', line 11, column 4 to column 25)\n\tException: bernoulli_lpmf: n[2] is 2, but must be in the interval [0, 1] (in '/home/code_2.stan', line 11, column 4 to column 25)\n\tException: bernoulli_lpmf: n[2] is 2, but must be in the interval [0, 1] (in '/home/code_2.stan', line 11, column 4 to column 25)\n\tException: bernoulli_lpmf: n[2] is 2, but must be in the interval [0, 1] (in '/home/code_2.stan', line 11, column 4 to column 25)\n\tException: bernoulli_lpmf: n[2] is 2, but must be in the interval [0, 1] (in '/home/code_2.stan', line 11, column 4 to column 25)\n\tException: bernoulli_lpmf: n[2] is 2, but must be in the interval [0, 1] (in '/home/code_2.stan', line 11, column 4 to column 25)\n\tException: bernoulli_lpmf: n[2] is 2, but must be in the interval [0, 1] (in '/home/code_2.stan', line 11, column 4 to column 25)\n\tException: bernoulli_lpmf: n[2] is 2, but must be in the interval [0, 1] (in '/home/code_2.stan', line 11, column 4 to column 25)\n\tException: bernoulli_lpmf: n[2] is 2, but must be in the interval [0, 1] (in '/home/code_2.stan', line 11, column 4 to column 25)\n\tException: bernoulli_lpmf: n[2] is 2, but must be in the interval [0, 1] (in '/home/code_2.stan', line 11, column 4 to column 25)\n\tException: bernoulli_lpmf: n[2] is 2, but must be in the interval [0, 1] (in '/home/code_2.stan', line 11, column 4 to column 25)\n\tException: bernoulli_lpmf: n[2] is 2, but must be in the interval [0, 1] (in '/home/code_2.stan', line 11, column 4 to column 25)\n\tException: bernoulli_lpmf: n[2] is 2, but must be in the interval [0, 1] (in '/home/code_2.stan', line 11, column 4 to column 25)\n\tException: bernoulli_lpmf: n[2] is 2, but must be in the interval [0, 1] (in '/home/code_2.stan', line 11, column 4 to column 25)\n\tException: bernoulli_lpmf: n[2] is 2, but must be in the interval [0, 1] (in '/home/code_2.stan', line 11, column 4 to column 25)\n\tException: bernoulli_lpmf: n[2] is 2, but must be in the interval [0, 1] (in '/home/code_2.stan', line 11, column 4 to column 25)\n\tException: bernoulli_lpmf: n[2] is 2, but must be in the interval [0, 1] (in '/home/code_2.stan', line 11, column 4 to column 25)\n\tException: bernoulli_lpmf: n[2] is 2, but must be in the interval [0, 1] (in '/home/code_2.stan', line 11, column 4 to column 25)\n\tException: bernoulli_lpmf: n[2] is 2, but must be in the interval [0, 1] (in '/home/code_2.stan', line 11, column 4 to column 25)\n\tException: bernoulli_lpmf: n[2] is 2, but must be in the interval [0, 1] (in '/home/code_2.stan', line 11, column 4 to column 25)\n\tException: bernoulli_lpmf: n[2] is 2, but must be in the interval [0, 1] (in '/home/code_2.stan', line 11, column 4 to column 25)\n\tException: bernoulli_lpmf: n[2] is 2, but must be in the interval [0, 1] (in '/home/code_2.stan', line 11, column 4 to column 25)\n\tException: bernoulli_lpmf: n[2] is 2, but must be in the interval [0, 1] (in '/home/code_2.stan', line 11, column 4 to column 25)\n\tException: bernoulli_lpmf: n[2] is 2, but must be in the interval [0, 1] (in '/home/code_2.stan', line 11, column 4 to column 25)\n\tException: bernoulli_lpmf: n[2] is 2, but must be in the interval [0, 1] (in '/home/code_2.stan', line 11, column 4 to column 25)\n\tException: bernoulli_lpmf: n[2] is 2, but must be in the interval [0, 1] (in '/home/code_2.stan', line 11, column 4 to column 25)\n\tException: bernoulli_lpmf: n[2] is 2, but must be in the interval [0, 1] (in '/home/code_2.stan', line 11, column 4 to column 25)\n\tException: bernoulli_lpmf: n[2] is 2, but must be in the interval [0, 1] (in '/home/code_2.stan', line 11, column 4 to column 25)\n\tException: bernoulli_lpmf: n[2] is 2, but must be in the interval [0, 1] (in '/home/code_2.stan', line 11, column 4 to column 25)\n\tException: bernoulli_lpmf: n[2] is 2, but must be in the interval [0, 1] (in '/home/code_2.stan', line 11, column 4 to column 25)\n\tException: bernoulli_lpmf: n[2] is 2, but must be in the interval [0, 1] (in '/home/code_2.stan', line 11, column 4 to column 25)\n\tException: bernoulli_lpmf: n[2] is 2, but must be in the interval [0, 1] (in '/home/code_2.stan', line 11, column 4 to column 25)\n\tException: bernoulli_lpmf: n[2] is 2, but must be in the interval [0, 1] (in '/home/code_2.stan', line 11, column 4 to column 25)\n\tException: bernoulli_lpmf: n[2] is 2, but must be in the interval [0, 1] (in '/home/code_2.stan', line 11, column 4 to column 25)\n\tException: bernoulli_lpmf: n[2] is 2, but must be in the interval [0, 1] (in '/home/code_2.stan', line 11, column 4 to column 25)\n\tException: bernoulli_lpmf: n[2] is 2, but must be in the interval [0, 1] (in '/home/code_2.stan', line 11, column 4 to column 25)\n\tException: bernoulli_lpmf: n[2] is 2, but must be in the interval [0, 1] (in '/home/code_2.stan', line 11, column 4 to column 25)\n\tException: bernoulli_lpmf: n[2] is 2, but must be in the interval [0, 1] (in '/home/code_2.stan', line 11, column 4 to column 25)\n\tException: bernoulli_lpmf: n[2] is 2, but must be in the interval [0, 1] (in '/home/code_2.stan', line 11, column 4 to column 25)\n\tException: bernoulli_lpmf: n[2] is 2, but must be in the interval [0, 1] (in '/home/code_2.stan', line 11, column 4 to column 25)\n\tException: bernoulli_lpmf: n[2] is 2, but must be in the interval [0, 1] (in '/home/code_2.stan', line 11, column 4 to column 25)\n\tException: bernoulli_lpmf: n[2] is 2, but must be in the interval [0, 1] (in '/home/code_2.stan', line 11, column 4 to column 25)\n\tException: bernoulli_lpmf: n[2] is 2, but must be in the interval [0, 1] (in '/home/code_2.stan', line 11, column 4 to column 25)\n\tException: bernoulli_lpmf: n[2] is 2, but must be in the interval [0, 1] (in '/home/code_2.stan', line 11, column 4 to column 25)\n\tException: bernoulli_lpmf: n[2] is 2, but must be in the interval [0, 1] (in '/home/code_2.stan', line 11, column 4 to column 25)\n\tException: bernoulli_lpmf: n[2] is 2, but must be in the interval [0, 1] (in '/home/code_2.stan', line 11, column 4 to column 25)\n\tException: bernoulli_lpmf: n[2] is 2, but must be in the interval [0, 1] (in '/home/code_2.stan', line 11, column 4 to column 25)\n\tException: bernoulli_lpmf: n[2] is 2, but must be in the interval [0, 1] (in '/home/code_2.stan', line 11, column 4 to column 25)\n\tException: bernoulli_lpmf: n[2] is 2, but must be in the interval [0, 1] (in '/home/code_2.stan', line 11, column 4 to column 25)\n\tException: bernoulli_lpmf: n[2] is 2, but must be in the interval [0, 1] (in '/home/code_2.stan', line 11, column 4 to column 25)\n\tException: bernoulli_lpmf: n[2] is 2, but must be in the interval [0, 1] (in '/home/code_2.stan', line 11, column 4 to column 25)\n\tException: bernoulli_lpmf: n[2] is 2, but must be in the interval [0, 1] (in '/home/code_2.stan', line 11, column 4 to column 25)\n\tException: bernoulli_lpmf: n[2] is 2, but must be in the interval [0, 1] (in '/home/code_2.stan', line 11, column 4 to column 25)\nException: bernoulli_lpmf: n[2] is 2, but must be in the interval [0, 1] (in '/home/code_2.stan', line 11, column 4 to column 25)\n\tException: bernoulli_lpmf: n[2] is 2, but must be in the interval [0, 1] (in '/home/code_2.stan', line 11, column 4 to column 25)\n\tException: bernoulli_lpmf: n[2] is 2, but must be in the interval [0, 1] (in '/home/code_2.stan', line 11, column 4 to column 25)\n\tException: bernoulli_lpmf: n[2] is 2, but must be in the interval [0, 1] (in '/home/code_2.stan', line 11, column 4 to column 25)\n\tException: bernoulli_lpmf: n[2] is 2, but must be in the interval [0, 1] (in '/home/code_2.stan', line 11, column 4 to column 25)\n\tException: bernoulli_lpmf: n[2] is 2, but must be in the interval [0, 1] (in '/home/code_2.stan', line 11, column 4 to column 25)\n\tException: bernoulli_lpmf: n[2] is 2, but must be in the interval [0, 1] (in '/home/code_2.stan', line 11, column 4 to column 25)\n\tException: bernoulli_lpmf: n[2] is 2, but must be in the interval [0, 1] (in '/home/code_2.stan', line 11, column 4 to column 25)\n\tException: bernoulli_lpmf: n[2] is 2, but must be in the interval [0, 1] (in '/home/code_2.stan', line 11, column 4 to column 25)\n\tException: bernoulli_lpmf: n[2] is 2, but must be in the interval [0, 1] (in '/home/code_2.stan', line 11, column 4 to column 25)\n\tException: bernoulli_lpmf: n[2] is 2, but must be in the interval [0, 1] (in '/home/code_2.stan', line 11, column 4 to column 25)\n\tException: bernoulli_lpmf: n[2] is 2, but must be in the interval [0, 1] (in '/home/code_2.stan', line 11, column 4 to column 25)\n\tException: bernoulli_lpmf: n[2] is 2, but must be in the interval [0, 1] (in '/home/code_2.stan', line 11, column 4 to column 25)\n\tException: bernoulli_lpmf: n[2] is 2, but must be in the interval [0, 1] (in '/home/code_2.stan', line 11, column 4 to column 25)\n\tException: bernoulli_lpmf: n[2] is 2, but must be in the interval [0, 1] (in '/home/code_2.stan', line 11, column 4 to column 25)\n\tException: bernoulli_lpmf: n[2] is 2, but must be in the interval [0, 1] (in '/home/code_2.stan', line 11, column 4 to column 25)\n\tException: bernoulli_lpmf: n[2] is 2, but must be in the interval [0, 1] (in '/home/code_2.stan', line 11, column 4 to column 25)\n\tException: bernoulli_lpmf: n[2] is 2, but must be in the interval [0, 1] (in '/home/code_2.stan', line 11, column 4 to column 25)\n\tException: bernoulli_lpmf: n[2] is 2, but must be in the interval [0, 1] (in '/home/code_2.stan', line 11, column 4 to column 25)\n\tException: bernoulli_lpmf: n[2] is 2, but must be in the interval [0, 1] (in '/home/code_2.stan', line 11, column 4 to column 25)\n\tException: bernoulli_lpmf: n[2] is 2, but must be in the interval [0, 1] (in '/home/code_2.stan', line 11, column 4 to column 25)\n\tException: bernoulli_lpmf: n[2] is 2, but must be in the interval [0, 1] (in '/home/code_2.stan', line 11, column 4 to column 25)\n\tException: bernoulli_lpmf: n[2] is 2, but must be in the interval [0, 1] (in '/home/code_2.stan', line 11, column 4 to column 25)\n\tException: bernoulli_lpmf: n[2] is 2, but must be in the interval [0, 1] (in '/home/code_2.stan', line 11, column 4 to column 25)\n\tException: bernoulli_lpmf: n[2] is 2, but must be in the interval [0, 1] (in '/home/code_2.stan', line 11, column 4 to column 25)\n\tException: bernoulli_lpmf: n[2] is 2, but must be in the interval [0, 1] (in '/home/code_2.stan', line 11, column 4 to column 25)\n\tException: bernoulli_lpmf: n[2] is 2, but must be in the interval [0, 1] (in '/home/code_2.stan', line 11, column 4 to column 25)\n\tException: bernoulli_lpmf: n[2] is 2, but must be in the interval [0, 1] (in '/home/code_2.stan', line 11, column 4 to column 25)\n\tException: bernoulli_lpmf: n[2] is 2, but must be in the interval [0, 1] (in '/home/code_2.stan', line 11, column 4 to column 25)\n\tException: bernoulli_lpmf: n[2] is 2, but must be in the interval [0, 1] (in '/home/code_2.stan', line 11, column 4 to column 25)\n\tException: bernoulli_lpmf: n[2] is 2, but must be in the interval [0, 1] (in '/home/code_2.stan', line 11, column 4 to column 25)\n\tException: bernoulli_lpmf: n[2] is 2, but must be in the interval [0, 1] (in '/home/code_2.stan', line 11, column 4 to column 25)\n\tException: bernoulli_lpmf: n[2] is 2, but must be in the interval [0, 1] (in '/home/code_2.stan', line 11, column 4 to column 25)\n\tException: bernoulli_lpmf: n[2] is 2, but must be in the interval [0, 1] (in '/home/code_2.stan', line 11, column 4 to column 25)\n\tException: bernoulli_lpmf: n[2] is 2, but must be in the interval [0, 1] (in '/home/code_2.stan', line 11, column 4 to column 25)\n\tException: bernoulli_lpmf: n[2] is 2, but must be in the interval [0, 1] (in '/home/code_2.stan', line 11, column 4 to column 25)\n\tException: bernoulli_lpmf: n[2] is 2, but must be in the interval [0, 1] (in '/home/code_2.stan', line 11, column 4 to column 25)\n\tException: bernoulli_lpmf: n[2] is 2, but must be in the interval [0, 1] (in '/home/code_2.stan', line 11, column 4 to column 25)\n\tException: bernoulli_lpmf: n[2] is 2, but must be in the interval [0, 1] (in '/home/code_2.stan', line 11, column 4 to column 25)\n\tException: bernoulli_lpmf: n[2] is 2, but must be in the interval [0, 1] (in '/home/code_2.stan', line 11, column 4 to column 25)\n\tException: bernoulli_lpmf: n[2] is 2, but must be in the interval [0, 1] (in '/home/code_2.stan', line 11, column 4 to column 25)\n\tException: bernoulli_lpmf: n[2] is 2, but must be in the interval [0, 1] (in '/home/code_2.stan', line 11, column 4 to column 25)\n\tException: bernoulli_lpmf: n[2] is 2, but must be in the interval [0, 1] (in '/home/code_2.stan', line 11, column 4 to column 25)\n\tException: bernoulli_lpmf: n[2] is 2, but must be in the interval [0, 1] (in '/home/code_2.stan', line 11, column 4 to column 25)\n\tException: bernoulli_lpmf: n[2] is 2, but must be in the interval [0, 1] (in '/home/code_2.stan', line 11, column 4 to column 25)\n\tException: bernoulli_lpmf: n[2] is 2, but must be in the interval [0, 1] (in '/home/code_2.stan', line 11, column 4 to column 25)\n\tException: bernoulli_lpmf: n[2] is 2, but must be in the interval [0, 1] (in '/home/code_2.stan', line 11, column 4 to column 25)\n\tException: bernoulli_lpmf: n[2] is 2, but must be in the interval [0, 1] (in '/home/code_2.stan', line 11, column 4 to column 25)\n\tException: bernoulli_lpmf: n[2] is 2, but must be in the interval [0, 1] (in '/home/code_2.stan', line 11, column 4 to column 25)\n\tException: bernoulli_lpmf: n[2] is 2, but must be in the interval [0, 1] (in '/home/code_2.stan', line 11, column 4 to column 25)\n\tException: bernoulli_lpmf: n[2] is 2, but must be in the interval [0, 1] (in '/home/code_2.stan', line 11, column 4 to column 25)\n\tException: bernoulli_lpmf: n[2] is 2, but must be in the interval [0, 1] (in '/home/code_2.stan', line 11, column 4 to column 25)\n\tException: bernoulli_lpmf: n[2] is 2, but must be in the interval [0, 1] (in '/home/code_2.stan', line 11, column 4 to column 25)\n\tException: bernoulli_lpmf: n[2] is 2, but must be in the interval [0, 1] (in '/home/code_2.stan', line 11, column 4 to column 25)\n\tException: bernoulli_lpmf: n[2] is 2, but must be in the interval [0, 1] (in '/home/code_2.stan', line 11, column 4 to column 25)\n\tException: bernoulli_lpmf: n[2] is 2, but must be in the interval [0, 1] (in '/home/code_2.stan', line 11, column 4 to column 25)\n\tException: bernoulli_lpmf: n[2] is 2, but must be in the interval [0, 1] (in '/home/code_2.stan', line 11, column 4 to column 25)\n\tException: bernoulli_lpmf: n[2] is 2, but must be in the interval [0, 1] (in '/home/code_2.stan', line 11, column 4 to column 25)\n\tException: bernoulli_lpmf: n[2] is 2, but must be in the interval [0, 1] (in '/home/code_2.stan', line 11, column 4 to column 25)\n\tException: bernoulli_lpmf: n[2] is 2, but must be in the interval [0, 1] (in '/home/code_2.stan', line 11, column 4 to column 25)\n\tException: bernoulli_lpmf: n[2] is 2, but must be in the interval [0, 1] (in '/home/code_2.stan', line 11, column 4 to column 25)\n\tException: bernoulli_lpmf: n[2] is 2, but must be in the interval [0, 1] (in '/home/code_2.stan', line 11, column 4 to column 25)\n\tException: bernoulli_lpmf: n[2] is 2, but must be in the interval [0, 1] (in '/home/code_2.stan', line 11, column 4 to column 25)\n\tException: bernoulli_lpmf: n[2] is 2, but must be in the interval [0, 1] (in '/home/code_2.stan', line 11, column 4 to column 25)\n\tException: bernoulli_lpmf: n[2] is 2, but must be in the interval [0, 1] (in '/home/code_2.stan', line 11, column 4 to column 25)\n\tException: bernoulli_lpmf: n[2] is 2, but must be in the interval [0, 1] (in '/home/code_2.stan', line 11, column 4 to column 25)\n\tException: bernoulli_lpmf: n[2] is 2, but must be in the interval [0, 1] (in '/home/code_2.stan', line 11, column 4 to column 25)\n\tException: bernoulli_lpmf: n[2] is 2, but must be in the interval [0, 1] (in '/home/code_2.stan', line 11, column 4 to column 25)\n\tException: bernoulli_lpmf: n[2] is 2, but must be in the interval [0, 1] (in '/home/code_2.stan', line 11, column 4 to column 25)\n\tException: bernoulli_lpmf: n[2] is 2, but must be in the interval [0, 1] (in '/home/code_2.stan', line 11, column 4 to column 25)\n\tException: bernoulli_lpmf: n[2] is 2, but must be in the interval [0, 1] (in '/home/code_2.stan', line 11, column 4 to column 25)\n\tException: bernoulli_lpmf: n[2] is 2, but must be in the interval [0, 1] (in '/home/code_2.stan', line 11, column 4 to column 25)\n\tException: bernoulli_lpmf: n[2] is 2, but must be in the interval [0, 1] (in '/home/code_2.stan', line 11, column 4 to column 25)\n\tException: bernoulli_lpmf: n[2] is 2, but must be in the interval [0, 1] (in '/home/code_2.stan', line 11, column 4 to column 25)\n\tException: bernoulli_lpmf: n[2] is 2, but must be in the interval [0, 1] (in '/home/code_2.stan', line 11, column 4 to column 25)\n\tException: bernoulli_lpmf: n[2] is 2, but must be in the interval [0, 1] (in '/home/code_2.stan', line 11, column 4 to column 25)\n\tException: bernoulli_lpmf: n[2] is 2, but must be in the interval [0, 1] (in '/home/code_2.stan', line 11, column 4 to column 25)\n\tException: bernoulli_lpmf: n[2] is 2, but must be in the interval [0, 1] (in '/home/code_2.stan', line 11, column 4 to column 25)\n\tException: bernoulli_lpmf: n[2] is 2, but must be in the interval [0, 1] (in '/home/code_2.stan', line 11, column 4 to column 25)\n\tException: bernoulli_lpmf: n[2] is 2, but must be in the interval [0, 1] (in '/home/code_2.stan', line 11, column 4 to column 25)\n\tException: bernoulli_lpmf: n[2] is 2, but must be in the interval [0, 1] (in '/home/code_2.stan', line 11, column 4 to column 25)\n\tException: bernoulli_lpmf: n[2] is 2, but must be in the interval [0, 1] (in '/home/code_2.stan', line 11, column 4 to column 25)\n\tException: bernoulli_lpmf: n[2] is 2, but must be in the interval [0, 1] (in '/home/code_2.stan', line 11, column 4 to column 25)\n\tException: bernoulli_lpmf: n[2] is 2, but must be in the interval [0, 1] (in '/home/code_2.stan', line 11, column 4 to column 25)\n\tException: bernoulli_lpmf: n[2] is 2, but must be in the interval [0, 1] (in '/home/code_2.stan', line 11, column 4 to column 25)\n\tException: bernoulli_lpmf: n[2] is 2, but must be in the interval [0, 1] (in '/home/code_2.stan', line 11, column 4 to column 25)\n\tException: bernoulli_lpmf: n[2] is 2, but must be in the interval [0, 1] (in '/home/code_2.stan', line 11, column 4 to column 25)\n\tException: bernoulli_lpmf: n[2] is 2, but must be in the interval [0, 1] (in '/home/code_2.stan', line 11, column 4 to column 25)\n\tException: bernoulli_lpmf: n[2] is 2, but must be in the interval [0, 1] (in '/home/code_2.stan', line 11, column 4 to column 25)\n\tException: bernoulli_lpmf: n[2] is 2, but must be in the interval [0, 1] (in '/home/code_2.stan', line 11, column 4 to column 25)\n\tException: bernoulli_lpmf: n[2] is 2, but must be in the interval [0, 1] (in '/home/code_2.stan', line 11, column 4 to column 25)\n\tException: bernoulli_lpmf: n[2] is 2, but must be in the interval [0, 1] (in '/home/code_2.stan', line 11, column 4 to column 25)\n\tException: bernoulli_lpmf: n[2] is 2, but must be in the interval [0, 1] (in '/home/code_2.stan', line 11, column 4 to column 25)\n\tException: bernoulli_lpmf: n[2] is 2, but must be in the interval [0, 1] (in '/home/code_2.stan', line 11, column 4 to column 25)\n\tException: bernoulli_lpmf: n[2] is 2, but must be in the interval [0, 1] (in '/home/code_2.stan', line 11, column 4 to column 25)\n\tException: bernoulli_lpmf: n[2] is 2, but must be in the interval [0, 1] (in '/home/code_2.stan', line 11, column 4 to column 25)\n\tException: bernoulli_lpmf: n[2] is 2, but must be in the interval [0, 1] (in '/home/code_2.stan', line 11, column 4 to column 25)\n\tException: bernoulli_lpmf: n[2] is 2, but must be in the interval [0, 1] (in '/home/code_2.stan', line 11, column 4 to column 25)\n\tException: bernoulli_lpmf: n[2] is 2, but must be in the interval [0, 1] (in '/home/code_2.stan', line 11, column 4 to column 25)\n\tException: bernoulli_lpmf: n[2] is 2, but must be in the interval [0, 1] (in '/home/code_2.stan', line 11, column 4 to column 25)Command and output files:\nRunSet: chains=4, chain_ids=[1, 2, 3, 4], num_processes=4\n cmd (chain 1):\n\t['/home/code_2', 'id=1', 'random', 'seed=51027', 'data', 'file=/tmp/tmpxprcpdup/qmndolf6.json', 'output', 'file=/tmp/tmpxprcpdup/code_2-20240319192215_1.csv', 'method=sample', 'algorithm=hmc', 'adapt', 'engaged=1']\n retcodes=[1, 1, 1, 1]\n per-chain output files (showing chain 1 only):\n csv_file:\n\t/tmp/tmpxprcpdup/code_2-20240319192215_1.csv\n console_msgs (if any):\n\t/tmp/tmpxprcpdup/code_2-20240319192215_0-stdout.txt",
     "output_type": "error",
     "traceback": [
      "\u001b[0;31m---------------------------------------------------------------------------\u001b[0m",
      "\u001b[0;31mRuntimeError\u001b[0m                              Traceback (most recent call last)",
      "Input \u001b[0;32mIn [12]\u001b[0m, in \u001b[0;36m<cell line: 0>\u001b[0;34m()\u001b[0m\n\u001b[1;32m      1\u001b[0m bern1 \u001b[38;5;241m=\u001b[39m CmdStanModel(stan_file\u001b[38;5;241m=\u001b[39m\u001b[38;5;124m'\u001b[39m\u001b[38;5;124mhome/code_2.stan\u001b[39m\u001b[38;5;124m'\u001b[39m)\n\u001b[0;32m----> 2\u001b[0m samp_bern1 \u001b[38;5;241m=\u001b[39m bern1\u001b[38;5;241m.\u001b[39msample(data\u001b[38;5;241m=\u001b[39m{\u001b[38;5;124m'\u001b[39m\u001b[38;5;124mN\u001b[39m\u001b[38;5;124m'\u001b[39m:\u001b[38;5;241m2\u001b[39m, \u001b[38;5;124m'\u001b[39m\u001b[38;5;124my\u001b[39m\u001b[38;5;124m'\u001b[39m:[\u001b[38;5;241m0\u001b[39m,\u001b[38;5;241m2\u001b[39m]})\n",
      "File \u001b[0;32m/usr/local/lib/python3.12/site-packages/cmdstanpy/model.py:1089\u001b[0m, in \u001b[0;36mCmdStanModel.sample\u001b[0;34m(self, data, chains, parallel_chains, threads_per_chain, seed, chain_ids, inits, iter_warmup, iter_sampling, save_warmup, thin, max_treedepth, metric, step_size, adapt_engaged, adapt_delta, adapt_init_phase, adapt_metric_window, adapt_step_size, fixed_param, output_dir, sig_figs, save_latent_dynamics, save_profile, show_progress, show_console, refresh, time_fmt, force_one_process_per_chain)\u001b[0m\n\u001b[1;32m   1085\u001b[0m         msg \u001b[38;5;241m=\u001b[39m \u001b[38;5;124m'\u001b[39m\u001b[38;5;124mError during sampling:\u001b[39m\u001b[38;5;130;01m\\n\u001b[39;00m\u001b[38;5;132;01m{}\u001b[39;00m\u001b[38;5;124m'\u001b[39m\u001b[38;5;241m.\u001b[39mformat(runset\u001b[38;5;241m.\u001b[39mget_err_msgs())\n\u001b[1;32m   1086\u001b[0m         msg \u001b[38;5;241m=\u001b[39m \u001b[38;5;124m'\u001b[39m\u001b[38;5;132;01m{}\u001b[39;00m\u001b[38;5;124mCommand and output files:\u001b[39m\u001b[38;5;130;01m\\n\u001b[39;00m\u001b[38;5;132;01m{}\u001b[39;00m\u001b[38;5;124m'\u001b[39m\u001b[38;5;241m.\u001b[39mformat(\n\u001b[1;32m   1087\u001b[0m             msg, runset\u001b[38;5;241m.\u001b[39m\u001b[38;5;21m__repr__\u001b[39m()\n\u001b[1;32m   1088\u001b[0m         )\n\u001b[0;32m-> 1089\u001b[0m         \u001b[38;5;28;01mraise\u001b[39;00m \u001b[38;5;167;01mRuntimeError\u001b[39;00m(msg)\n\u001b[1;32m   1091\u001b[0m     mcmc \u001b[38;5;241m=\u001b[39m CmdStanMCMC(runset)\n\u001b[1;32m   1092\u001b[0m \u001b[38;5;28;01mreturn\u001b[39;00m mcmc\n",
      "\u001b[0;31mRuntimeError\u001b[0m: Error during sampling:\nException: bernoulli_lpmf: n[2] is 2, but must be in the interval [0, 1] (in '/home/code_2.stan', line 11, column 4 to column 25)\n\tException: bernoulli_lpmf: n[2] is 2, but must be in the interval [0, 1] (in '/home/code_2.stan', line 11, column 4 to column 25)\n\tException: bernoulli_lpmf: n[2] is 2, but must be in the interval [0, 1] (in '/home/code_2.stan', line 11, column 4 to column 25)\n\tException: bernoulli_lpmf: n[2] is 2, but must be in the interval [0, 1] (in '/home/code_2.stan', line 11, column 4 to column 25)\n\tException: bernoulli_lpmf: n[2] is 2, but must be in the interval [0, 1] (in '/home/code_2.stan', line 11, column 4 to column 25)\n\tException: bernoulli_lpmf: n[2] is 2, but must be in the interval [0, 1] (in '/home/code_2.stan', line 11, column 4 to column 25)\n\tException: bernoulli_lpmf: n[2] is 2, but must be in the interval [0, 1] (in '/home/code_2.stan', line 11, column 4 to column 25)\n\tException: bernoulli_lpmf: n[2] is 2, but must be in the interval [0, 1] (in '/home/code_2.stan', line 11, column 4 to column 25)\n\tException: bernoulli_lpmf: n[2] is 2, but must be in the interval [0, 1] (in '/home/code_2.stan', line 11, column 4 to column 25)\n\tException: bernoulli_lpmf: n[2] is 2, but must be in the interval [0, 1] (in '/home/code_2.stan', line 11, column 4 to column 25)\n\tException: bernoulli_lpmf: n[2] is 2, but must be in the interval [0, 1] (in '/home/code_2.stan', line 11, column 4 to column 25)\n\tException: bernoulli_lpmf: n[2] is 2, but must be in the interval [0, 1] (in '/home/code_2.stan', line 11, column 4 to column 25)\n\tException: bernoulli_lpmf: n[2] is 2, but must be in the interval [0, 1] (in '/home/code_2.stan', line 11, column 4 to column 25)\n\tException: bernoulli_lpmf: n[2] is 2, but must be in the interval [0, 1] (in '/home/code_2.stan', line 11, column 4 to column 25)\n\tException: bernoulli_lpmf: n[2] is 2, but must be in the interval [0, 1] (in '/home/code_2.stan', line 11, column 4 to column 25)\n\tException: bernoulli_lpmf: n[2] is 2, but must be in the interval [0, 1] (in '/home/code_2.stan', line 11, column 4 to column 25)\n\tException: bernoulli_lpmf: n[2] is 2, but must be in the interval [0, 1] (in '/home/code_2.stan', line 11, column 4 to column 25)\n\tException: bernoulli_lpmf: n[2] is 2, but must be in the interval [0, 1] (in '/home/code_2.stan', line 11, column 4 to column 25)\n\tException: bernoulli_lpmf: n[2] is 2, but must be in the interval [0, 1] (in '/home/code_2.stan', line 11, column 4 to column 25)\n\tException: bernoulli_lpmf: n[2] is 2, but must be in the interval [0, 1] (in '/home/code_2.stan', line 11, column 4 to column 25)\n\tException: bernoulli_lpmf: n[2] is 2, but must be in the interval [0, 1] (in '/home/code_2.stan', line 11, column 4 to column 25)\n\tException: bernoulli_lpmf: n[2] is 2, but must be in the interval [0, 1] (in '/home/code_2.stan', line 11, column 4 to column 25)\n\tException: bernoulli_lpmf: n[2] is 2, but must be in the interval [0, 1] (in '/home/code_2.stan', line 11, column 4 to column 25)\n\tException: bernoulli_lpmf: n[2] is 2, but must be in the interval [0, 1] (in '/home/code_2.stan', line 11, column 4 to column 25)\n\tException: bernoulli_lpmf: n[2] is 2, but must be in the interval [0, 1] (in '/home/code_2.stan', line 11, column 4 to column 25)\n\tException: bernoulli_lpmf: n[2] is 2, but must be in the interval [0, 1] (in '/home/code_2.stan', line 11, column 4 to column 25)\n\tException: bernoulli_lpmf: n[2] is 2, but must be in the interval [0, 1] (in '/home/code_2.stan', line 11, column 4 to column 25)\n\tException: bernoulli_lpmf: n[2] is 2, but must be in the interval [0, 1] (in '/home/code_2.stan', line 11, column 4 to column 25)\n\tException: bernoulli_lpmf: n[2] is 2, but must be in the interval [0, 1] (in '/home/code_2.stan', line 11, column 4 to column 25)\n\tException: bernoulli_lpmf: n[2] is 2, but must be in the interval [0, 1] (in '/home/code_2.stan', line 11, column 4 to column 25)\n\tException: bernoulli_lpmf: n[2] is 2, but must be in the interval [0, 1] (in '/home/code_2.stan', line 11, column 4 to column 25)\n\tException: bernoulli_lpmf: n[2] is 2, but must be in the interval [0, 1] (in '/home/code_2.stan', line 11, column 4 to column 25)\n\tException: bernoulli_lpmf: n[2] is 2, but must be in the interval [0, 1] (in '/home/code_2.stan', line 11, column 4 to column 25)\n\tException: bernoulli_lpmf: n[2] is 2, but must be in the interval [0, 1] (in '/home/code_2.stan', line 11, column 4 to column 25)\n\tException: bernoulli_lpmf: n[2] is 2, but must be in the interval [0, 1] (in '/home/code_2.stan', line 11, column 4 to column 25)\n\tException: bernoulli_lpmf: n[2] is 2, but must be in the interval [0, 1] (in '/home/code_2.stan', line 11, column 4 to column 25)\n\tException: bernoulli_lpmf: n[2] is 2, but must be in the interval [0, 1] (in '/home/code_2.stan', line 11, column 4 to column 25)\n\tException: bernoulli_lpmf: n[2] is 2, but must be in the interval [0, 1] (in '/home/code_2.stan', line 11, column 4 to column 25)\n\tException: bernoulli_lpmf: n[2] is 2, but must be in the interval [0, 1] (in '/home/code_2.stan', line 11, column 4 to column 25)\n\tException: bernoulli_lpmf: n[2] is 2, but must be in the interval [0, 1] (in '/home/code_2.stan', line 11, column 4 to column 25)\n\tException: bernoulli_lpmf: n[2] is 2, but must be in the interval [0, 1] (in '/home/code_2.stan', line 11, column 4 to column 25)\n\tException: bernoulli_lpmf: n[2] is 2, but must be in the interval [0, 1] (in '/home/code_2.stan', line 11, column 4 to column 25)\n\tException: bernoulli_lpmf: n[2] is 2, but must be in the interval [0, 1] (in '/home/code_2.stan', line 11, column 4 to column 25)\n\tException: bernoulli_lpmf: n[2] is 2, but must be in the interval [0, 1] (in '/home/code_2.stan', line 11, column 4 to column 25)\n\tException: bernoulli_lpmf: n[2] is 2, but must be in the interval [0, 1] (in '/home/code_2.stan', line 11, column 4 to column 25)\n\tException: bernoulli_lpmf: n[2] is 2, but must be in the interval [0, 1] (in '/home/code_2.stan', line 11, column 4 to column 25)\n\tException: bernoulli_lpmf: n[2] is 2, but must be in the interval [0, 1] (in '/home/code_2.stan', line 11, column 4 to column 25)\n\tException: bernoulli_lpmf: n[2] is 2, but must be in the interval [0, 1] (in '/home/code_2.stan', line 11, column 4 to column 25)\n\tException: bernoulli_lpmf: n[2] is 2, but must be in the interval [0, 1] (in '/home/code_2.stan', line 11, column 4 to column 25)\n\tException: bernoulli_lpmf: n[2] is 2, but must be in the interval [0, 1] (in '/home/code_2.stan', line 11, column 4 to column 25)\n\tException: bernoulli_lpmf: n[2] is 2, but must be in the interval [0, 1] (in '/home/code_2.stan', line 11, column 4 to column 25)\n\tException: bernoulli_lpmf: n[2] is 2, but must be in the interval [0, 1] (in '/home/code_2.stan', line 11, column 4 to column 25)\n\tException: bernoulli_lpmf: n[2] is 2, but must be in the interval [0, 1] (in '/home/code_2.stan', line 11, column 4 to column 25)\n\tException: bernoulli_lpmf: n[2] is 2, but must be in the interval [0, 1] (in '/home/code_2.stan', line 11, column 4 to column 25)\n\tException: bernoulli_lpmf: n[2] is 2, but must be in the interval [0, 1] (in '/home/code_2.stan', line 11, column 4 to column 25)\n\tException: bernoulli_lpmf: n[2] is 2, but must be in the interval [0, 1] (in '/home/code_2.stan', line 11, column 4 to column 25)\n\tException: bernoulli_lpmf: n[2] is 2, but must be in the interval [0, 1] (in '/home/code_2.stan', line 11, column 4 to column 25)\n\tException: bernoulli_lpmf: n[2] is 2, but must be in the interval [0, 1] (in '/home/code_2.stan', line 11, column 4 to column 25)\n\tException: bernoulli_lpmf: n[2] is 2, but must be in the interval [0, 1] (in '/home/code_2.stan', line 11, column 4 to column 25)\n\tException: bernoulli_lpmf: n[2] is 2, but must be in the interval [0, 1] (in '/home/code_2.stan', line 11, column 4 to column 25)\n\tException: bernoulli_lpmf: n[2] is 2, but must be in the interval [0, 1] (in '/home/code_2.stan', line 11, column 4 to column 25)\n\tException: bernoulli_lpmf: n[2] is 2, but must be in the interval [0, 1] (in '/home/code_2.stan', line 11, column 4 to column 25)\n\tException: bernoulli_lpmf: n[2] is 2, but must be in the interval [0, 1] (in '/home/code_2.stan', line 11, column 4 to column 25)\n\tException: bernoulli_lpmf: n[2] is 2, but must be in the interval [0, 1] (in '/home/code_2.stan', line 11, column 4 to column 25)\n\tException: bernoulli_lpmf: n[2] is 2, but must be in the interval [0, 1] (in '/home/code_2.stan', line 11, column 4 to column 25)\n\tException: bernoulli_lpmf: n[2] is 2, but must be in the interval [0, 1] (in '/home/code_2.stan', line 11, column 4 to column 25)\n\tException: bernoulli_lpmf: n[2] is 2, but must be in the interval [0, 1] (in '/home/code_2.stan', line 11, column 4 to column 25)\n\tException: bernoulli_lpmf: n[2] is 2, but must be in the interval [0, 1] (in '/home/code_2.stan', line 11, column 4 to column 25)\n\tException: bernoulli_lpmf: n[2] is 2, but must be in the interval [0, 1] (in '/home/code_2.stan', line 11, column 4 to column 25)\n\tException: bernoulli_lpmf: n[2] is 2, but must be in the interval [0, 1] (in '/home/code_2.stan', line 11, column 4 to column 25)\n\tException: bernoulli_lpmf: n[2] is 2, but must be in the interval [0, 1] (in '/home/code_2.stan', line 11, column 4 to column 25)\n\tException: bernoulli_lpmf: n[2] is 2, but must be in the interval [0, 1] (in '/home/code_2.stan', line 11, column 4 to column 25)\n\tException: bernoulli_lpmf: n[2] is 2, but must be in the interval [0, 1] (in '/home/code_2.stan', line 11, column 4 to column 25)\n\tException: bernoulli_lpmf: n[2] is 2, but must be in the interval [0, 1] (in '/home/code_2.stan', line 11, column 4 to column 25)\n\tException: bernoulli_lpmf: n[2] is 2, but must be in the interval [0, 1] (in '/home/code_2.stan', line 11, column 4 to column 25)\n\tException: bernoulli_lpmf: n[2] is 2, but must be in the interval [0, 1] (in '/home/code_2.stan', line 11, column 4 to column 25)\n\tException: bernoulli_lpmf: n[2] is 2, but must be in the interval [0, 1] (in '/home/code_2.stan', line 11, column 4 to column 25)\n\tException: bernoulli_lpmf: n[2] is 2, but must be in the interval [0, 1] (in '/home/code_2.stan', line 11, column 4 to column 25)\n\tException: bernoulli_lpmf: n[2] is 2, but must be in the interval [0, 1] (in '/home/code_2.stan', line 11, column 4 to column 25)\n\tException: bernoulli_lpmf: n[2] is 2, but must be in the interval [0, 1] (in '/home/code_2.stan', line 11, column 4 to column 25)\n\tException: bernoulli_lpmf: n[2] is 2, but must be in the interval [0, 1] (in '/home/code_2.stan', line 11, column 4 to column 25)\n\tException: bernoulli_lpmf: n[2] is 2, but must be in the interval [0, 1] (in '/home/code_2.stan', line 11, column 4 to column 25)\n\tException: bernoulli_lpmf: n[2] is 2, but must be in the interval [0, 1] (in '/home/code_2.stan', line 11, column 4 to column 25)\n\tException: bernoulli_lpmf: n[2] is 2, but must be in the interval [0, 1] (in '/home/code_2.stan', line 11, column 4 to column 25)\n\tException: bernoulli_lpmf: n[2] is 2, but must be in the interval [0, 1] (in '/home/code_2.stan', line 11, column 4 to column 25)\n\tException: bernoulli_lpmf: n[2] is 2, but must be in the interval [0, 1] (in '/home/code_2.stan', line 11, column 4 to column 25)\n\tException: bernoulli_lpmf: n[2] is 2, but must be in the interval [0, 1] (in '/home/code_2.stan', line 11, column 4 to column 25)\n\tException: bernoulli_lpmf: n[2] is 2, but must be in the interval [0, 1] (in '/home/code_2.stan', line 11, column 4 to column 25)\n\tException: bernoulli_lpmf: n[2] is 2, but must be in the interval [0, 1] (in '/home/code_2.stan', line 11, column 4 to column 25)\n\tException: bernoulli_lpmf: n[2] is 2, but must be in the interval [0, 1] (in '/home/code_2.stan', line 11, column 4 to column 25)\n\tException: bernoulli_lpmf: n[2] is 2, but must be in the interval [0, 1] (in '/home/code_2.stan', line 11, column 4 to column 25)\n\tException: bernoulli_lpmf: n[2] is 2, but must be in the interval [0, 1] (in '/home/code_2.stan', line 11, column 4 to column 25)\n\tException: bernoulli_lpmf: n[2] is 2, but must be in the interval [0, 1] (in '/home/code_2.stan', line 11, column 4 to column 25)\n\tException: bernoulli_lpmf: n[2] is 2, but must be in the interval [0, 1] (in '/home/code_2.stan', line 11, column 4 to column 25)\n\tException: bernoulli_lpmf: n[2] is 2, but must be in the interval [0, 1] (in '/home/code_2.stan', line 11, column 4 to column 25)\n\tException: bernoulli_lpmf: n[2] is 2, but must be in the interval [0, 1] (in '/home/code_2.stan', line 11, column 4 to column 25)\n\tException: bernoulli_lpmf: n[2] is 2, but must be in the interval [0, 1] (in '/home/code_2.stan', line 11, column 4 to column 25)\n\tException: bernoulli_lpmf: n[2] is 2, but must be in the interval [0, 1] (in '/home/code_2.stan', line 11, column 4 to column 25)\n\tException: bernoulli_lpmf: n[2] is 2, but must be in the interval [0, 1] (in '/home/code_2.stan', line 11, column 4 to column 25)\n\tException: bernoulli_lpmf: n[2] is 2, but must be in the interval [0, 1] (in '/home/code_2.stan', line 11, column 4 to column 25)\nException: bernoulli_lpmf: n[2] is 2, but must be in the interval [0, 1] (in '/home/code_2.stan', line 11, column 4 to column 25)\n\tException: bernoulli_lpmf: n[2] is 2, but must be in the interval [0, 1] (in '/home/code_2.stan', line 11, column 4 to column 25)\n\tException: bernoulli_lpmf: n[2] is 2, but must be in the interval [0, 1] (in '/home/code_2.stan', line 11, column 4 to column 25)\n\tException: bernoulli_lpmf: n[2] is 2, but must be in the interval [0, 1] (in '/home/code_2.stan', line 11, column 4 to column 25)\n\tException: bernoulli_lpmf: n[2] is 2, but must be in the interval [0, 1] (in '/home/code_2.stan', line 11, column 4 to column 25)\n\tException: bernoulli_lpmf: n[2] is 2, but must be in the interval [0, 1] (in '/home/code_2.stan', line 11, column 4 to column 25)\n\tException: bernoulli_lpmf: n[2] is 2, but must be in the interval [0, 1] (in '/home/code_2.stan', line 11, column 4 to column 25)\n\tException: bernoulli_lpmf: n[2] is 2, but must be in the interval [0, 1] (in '/home/code_2.stan', line 11, column 4 to column 25)\n\tException: bernoulli_lpmf: n[2] is 2, but must be in the interval [0, 1] (in '/home/code_2.stan', line 11, column 4 to column 25)\n\tException: bernoulli_lpmf: n[2] is 2, but must be in the interval [0, 1] (in '/home/code_2.stan', line 11, column 4 to column 25)\n\tException: bernoulli_lpmf: n[2] is 2, but must be in the interval [0, 1] (in '/home/code_2.stan', line 11, column 4 to column 25)\n\tException: bernoulli_lpmf: n[2] is 2, but must be in the interval [0, 1] (in '/home/code_2.stan', line 11, column 4 to column 25)\n\tException: bernoulli_lpmf: n[2] is 2, but must be in the interval [0, 1] (in '/home/code_2.stan', line 11, column 4 to column 25)\n\tException: bernoulli_lpmf: n[2] is 2, but must be in the interval [0, 1] (in '/home/code_2.stan', line 11, column 4 to column 25)\n\tException: bernoulli_lpmf: n[2] is 2, but must be in the interval [0, 1] (in '/home/code_2.stan', line 11, column 4 to column 25)\n\tException: bernoulli_lpmf: n[2] is 2, but must be in the interval [0, 1] (in '/home/code_2.stan', line 11, column 4 to column 25)\n\tException: bernoulli_lpmf: n[2] is 2, but must be in the interval [0, 1] (in '/home/code_2.stan', line 11, column 4 to column 25)\n\tException: bernoulli_lpmf: n[2] is 2, but must be in the interval [0, 1] (in '/home/code_2.stan', line 11, column 4 to column 25)\n\tException: bernoulli_lpmf: n[2] is 2, but must be in the interval [0, 1] (in '/home/code_2.stan', line 11, column 4 to column 25)\n\tException: bernoulli_lpmf: n[2] is 2, but must be in the interval [0, 1] (in '/home/code_2.stan', line 11, column 4 to column 25)\n\tException: bernoulli_lpmf: n[2] is 2, but must be in the interval [0, 1] (in '/home/code_2.stan', line 11, column 4 to column 25)\n\tException: bernoulli_lpmf: n[2] is 2, but must be in the interval [0, 1] (in '/home/code_2.stan', line 11, column 4 to column 25)\n\tException: bernoulli_lpmf: n[2] is 2, but must be in the interval [0, 1] (in '/home/code_2.stan', line 11, column 4 to column 25)\n\tException: bernoulli_lpmf: n[2] is 2, but must be in the interval [0, 1] (in '/home/code_2.stan', line 11, column 4 to column 25)\n\tException: bernoulli_lpmf: n[2] is 2, but must be in the interval [0, 1] (in '/home/code_2.stan', line 11, column 4 to column 25)\n\tException: bernoulli_lpmf: n[2] is 2, but must be in the interval [0, 1] (in '/home/code_2.stan', line 11, column 4 to column 25)\n\tException: bernoulli_lpmf: n[2] is 2, but must be in the interval [0, 1] (in '/home/code_2.stan', line 11, column 4 to column 25)\n\tException: bernoulli_lpmf: n[2] is 2, but must be in the interval [0, 1] (in '/home/code_2.stan', line 11, column 4 to column 25)\n\tException: bernoulli_lpmf: n[2] is 2, but must be in the interval [0, 1] (in '/home/code_2.stan', line 11, column 4 to column 25)\n\tException: bernoulli_lpmf: n[2] is 2, but must be in the interval [0, 1] (in '/home/code_2.stan', line 11, column 4 to column 25)\n\tException: bernoulli_lpmf: n[2] is 2, but must be in the interval [0, 1] (in '/home/code_2.stan', line 11, column 4 to column 25)\n\tException: bernoulli_lpmf: n[2] is 2, but must be in the interval [0, 1] (in '/home/code_2.stan', line 11, column 4 to column 25)\n\tException: bernoulli_lpmf: n[2] is 2, but must be in the interval [0, 1] (in '/home/code_2.stan', line 11, column 4 to column 25)\n\tException: bernoulli_lpmf: n[2] is 2, but must be in the interval [0, 1] (in '/home/code_2.stan', line 11, column 4 to column 25)\n\tException: bernoulli_lpmf: n[2] is 2, but must be in the interval [0, 1] (in '/home/code_2.stan', line 11, column 4 to column 25)\n\tException: bernoulli_lpmf: n[2] is 2, but must be in the interval [0, 1] (in '/home/code_2.stan', line 11, column 4 to column 25)\n\tException: bernoulli_lpmf: n[2] is 2, but must be in the interval [0, 1] (in '/home/code_2.stan', line 11, column 4 to column 25)\n\tException: bernoulli_lpmf: n[2] is 2, but must be in the interval [0, 1] (in '/home/code_2.stan', line 11, column 4 to column 25)\n\tException: bernoulli_lpmf: n[2] is 2, but must be in the interval [0, 1] (in '/home/code_2.stan', line 11, column 4 to column 25)\n\tException: bernoulli_lpmf: n[2] is 2, but must be in the interval [0, 1] (in '/home/code_2.stan', line 11, column 4 to column 25)\n\tException: bernoulli_lpmf: n[2] is 2, but must be in the interval [0, 1] (in '/home/code_2.stan', line 11, column 4 to column 25)\n\tException: bernoulli_lpmf: n[2] is 2, but must be in the interval [0, 1] (in '/home/code_2.stan', line 11, column 4 to column 25)\n\tException: bernoulli_lpmf: n[2] is 2, but must be in the interval [0, 1] (in '/home/code_2.stan', line 11, column 4 to column 25)\n\tException: bernoulli_lpmf: n[2] is 2, but must be in the interval [0, 1] (in '/home/code_2.stan', line 11, column 4 to column 25)\n\tException: bernoulli_lpmf: n[2] is 2, but must be in the interval [0, 1] (in '/home/code_2.stan', line 11, column 4 to column 25)\n\tException: bernoulli_lpmf: n[2] is 2, but must be in the interval [0, 1] (in '/home/code_2.stan', line 11, column 4 to column 25)\n\tException: bernoulli_lpmf: n[2] is 2, but must be in the interval [0, 1] (in '/home/code_2.stan', line 11, column 4 to column 25)\n\tException: bernoulli_lpmf: n[2] is 2, but must be in the interval [0, 1] (in '/home/code_2.stan', line 11, column 4 to column 25)\n\tException: bernoulli_lpmf: n[2] is 2, but must be in the interval [0, 1] (in '/home/code_2.stan', line 11, column 4 to column 25)\n\tException: bernoulli_lpmf: n[2] is 2, but must be in the interval [0, 1] (in '/home/code_2.stan', line 11, column 4 to column 25)\n\tException: bernoulli_lpmf: n[2] is 2, but must be in the interval [0, 1] (in '/home/code_2.stan', line 11, column 4 to column 25)\n\tException: bernoulli_lpmf: n[2] is 2, but must be in the interval [0, 1] (in '/home/code_2.stan', line 11, column 4 to column 25)\n\tException: bernoulli_lpmf: n[2] is 2, but must be in the interval [0, 1] (in '/home/code_2.stan', line 11, column 4 to column 25)\n\tException: bernoulli_lpmf: n[2] is 2, but must be in the interval [0, 1] (in '/home/code_2.stan', line 11, column 4 to column 25)\n\tException: bernoulli_lpmf: n[2] is 2, but must be in the interval [0, 1] (in '/home/code_2.stan', line 11, column 4 to column 25)\n\tException: bernoulli_lpmf: n[2] is 2, but must be in the interval [0, 1] (in '/home/code_2.stan', line 11, column 4 to column 25)\n\tException: bernoulli_lpmf: n[2] is 2, but must be in the interval [0, 1] (in '/home/code_2.stan', line 11, column 4 to column 25)\n\tException: bernoulli_lpmf: n[2] is 2, but must be in the interval [0, 1] (in '/home/code_2.stan', line 11, column 4 to column 25)\n\tException: bernoulli_lpmf: n[2] is 2, but must be in the interval [0, 1] (in '/home/code_2.stan', line 11, column 4 to column 25)\n\tException: bernoulli_lpmf: n[2] is 2, but must be in the interval [0, 1] (in '/home/code_2.stan', line 11, column 4 to column 25)\n\tException: bernoulli_lpmf: n[2] is 2, but must be in the interval [0, 1] (in '/home/code_2.stan', line 11, column 4 to column 25)\n\tException: bernoulli_lpmf: n[2] is 2, but must be in the interval [0, 1] (in '/home/code_2.stan', line 11, column 4 to column 25)\n\tException: bernoulli_lpmf: n[2] is 2, but must be in the interval [0, 1] (in '/home/code_2.stan', line 11, column 4 to column 25)\n\tException: bernoulli_lpmf: n[2] is 2, but must be in the interval [0, 1] (in '/home/code_2.stan', line 11, column 4 to column 25)\n\tException: bernoulli_lpmf: n[2] is 2, but must be in the interval [0, 1] (in '/home/code_2.stan', line 11, column 4 to column 25)\n\tException: bernoulli_lpmf: n[2] is 2, but must be in the interval [0, 1] (in '/home/code_2.stan', line 11, column 4 to column 25)\n\tException: bernoulli_lpmf: n[2] is 2, but must be in the interval [0, 1] (in '/home/code_2.stan', line 11, column 4 to column 25)\n\tException: bernoulli_lpmf: n[2] is 2, but must be in the interval [0, 1] (in '/home/code_2.stan', line 11, column 4 to column 25)\n\tException: bernoulli_lpmf: n[2] is 2, but must be in the interval [0, 1] (in '/home/code_2.stan', line 11, column 4 to column 25)\n\tException: bernoulli_lpmf: n[2] is 2, but must be in the interval [0, 1] (in '/home/code_2.stan', line 11, column 4 to column 25)\n\tException: bernoulli_lpmf: n[2] is 2, but must be in the interval [0, 1] (in '/home/code_2.stan', line 11, column 4 to column 25)\n\tException: bernoulli_lpmf: n[2] is 2, but must be in the interval [0, 1] (in '/home/code_2.stan', line 11, column 4 to column 25)\n\tException: bernoulli_lpmf: n[2] is 2, but must be in the interval [0, 1] (in '/home/code_2.stan', line 11, column 4 to column 25)\n\tException: bernoulli_lpmf: n[2] is 2, but must be in the interval [0, 1] (in '/home/code_2.stan', line 11, column 4 to column 25)\n\tException: bernoulli_lpmf: n[2] is 2, but must be in the interval [0, 1] (in '/home/code_2.stan', line 11, column 4 to column 25)\n\tException: bernoulli_lpmf: n[2] is 2, but must be in the interval [0, 1] (in '/home/code_2.stan', line 11, column 4 to column 25)\n\tException: bernoulli_lpmf: n[2] is 2, but must be in the interval [0, 1] (in '/home/code_2.stan', line 11, column 4 to column 25)\n\tException: bernoulli_lpmf: n[2] is 2, but must be in the interval [0, 1] (in '/home/code_2.stan', line 11, column 4 to column 25)\n\tException: bernoulli_lpmf: n[2] is 2, but must be in the interval [0, 1] (in '/home/code_2.stan', line 11, column 4 to column 25)\n\tException: bernoulli_lpmf: n[2] is 2, but must be in the interval [0, 1] (in '/home/code_2.stan', line 11, column 4 to column 25)\n\tException: bernoulli_lpmf: n[2] is 2, but must be in the interval [0, 1] (in '/home/code_2.stan', line 11, column 4 to column 25)\n\tException: bernoulli_lpmf: n[2] is 2, but must be in the interval [0, 1] (in '/home/code_2.stan', line 11, column 4 to column 25)\n\tException: bernoulli_lpmf: n[2] is 2, but must be in the interval [0, 1] (in '/home/code_2.stan', line 11, column 4 to column 25)\n\tException: bernoulli_lpmf: n[2] is 2, but must be in the interval [0, 1] (in '/home/code_2.stan', line 11, column 4 to column 25)\n\tException: bernoulli_lpmf: n[2] is 2, but must be in the interval [0, 1] (in '/home/code_2.stan', line 11, column 4 to column 25)\n\tException: bernoulli_lpmf: n[2] is 2, but must be in the interval [0, 1] (in '/home/code_2.stan', line 11, column 4 to column 25)\n\tException: bernoulli_lpmf: n[2] is 2, but must be in the interval [0, 1] (in '/home/code_2.stan', line 11, column 4 to column 25)\n\tException: bernoulli_lpmf: n[2] is 2, but must be in the interval [0, 1] (in '/home/code_2.stan', line 11, column 4 to column 25)\n\tException: bernoulli_lpmf: n[2] is 2, but must be in the interval [0, 1] (in '/home/code_2.stan', line 11, column 4 to column 25)\n\tException: bernoulli_lpmf: n[2] is 2, but must be in the interval [0, 1] (in '/home/code_2.stan', line 11, column 4 to column 25)\n\tException: bernoulli_lpmf: n[2] is 2, but must be in the interval [0, 1] (in '/home/code_2.stan', line 11, column 4 to column 25)\n\tException: bernoulli_lpmf: n[2] is 2, but must be in the interval [0, 1] (in '/home/code_2.stan', line 11, column 4 to column 25)\n\tException: bernoulli_lpmf: n[2] is 2, but must be in the interval [0, 1] (in '/home/code_2.stan', line 11, column 4 to column 25)\n\tException: bernoulli_lpmf: n[2] is 2, but must be in the interval [0, 1] (in '/home/code_2.stan', line 11, column 4 to column 25)\n\tException: bernoulli_lpmf: n[2] is 2, but must be in the interval [0, 1] (in '/home/code_2.stan', line 11, column 4 to column 25)\n\tException: bernoulli_lpmf: n[2] is 2, but must be in the interval [0, 1] (in '/home/code_2.stan', line 11, column 4 to column 25)\n\tException: bernoulli_lpmf: n[2] is 2, but must be in the interval [0, 1] (in '/home/code_2.stan', line 11, column 4 to column 25)\n\tException: bernoulli_lpmf: n[2] is 2, but must be in the interval [0, 1] (in '/home/code_2.stan', line 11, column 4 to column 25)\n\tException: bernoulli_lpmf: n[2] is 2, but must be in the interval [0, 1] (in '/home/code_2.stan', line 11, column 4 to column 25)\n\tException: bernoulli_lpmf: n[2] is 2, but must be in the interval [0, 1] (in '/home/code_2.stan', line 11, column 4 to column 25)\nException: bernoulli_lpmf: n[2] is 2, but must be in the interval [0, 1] (in '/home/code_2.stan', line 11, column 4 to column 25)\n\tException: bernoulli_lpmf: n[2] is 2, but must be in the interval [0, 1] (in '/home/code_2.stan', line 11, column 4 to column 25)\n\tException: bernoulli_lpmf: n[2] is 2, but must be in the interval [0, 1] (in '/home/code_2.stan', line 11, column 4 to column 25)\n\tException: bernoulli_lpmf: n[2] is 2, but must be in the interval [0, 1] (in '/home/code_2.stan', line 11, column 4 to column 25)\n\tException: bernoulli_lpmf: n[2] is 2, but must be in the interval [0, 1] (in '/home/code_2.stan', line 11, column 4 to column 25)\n\tException: bernoulli_lpmf: n[2] is 2, but must be in the interval [0, 1] (in '/home/code_2.stan', line 11, column 4 to column 25)\n\tException: bernoulli_lpmf: n[2] is 2, but must be in the interval [0, 1] (in '/home/code_2.stan', line 11, column 4 to column 25)\n\tException: bernoulli_lpmf: n[2] is 2, but must be in the interval [0, 1] (in '/home/code_2.stan', line 11, column 4 to column 25)\n\tException: bernoulli_lpmf: n[2] is 2, but must be in the interval [0, 1] (in '/home/code_2.stan', line 11, column 4 to column 25)\n\tException: bernoulli_lpmf: n[2] is 2, but must be in the interval [0, 1] (in '/home/code_2.stan', line 11, column 4 to column 25)\n\tException: bernoulli_lpmf: n[2] is 2, but must be in the interval [0, 1] (in '/home/code_2.stan', line 11, column 4 to column 25)\n\tException: bernoulli_lpmf: n[2] is 2, but must be in the interval [0, 1] (in '/home/code_2.stan', line 11, column 4 to column 25)\n\tException: bernoulli_lpmf: n[2] is 2, but must be in the interval [0, 1] (in '/home/code_2.stan', line 11, column 4 to column 25)\n\tException: bernoulli_lpmf: n[2] is 2, but must be in the interval [0, 1] (in '/home/code_2.stan', line 11, column 4 to column 25)\n\tException: bernoulli_lpmf: n[2] is 2, but must be in the interval [0, 1] (in '/home/code_2.stan', line 11, column 4 to column 25)\n\tException: bernoulli_lpmf: n[2] is 2, but must be in the interval [0, 1] (in '/home/code_2.stan', line 11, column 4 to column 25)\n\tException: bernoulli_lpmf: n[2] is 2, but must be in the interval [0, 1] (in '/home/code_2.stan', line 11, column 4 to column 25)\n\tException: bernoulli_lpmf: n[2] is 2, but must be in the interval [0, 1] (in '/home/code_2.stan', line 11, column 4 to column 25)\n\tException: bernoulli_lpmf: n[2] is 2, but must be in the interval [0, 1] (in '/home/code_2.stan', line 11, column 4 to column 25)\n\tException: bernoulli_lpmf: n[2] is 2, but must be in the interval [0, 1] (in '/home/code_2.stan', line 11, column 4 to column 25)\n\tException: bernoulli_lpmf: n[2] is 2, but must be in the interval [0, 1] (in '/home/code_2.stan', line 11, column 4 to column 25)\n\tException: bernoulli_lpmf: n[2] is 2, but must be in the interval [0, 1] (in '/home/code_2.stan', line 11, column 4 to column 25)\n\tException: bernoulli_lpmf: n[2] is 2, but must be in the interval [0, 1] (in '/home/code_2.stan', line 11, column 4 to column 25)\n\tException: bernoulli_lpmf: n[2] is 2, but must be in the interval [0, 1] (in '/home/code_2.stan', line 11, column 4 to column 25)\n\tException: bernoulli_lpmf: n[2] is 2, but must be in the interval [0, 1] (in '/home/code_2.stan', line 11, column 4 to column 25)\n\tException: bernoulli_lpmf: n[2] is 2, but must be in the interval [0, 1] (in '/home/code_2.stan', line 11, column 4 to column 25)\n\tException: bernoulli_lpmf: n[2] is 2, but must be in the interval [0, 1] (in '/home/code_2.stan', line 11, column 4 to column 25)\n\tException: bernoulli_lpmf: n[2] is 2, but must be in the interval [0, 1] (in '/home/code_2.stan', line 11, column 4 to column 25)\n\tException: bernoulli_lpmf: n[2] is 2, but must be in the interval [0, 1] (in '/home/code_2.stan', line 11, column 4 to column 25)\n\tException: bernoulli_lpmf: n[2] is 2, but must be in the interval [0, 1] (in '/home/code_2.stan', line 11, column 4 to column 25)\n\tException: bernoulli_lpmf: n[2] is 2, but must be in the interval [0, 1] (in '/home/code_2.stan', line 11, column 4 to column 25)\n\tException: bernoulli_lpmf: n[2] is 2, but must be in the interval [0, 1] (in '/home/code_2.stan', line 11, column 4 to column 25)\n\tException: bernoulli_lpmf: n[2] is 2, but must be in the interval [0, 1] (in '/home/code_2.stan', line 11, column 4 to column 25)\n\tException: bernoulli_lpmf: n[2] is 2, but must be in the interval [0, 1] (in '/home/code_2.stan', line 11, column 4 to column 25)\n\tException: bernoulli_lpmf: n[2] is 2, but must be in the interval [0, 1] (in '/home/code_2.stan', line 11, column 4 to column 25)\n\tException: bernoulli_lpmf: n[2] is 2, but must be in the interval [0, 1] (in '/home/code_2.stan', line 11, column 4 to column 25)\n\tException: bernoulli_lpmf: n[2] is 2, but must be in the interval [0, 1] (in '/home/code_2.stan', line 11, column 4 to column 25)\n\tException: bernoulli_lpmf: n[2] is 2, but must be in the interval [0, 1] (in '/home/code_2.stan', line 11, column 4 to column 25)\n\tException: bernoulli_lpmf: n[2] is 2, but must be in the interval [0, 1] (in '/home/code_2.stan', line 11, column 4 to column 25)\n\tException: bernoulli_lpmf: n[2] is 2, but must be in the interval [0, 1] (in '/home/code_2.stan', line 11, column 4 to column 25)\n\tException: bernoulli_lpmf: n[2] is 2, but must be in the interval [0, 1] (in '/home/code_2.stan', line 11, column 4 to column 25)\n\tException: bernoulli_lpmf: n[2] is 2, but must be in the interval [0, 1] (in '/home/code_2.stan', line 11, column 4 to column 25)\n\tException: bernoulli_lpmf: n[2] is 2, but must be in the interval [0, 1] (in '/home/code_2.stan', line 11, column 4 to column 25)\n\tException: bernoulli_lpmf: n[2] is 2, but must be in the interval [0, 1] (in '/home/code_2.stan', line 11, column 4 to column 25)\n\tException: bernoulli_lpmf: n[2] is 2, but must be in the interval [0, 1] (in '/home/code_2.stan', line 11, column 4 to column 25)\n\tException: bernoulli_lpmf: n[2] is 2, but must be in the interval [0, 1] (in '/home/code_2.stan', line 11, column 4 to column 25)\n\tException: bernoulli_lpmf: n[2] is 2, but must be in the interval [0, 1] (in '/home/code_2.stan', line 11, column 4 to column 25)\n\tException: bernoulli_lpmf: n[2] is 2, but must be in the interval [0, 1] (in '/home/code_2.stan', line 11, column 4 to column 25)\n\tException: bernoulli_lpmf: n[2] is 2, but must be in the interval [0, 1] (in '/home/code_2.stan', line 11, column 4 to column 25)\n\tException: bernoulli_lpmf: n[2] is 2, but must be in the interval [0, 1] (in '/home/code_2.stan', line 11, column 4 to column 25)\n\tException: bernoulli_lpmf: n[2] is 2, but must be in the interval [0, 1] (in '/home/code_2.stan', line 11, column 4 to column 25)\n\tException: bernoulli_lpmf: n[2] is 2, but must be in the interval [0, 1] (in '/home/code_2.stan', line 11, column 4 to column 25)\n\tException: bernoulli_lpmf: n[2] is 2, but must be in the interval [0, 1] (in '/home/code_2.stan', line 11, column 4 to column 25)\n\tException: bernoulli_lpmf: n[2] is 2, but must be in the interval [0, 1] (in '/home/code_2.stan', line 11, column 4 to column 25)\n\tException: bernoulli_lpmf: n[2] is 2, but must be in the interval [0, 1] (in '/home/code_2.stan', line 11, column 4 to column 25)\n\tException: bernoulli_lpmf: n[2] is 2, but must be in the interval [0, 1] (in '/home/code_2.stan', line 11, column 4 to column 25)\n\tException: bernoulli_lpmf: n[2] is 2, but must be in the interval [0, 1] (in '/home/code_2.stan', line 11, column 4 to column 25)\n\tException: bernoulli_lpmf: n[2] is 2, but must be in the interval [0, 1] (in '/home/code_2.stan', line 11, column 4 to column 25)\n\tException: bernoulli_lpmf: n[2] is 2, but must be in the interval [0, 1] (in '/home/code_2.stan', line 11, column 4 to column 25)\n\tException: bernoulli_lpmf: n[2] is 2, but must be in the interval [0, 1] (in '/home/code_2.stan', line 11, column 4 to column 25)\n\tException: bernoulli_lpmf: n[2] is 2, but must be in the interval [0, 1] (in '/home/code_2.stan', line 11, column 4 to column 25)\n\tException: bernoulli_lpmf: n[2] is 2, but must be in the interval [0, 1] (in '/home/code_2.stan', line 11, column 4 to column 25)\n\tException: bernoulli_lpmf: n[2] is 2, but must be in the interval [0, 1] (in '/home/code_2.stan', line 11, column 4 to column 25)\n\tException: bernoulli_lpmf: n[2] is 2, but must be in the interval [0, 1] (in '/home/code_2.stan', line 11, column 4 to column 25)\n\tException: bernoulli_lpmf: n[2] is 2, but must be in the interval [0, 1] (in '/home/code_2.stan', line 11, column 4 to column 25)\n\tException: bernoulli_lpmf: n[2] is 2, but must be in the interval [0, 1] (in '/home/code_2.stan', line 11, column 4 to column 25)\n\tException: bernoulli_lpmf: n[2] is 2, but must be in the interval [0, 1] (in '/home/code_2.stan', line 11, column 4 to column 25)\n\tException: bernoulli_lpmf: n[2] is 2, but must be in the interval [0, 1] (in '/home/code_2.stan', line 11, column 4 to column 25)\n\tException: bernoulli_lpmf: n[2] is 2, but must be in the interval [0, 1] (in '/home/code_2.stan', line 11, column 4 to column 25)\n\tException: bernoulli_lpmf: n[2] is 2, but must be in the interval [0, 1] (in '/home/code_2.stan', line 11, column 4 to column 25)\n\tException: bernoulli_lpmf: n[2] is 2, but must be in the interval [0, 1] (in '/home/code_2.stan', line 11, column 4 to column 25)\n\tException: bernoulli_lpmf: n[2] is 2, but must be in the interval [0, 1] (in '/home/code_2.stan', line 11, column 4 to column 25)\n\tException: bernoulli_lpmf: n[2] is 2, but must be in the interval [0, 1] (in '/home/code_2.stan', line 11, column 4 to column 25)\n\tException: bernoulli_lpmf: n[2] is 2, but must be in the interval [0, 1] (in '/home/code_2.stan', line 11, column 4 to column 25)\n\tException: bernoulli_lpmf: n[2] is 2, but must be in the interval [0, 1] (in '/home/code_2.stan', line 11, column 4 to column 25)\n\tException: bernoulli_lpmf: n[2] is 2, but must be in the interval [0, 1] (in '/home/code_2.stan', line 11, column 4 to column 25)\n\tException: bernoulli_lpmf: n[2] is 2, but must be in the interval [0, 1] (in '/home/code_2.stan', line 11, column 4 to column 25)\n\tException: bernoulli_lpmf: n[2] is 2, but must be in the interval [0, 1] (in '/home/code_2.stan', line 11, column 4 to column 25)\n\tException: bernoulli_lpmf: n[2] is 2, but must be in the interval [0, 1] (in '/home/code_2.stan', line 11, column 4 to column 25)\n\tException: bernoulli_lpmf: n[2] is 2, but must be in the interval [0, 1] (in '/home/code_2.stan', line 11, column 4 to column 25)\n\tException: bernoulli_lpmf: n[2] is 2, but must be in the interval [0, 1] (in '/home/code_2.stan', line 11, column 4 to column 25)\n\tException: bernoulli_lpmf: n[2] is 2, but must be in the interval [0, 1] (in '/home/code_2.stan', line 11, column 4 to column 25)\n\tException: bernoulli_lpmf: n[2] is 2, but must be in the interval [0, 1] (in '/home/code_2.stan', line 11, column 4 to column 25)\n\tException: bernoulli_lpmf: n[2] is 2, but must be in the interval [0, 1] (in '/home/code_2.stan', line 11, column 4 to column 25)\n\tException: bernoulli_lpmf: n[2] is 2, but must be in the interval [0, 1] (in '/home/code_2.stan', line 11, column 4 to column 25)\n\tException: bernoulli_lpmf: n[2] is 2, but must be in the interval [0, 1] (in '/home/code_2.stan', line 11, column 4 to column 25)\n\tException: bernoulli_lpmf: n[2] is 2, but must be in the interval [0, 1] (in '/home/code_2.stan', line 11, column 4 to column 25)\n\tException: bernoulli_lpmf: n[2] is 2, but must be in the interval [0, 1] (in '/home/code_2.stan', line 11, column 4 to column 25)\n\tException: bernoulli_lpmf: n[2] is 2, but must be in the interval [0, 1] (in '/home/code_2.stan', line 11, column 4 to column 25)\n\tException: bernoulli_lpmf: n[2] is 2, but must be in the interval [0, 1] (in '/home/code_2.stan', line 11, column 4 to column 25)\n\tException: bernoulli_lpmf: n[2] is 2, but must be in the interval [0, 1] (in '/home/code_2.stan', line 11, column 4 to column 25)\n\tException: bernoulli_lpmf: n[2] is 2, but must be in the interval [0, 1] (in '/home/code_2.stan', line 11, column 4 to column 25)\n\tException: bernoulli_lpmf: n[2] is 2, but must be in the interval [0, 1] (in '/home/code_2.stan', line 11, column 4 to column 25)\n\tException: bernoulli_lpmf: n[2] is 2, but must be in the interval [0, 1] (in '/home/code_2.stan', line 11, column 4 to column 25)\n\tException: bernoulli_lpmf: n[2] is 2, but must be in the interval [0, 1] (in '/home/code_2.stan', line 11, column 4 to column 25)\n\tException: bernoulli_lpmf: n[2] is 2, but must be in the interval [0, 1] (in '/home/code_2.stan', line 11, column 4 to column 25)\n\tException: bernoulli_lpmf: n[2] is 2, but must be in the interval [0, 1] (in '/home/code_2.stan', line 11, column 4 to column 25)\n\tException: bernoulli_lpmf: n[2] is 2, but must be in the interval [0, 1] (in '/home/code_2.stan', line 11, column 4 to column 25)\n\tException: bernoulli_lpmf: n[2] is 2, but must be in the interval [0, 1] (in '/home/code_2.stan', line 11, column 4 to column 25)\n\tException: bernoulli_lpmf: n[2] is 2, but must be in the interval [0, 1] (in '/home/code_2.stan', line 11, column 4 to column 25)\nException: bernoulli_lpmf: n[2] is 2, but must be in the interval [0, 1] (in '/home/code_2.stan', line 11, column 4 to column 25)\n\tException: bernoulli_lpmf: n[2] is 2, but must be in the interval [0, 1] (in '/home/code_2.stan', line 11, column 4 to column 25)\n\tException: bernoulli_lpmf: n[2] is 2, but must be in the interval [0, 1] (in '/home/code_2.stan', line 11, column 4 to column 25)\n\tException: bernoulli_lpmf: n[2] is 2, but must be in the interval [0, 1] (in '/home/code_2.stan', line 11, column 4 to column 25)\n\tException: bernoulli_lpmf: n[2] is 2, but must be in the interval [0, 1] (in '/home/code_2.stan', line 11, column 4 to column 25)\n\tException: bernoulli_lpmf: n[2] is 2, but must be in the interval [0, 1] (in '/home/code_2.stan', line 11, column 4 to column 25)\n\tException: bernoulli_lpmf: n[2] is 2, but must be in the interval [0, 1] (in '/home/code_2.stan', line 11, column 4 to column 25)\n\tException: bernoulli_lpmf: n[2] is 2, but must be in the interval [0, 1] (in '/home/code_2.stan', line 11, column 4 to column 25)\n\tException: bernoulli_lpmf: n[2] is 2, but must be in the interval [0, 1] (in '/home/code_2.stan', line 11, column 4 to column 25)\n\tException: bernoulli_lpmf: n[2] is 2, but must be in the interval [0, 1] (in '/home/code_2.stan', line 11, column 4 to column 25)\n\tException: bernoulli_lpmf: n[2] is 2, but must be in the interval [0, 1] (in '/home/code_2.stan', line 11, column 4 to column 25)\n\tException: bernoulli_lpmf: n[2] is 2, but must be in the interval [0, 1] (in '/home/code_2.stan', line 11, column 4 to column 25)\n\tException: bernoulli_lpmf: n[2] is 2, but must be in the interval [0, 1] (in '/home/code_2.stan', line 11, column 4 to column 25)\n\tException: bernoulli_lpmf: n[2] is 2, but must be in the interval [0, 1] (in '/home/code_2.stan', line 11, column 4 to column 25)\n\tException: bernoulli_lpmf: n[2] is 2, but must be in the interval [0, 1] (in '/home/code_2.stan', line 11, column 4 to column 25)\n\tException: bernoulli_lpmf: n[2] is 2, but must be in the interval [0, 1] (in '/home/code_2.stan', line 11, column 4 to column 25)\n\tException: bernoulli_lpmf: n[2] is 2, but must be in the interval [0, 1] (in '/home/code_2.stan', line 11, column 4 to column 25)\n\tException: bernoulli_lpmf: n[2] is 2, but must be in the interval [0, 1] (in '/home/code_2.stan', line 11, column 4 to column 25)\n\tException: bernoulli_lpmf: n[2] is 2, but must be in the interval [0, 1] (in '/home/code_2.stan', line 11, column 4 to column 25)\n\tException: bernoulli_lpmf: n[2] is 2, but must be in the interval [0, 1] (in '/home/code_2.stan', line 11, column 4 to column 25)\n\tException: bernoulli_lpmf: n[2] is 2, but must be in the interval [0, 1] (in '/home/code_2.stan', line 11, column 4 to column 25)\n\tException: bernoulli_lpmf: n[2] is 2, but must be in the interval [0, 1] (in '/home/code_2.stan', line 11, column 4 to column 25)\n\tException: bernoulli_lpmf: n[2] is 2, but must be in the interval [0, 1] (in '/home/code_2.stan', line 11, column 4 to column 25)\n\tException: bernoulli_lpmf: n[2] is 2, but must be in the interval [0, 1] (in '/home/code_2.stan', line 11, column 4 to column 25)\n\tException: bernoulli_lpmf: n[2] is 2, but must be in the interval [0, 1] (in '/home/code_2.stan', line 11, column 4 to column 25)\n\tException: bernoulli_lpmf: n[2] is 2, but must be in the interval [0, 1] (in '/home/code_2.stan', line 11, column 4 to column 25)\n\tException: bernoulli_lpmf: n[2] is 2, but must be in the interval [0, 1] (in '/home/code_2.stan', line 11, column 4 to column 25)\n\tException: bernoulli_lpmf: n[2] is 2, but must be in the interval [0, 1] (in '/home/code_2.stan', line 11, column 4 to column 25)\n\tException: bernoulli_lpmf: n[2] is 2, but must be in the interval [0, 1] (in '/home/code_2.stan', line 11, column 4 to column 25)\n\tException: bernoulli_lpmf: n[2] is 2, but must be in the interval [0, 1] (in '/home/code_2.stan', line 11, column 4 to column 25)\n\tException: bernoulli_lpmf: n[2] is 2, but must be in the interval [0, 1] (in '/home/code_2.stan', line 11, column 4 to column 25)\n\tException: bernoulli_lpmf: n[2] is 2, but must be in the interval [0, 1] (in '/home/code_2.stan', line 11, column 4 to column 25)\n\tException: bernoulli_lpmf: n[2] is 2, but must be in the interval [0, 1] (in '/home/code_2.stan', line 11, column 4 to column 25)\n\tException: bernoulli_lpmf: n[2] is 2, but must be in the interval [0, 1] (in '/home/code_2.stan', line 11, column 4 to column 25)\n\tException: bernoulli_lpmf: n[2] is 2, but must be in the interval [0, 1] (in '/home/code_2.stan', line 11, column 4 to column 25)\n\tException: bernoulli_lpmf: n[2] is 2, but must be in the interval [0, 1] (in '/home/code_2.stan', line 11, column 4 to column 25)\n\tException: bernoulli_lpmf: n[2] is 2, but must be in the interval [0, 1] (in '/home/code_2.stan', line 11, column 4 to column 25)\n\tException: bernoulli_lpmf: n[2] is 2, but must be in the interval [0, 1] (in '/home/code_2.stan', line 11, column 4 to column 25)\n\tException: bernoulli_lpmf: n[2] is 2, but must be in the interval [0, 1] (in '/home/code_2.stan', line 11, column 4 to column 25)\n\tException: bernoulli_lpmf: n[2] is 2, but must be in the interval [0, 1] (in '/home/code_2.stan', line 11, column 4 to column 25)\n\tException: bernoulli_lpmf: n[2] is 2, but must be in the interval [0, 1] (in '/home/code_2.stan', line 11, column 4 to column 25)\n\tException: bernoulli_lpmf: n[2] is 2, but must be in the interval [0, 1] (in '/home/code_2.stan', line 11, column 4 to column 25)\n\tException: bernoulli_lpmf: n[2] is 2, but must be in the interval [0, 1] (in '/home/code_2.stan', line 11, column 4 to column 25)\n\tException: bernoulli_lpmf: n[2] is 2, but must be in the interval [0, 1] (in '/home/code_2.stan', line 11, column 4 to column 25)\n\tException: bernoulli_lpmf: n[2] is 2, but must be in the interval [0, 1] (in '/home/code_2.stan', line 11, column 4 to column 25)\n\tException: bernoulli_lpmf: n[2] is 2, but must be in the interval [0, 1] (in '/home/code_2.stan', line 11, column 4 to column 25)\n\tException: bernoulli_lpmf: n[2] is 2, but must be in the interval [0, 1] (in '/home/code_2.stan', line 11, column 4 to column 25)\n\tException: bernoulli_lpmf: n[2] is 2, but must be in the interval [0, 1] (in '/home/code_2.stan', line 11, column 4 to column 25)\n\tException: bernoulli_lpmf: n[2] is 2, but must be in the interval [0, 1] (in '/home/code_2.stan', line 11, column 4 to column 25)\n\tException: bernoulli_lpmf: n[2] is 2, but must be in the interval [0, 1] (in '/home/code_2.stan', line 11, column 4 to column 25)\n\tException: bernoulli_lpmf: n[2] is 2, but must be in the interval [0, 1] (in '/home/code_2.stan', line 11, column 4 to column 25)\n\tException: bernoulli_lpmf: n[2] is 2, but must be in the interval [0, 1] (in '/home/code_2.stan', line 11, column 4 to column 25)\n\tException: bernoulli_lpmf: n[2] is 2, but must be in the interval [0, 1] (in '/home/code_2.stan', line 11, column 4 to column 25)\n\tException: bernoulli_lpmf: n[2] is 2, but must be in the interval [0, 1] (in '/home/code_2.stan', line 11, column 4 to column 25)\n\tException: bernoulli_lpmf: n[2] is 2, but must be in the interval [0, 1] (in '/home/code_2.stan', line 11, column 4 to column 25)\n\tException: bernoulli_lpmf: n[2] is 2, but must be in the interval [0, 1] (in '/home/code_2.stan', line 11, column 4 to column 25)\n\tException: bernoulli_lpmf: n[2] is 2, but must be in the interval [0, 1] (in '/home/code_2.stan', line 11, column 4 to column 25)\n\tException: bernoulli_lpmf: n[2] is 2, but must be in the interval [0, 1] (in '/home/code_2.stan', line 11, column 4 to column 25)\n\tException: bernoulli_lpmf: n[2] is 2, but must be in the interval [0, 1] (in '/home/code_2.stan', line 11, column 4 to column 25)\n\tException: bernoulli_lpmf: n[2] is 2, but must be in the interval [0, 1] (in '/home/code_2.stan', line 11, column 4 to column 25)\n\tException: bernoulli_lpmf: n[2] is 2, but must be in the interval [0, 1] (in '/home/code_2.stan', line 11, column 4 to column 25)\n\tException: bernoulli_lpmf: n[2] is 2, but must be in the interval [0, 1] (in '/home/code_2.stan', line 11, column 4 to column 25)\n\tException: bernoulli_lpmf: n[2] is 2, but must be in the interval [0, 1] (in '/home/code_2.stan', line 11, column 4 to column 25)\n\tException: bernoulli_lpmf: n[2] is 2, but must be in the interval [0, 1] (in '/home/code_2.stan', line 11, column 4 to column 25)\n\tException: bernoulli_lpmf: n[2] is 2, but must be in the interval [0, 1] (in '/home/code_2.stan', line 11, column 4 to column 25)\n\tException: bernoulli_lpmf: n[2] is 2, but must be in the interval [0, 1] (in '/home/code_2.stan', line 11, column 4 to column 25)\n\tException: bernoulli_lpmf: n[2] is 2, but must be in the interval [0, 1] (in '/home/code_2.stan', line 11, column 4 to column 25)\n\tException: bernoulli_lpmf: n[2] is 2, but must be in the interval [0, 1] (in '/home/code_2.stan', line 11, column 4 to column 25)\n\tException: bernoulli_lpmf: n[2] is 2, but must be in the interval [0, 1] (in '/home/code_2.stan', line 11, column 4 to column 25)\n\tException: bernoulli_lpmf: n[2] is 2, but must be in the interval [0, 1] (in '/home/code_2.stan', line 11, column 4 to column 25)\n\tException: bernoulli_lpmf: n[2] is 2, but must be in the interval [0, 1] (in '/home/code_2.stan', line 11, column 4 to column 25)\n\tException: bernoulli_lpmf: n[2] is 2, but must be in the interval [0, 1] (in '/home/code_2.stan', line 11, column 4 to column 25)\n\tException: bernoulli_lpmf: n[2] is 2, but must be in the interval [0, 1] (in '/home/code_2.stan', line 11, column 4 to column 25)\n\tException: bernoulli_lpmf: n[2] is 2, but must be in the interval [0, 1] (in '/home/code_2.stan', line 11, column 4 to column 25)\n\tException: bernoulli_lpmf: n[2] is 2, but must be in the interval [0, 1] (in '/home/code_2.stan', line 11, column 4 to column 25)\n\tException: bernoulli_lpmf: n[2] is 2, but must be in the interval [0, 1] (in '/home/code_2.stan', line 11, column 4 to column 25)\n\tException: bernoulli_lpmf: n[2] is 2, but must be in the interval [0, 1] (in '/home/code_2.stan', line 11, column 4 to column 25)\n\tException: bernoulli_lpmf: n[2] is 2, but must be in the interval [0, 1] (in '/home/code_2.stan', line 11, column 4 to column 25)\n\tException: bernoulli_lpmf: n[2] is 2, but must be in the interval [0, 1] (in '/home/code_2.stan', line 11, column 4 to column 25)\n\tException: bernoulli_lpmf: n[2] is 2, but must be in the interval [0, 1] (in '/home/code_2.stan', line 11, column 4 to column 25)\n\tException: bernoulli_lpmf: n[2] is 2, but must be in the interval [0, 1] (in '/home/code_2.stan', line 11, column 4 to column 25)\n\tException: bernoulli_lpmf: n[2] is 2, but must be in the interval [0, 1] (in '/home/code_2.stan', line 11, column 4 to column 25)\n\tException: bernoulli_lpmf: n[2] is 2, but must be in the interval [0, 1] (in '/home/code_2.stan', line 11, column 4 to column 25)\n\tException: bernoulli_lpmf: n[2] is 2, but must be in the interval [0, 1] (in '/home/code_2.stan', line 11, column 4 to column 25)\n\tException: bernoulli_lpmf: n[2] is 2, but must be in the interval [0, 1] (in '/home/code_2.stan', line 11, column 4 to column 25)\n\tException: bernoulli_lpmf: n[2] is 2, but must be in the interval [0, 1] (in '/home/code_2.stan', line 11, column 4 to column 25)\n\tException: bernoulli_lpmf: n[2] is 2, but must be in the interval [0, 1] (in '/home/code_2.stan', line 11, column 4 to column 25)\n\tException: bernoulli_lpmf: n[2] is 2, but must be in the interval [0, 1] (in '/home/code_2.stan', line 11, column 4 to column 25)\n\tException: bernoulli_lpmf: n[2] is 2, but must be in the interval [0, 1] (in '/home/code_2.stan', line 11, column 4 to column 25)\n\tException: bernoulli_lpmf: n[2] is 2, but must be in the interval [0, 1] (in '/home/code_2.stan', line 11, column 4 to column 25)\n\tException: bernoulli_lpmf: n[2] is 2, but must be in the interval [0, 1] (in '/home/code_2.stan', line 11, column 4 to column 25)\n\tException: bernoulli_lpmf: n[2] is 2, but must be in the interval [0, 1] (in '/home/code_2.stan', line 11, column 4 to column 25)\n\tException: bernoulli_lpmf: n[2] is 2, but must be in the interval [0, 1] (in '/home/code_2.stan', line 11, column 4 to column 25)\n\tException: bernoulli_lpmf: n[2] is 2, but must be in the interval [0, 1] (in '/home/code_2.stan', line 11, column 4 to column 25)\n\tException: bernoulli_lpmf: n[2] is 2, but must be in the interval [0, 1] (in '/home/code_2.stan', line 11, column 4 to column 25)\n\tException: bernoulli_lpmf: n[2] is 2, but must be in the interval [0, 1] (in '/home/code_2.stan', line 11, column 4 to column 25)\n\tException: bernoulli_lpmf: n[2] is 2, but must be in the interval [0, 1] (in '/home/code_2.stan', line 11, column 4 to column 25)\n\tException: bernoulli_lpmf: n[2] is 2, but must be in the interval [0, 1] (in '/home/code_2.stan', line 11, column 4 to column 25)\n\tException: bernoulli_lpmf: n[2] is 2, but must be in the interval [0, 1] (in '/home/code_2.stan', line 11, column 4 to column 25)\n\tException: bernoulli_lpmf: n[2] is 2, but must be in the interval [0, 1] (in '/home/code_2.stan', line 11, column 4 to column 25)Command and output files:\nRunSet: chains=4, chain_ids=[1, 2, 3, 4], num_processes=4\n cmd (chain 1):\n\t['/home/code_2', 'id=1', 'random', 'seed=51027', 'data', 'file=/tmp/tmpxprcpdup/qmndolf6.json', 'output', 'file=/tmp/tmpxprcpdup/code_2-20240319192215_1.csv', 'method=sample', 'algorithm=hmc', 'adapt', 'engaged=1']\n retcodes=[1, 1, 1, 1]\n per-chain output files (showing chain 1 only):\n csv_file:\n\t/tmp/tmpxprcpdup/code_2-20240319192215_1.csv\n console_msgs (if any):\n\t/tmp/tmpxprcpdup/code_2-20240319192215_0-stdout.txt"
     ]
    }
   ],
   "source": [
    "bern1 = CmdStanModel(stan_file='home/code_2.stan')\n",
    "samp_bern1 = bern1.sample(data={'N':2, 'y':[0,2]})"
   ]
  },
  {
   "cell_type": "code",
   "execution_count": 13,
   "metadata": {},
   "outputs": [
    {
     "name": "stdout",
     "output_type": "stream",
     "text": [
      "Overwriting home/code_3.stan\n"
     ]
    }
   ],
   "source": [
    "%%writefile home/code_3.stan\n",
    "data {\n",
    "    int<lower=1> N;\n",
    "    array [N] int<lower=0, upper=1> y;\n",
    "}\n",
    "\n",
    "parameters {\n",
    "    real<lower=0,upper=1> theta;\n",
    "}\n",
    "model {\n",
    "    theta ~ beta(1,1);\n",
    "    y ~ bernoulli(theta);\n",
    "}"
   ]
  },
  {
   "cell_type": "code",
   "execution_count": 14,
   "metadata": {},
   "outputs": [
    {
     "name": "stderr",
     "output_type": "stream",
     "text": [
      "INFO:cmdstanpy:compiling stan file /home/code_3.stan to exe file /home/code_3\n"
     ]
    },
    {
     "name": "stderr",
     "output_type": "stream",
     "text": [
      "INFO:cmdstanpy:compiled model executable: /home/code_3\n",
      "INFO:cmdstanpy:CmdStan start processing\n",
      "chain 1 |\u001b[33m          \u001b[0m| 00:00 Status\n",
      "\u001b[A\n",
      "\n",
      "\u001b[A\u001b[AERROR:cmdstanpy:Chain [3] error: error during processing Operation not permitted\n",
      "ERROR:cmdstanpy:Chain [1] error: error during processing Operation not permitted\n",
      "ERROR:cmdstanpy:Chain [4] error: error during processing Operation not permitted\n",
      "ERROR:cmdstanpy:Chain [2] error: error during processing Operation not permitted\n",
      "chain 1 |\u001b[33m██████████\u001b[0m| 00:00 Sampling completed\n",
      "chain 2 |\u001b[33m██████████\u001b[0m| 00:00 Sampling completed\n",
      "\n",
      "chain 3 |\u001b[33m██████████\u001b[0m| 00:00 Sampling completed\n",
      "\n",
      "\n",
      "chain 4 |\u001b[33m██████████\u001b[0m| 00:00 Sampling completed"
     ]
    },
    {
     "name": "stdout",
     "output_type": "stream",
     "text": [
      "                                                                                                                                                                                                                                                                                                                                "
     ]
    },
    {
     "name": "stderr",
     "output_type": "stream",
     "text": [
      "\n",
      "INFO:cmdstanpy:CmdStan done processing.\n"
     ]
    },
    {
     "name": "stdout",
     "output_type": "stream",
     "text": [
      "\n"
     ]
    },
    {
     "ename": "RuntimeError",
     "evalue": "Error during sampling:\nException: code_3_model_namespace::code_3_model: y[2] is 2, but must be less than or equal to 1.000000 (in '/home/code_3.stan', line 3, column 4 to column 38)\nException: code_3_model_namespace::code_3_model: y[2] is 2, but must be less than or equal to 1.000000 (in '/home/code_3.stan', line 3, column 4 to column 38)\nException: code_3_model_namespace::code_3_model: y[2] is 2, but must be less than or equal to 1.000000 (in '/home/code_3.stan', line 3, column 4 to column 38)\nException: code_3_model_namespace::code_3_model: y[2] is 2, but must be less than or equal to 1.000000 (in '/home/code_3.stan', line 3, column 4 to column 38)Command and output files:\nRunSet: chains=4, chain_ids=[1, 2, 3, 4], num_processes=4\n cmd (chain 1):\n\t['/home/code_3', 'id=1', 'random', 'seed=28250', 'data', 'file=/tmp/tmpxprcpdup/i2u2em7p.json', 'output', 'file=/tmp/tmpxprcpdup/code_3-20240319192304_1.csv', 'method=sample', 'algorithm=hmc', 'adapt', 'engaged=1']\n retcodes=[1, 1, 1, 1]\n per-chain output files (showing chain 1 only):\n csv_file:\n\t/tmp/tmpxprcpdup/code_3-20240319192304_1.csv\n console_msgs (if any):\n\t/tmp/tmpxprcpdup/code_3-20240319192304_0-stdout.txt",
     "output_type": "error",
     "traceback": [
      "\u001b[0;31m---------------------------------------------------------------------------\u001b[0m",
      "\u001b[0;31mRuntimeError\u001b[0m                              Traceback (most recent call last)",
      "Input \u001b[0;32mIn [14]\u001b[0m, in \u001b[0;36m<cell line: 0>\u001b[0;34m()\u001b[0m\n\u001b[1;32m      1\u001b[0m bern2 \u001b[38;5;241m=\u001b[39m CmdStanModel(stan_file\u001b[38;5;241m=\u001b[39m\u001b[38;5;124m'\u001b[39m\u001b[38;5;124mhome/code_3.stan\u001b[39m\u001b[38;5;124m'\u001b[39m)\n\u001b[0;32m----> 2\u001b[0m samp_bern2 \u001b[38;5;241m=\u001b[39m bern2\u001b[38;5;241m.\u001b[39msample(data\u001b[38;5;241m=\u001b[39m{\u001b[38;5;124m'\u001b[39m\u001b[38;5;124mN\u001b[39m\u001b[38;5;124m'\u001b[39m:\u001b[38;5;241m2\u001b[39m, \u001b[38;5;124m'\u001b[39m\u001b[38;5;124my\u001b[39m\u001b[38;5;124m'\u001b[39m:[\u001b[38;5;241m0\u001b[39m,\u001b[38;5;241m2\u001b[39m]})\n",
      "File \u001b[0;32m/usr/local/lib/python3.12/site-packages/cmdstanpy/model.py:1089\u001b[0m, in \u001b[0;36mCmdStanModel.sample\u001b[0;34m(self, data, chains, parallel_chains, threads_per_chain, seed, chain_ids, inits, iter_warmup, iter_sampling, save_warmup, thin, max_treedepth, metric, step_size, adapt_engaged, adapt_delta, adapt_init_phase, adapt_metric_window, adapt_step_size, fixed_param, output_dir, sig_figs, save_latent_dynamics, save_profile, show_progress, show_console, refresh, time_fmt, force_one_process_per_chain)\u001b[0m\n\u001b[1;32m   1085\u001b[0m         msg \u001b[38;5;241m=\u001b[39m \u001b[38;5;124m'\u001b[39m\u001b[38;5;124mError during sampling:\u001b[39m\u001b[38;5;130;01m\\n\u001b[39;00m\u001b[38;5;132;01m{}\u001b[39;00m\u001b[38;5;124m'\u001b[39m\u001b[38;5;241m.\u001b[39mformat(runset\u001b[38;5;241m.\u001b[39mget_err_msgs())\n\u001b[1;32m   1086\u001b[0m         msg \u001b[38;5;241m=\u001b[39m \u001b[38;5;124m'\u001b[39m\u001b[38;5;132;01m{}\u001b[39;00m\u001b[38;5;124mCommand and output files:\u001b[39m\u001b[38;5;130;01m\\n\u001b[39;00m\u001b[38;5;132;01m{}\u001b[39;00m\u001b[38;5;124m'\u001b[39m\u001b[38;5;241m.\u001b[39mformat(\n\u001b[1;32m   1087\u001b[0m             msg, runset\u001b[38;5;241m.\u001b[39m\u001b[38;5;21m__repr__\u001b[39m()\n\u001b[1;32m   1088\u001b[0m         )\n\u001b[0;32m-> 1089\u001b[0m         \u001b[38;5;28;01mraise\u001b[39;00m \u001b[38;5;167;01mRuntimeError\u001b[39;00m(msg)\n\u001b[1;32m   1091\u001b[0m     mcmc \u001b[38;5;241m=\u001b[39m CmdStanMCMC(runset)\n\u001b[1;32m   1092\u001b[0m \u001b[38;5;28;01mreturn\u001b[39;00m mcmc\n",
      "\u001b[0;31mRuntimeError\u001b[0m: Error during sampling:\nException: code_3_model_namespace::code_3_model: y[2] is 2, but must be less than or equal to 1.000000 (in '/home/code_3.stan', line 3, column 4 to column 38)\nException: code_3_model_namespace::code_3_model: y[2] is 2, but must be less than or equal to 1.000000 (in '/home/code_3.stan', line 3, column 4 to column 38)\nException: code_3_model_namespace::code_3_model: y[2] is 2, but must be less than or equal to 1.000000 (in '/home/code_3.stan', line 3, column 4 to column 38)\nException: code_3_model_namespace::code_3_model: y[2] is 2, but must be less than or equal to 1.000000 (in '/home/code_3.stan', line 3, column 4 to column 38)Command and output files:\nRunSet: chains=4, chain_ids=[1, 2, 3, 4], num_processes=4\n cmd (chain 1):\n\t['/home/code_3', 'id=1', 'random', 'seed=28250', 'data', 'file=/tmp/tmpxprcpdup/i2u2em7p.json', 'output', 'file=/tmp/tmpxprcpdup/code_3-20240319192304_1.csv', 'method=sample', 'algorithm=hmc', 'adapt', 'engaged=1']\n retcodes=[1, 1, 1, 1]\n per-chain output files (showing chain 1 only):\n csv_file:\n\t/tmp/tmpxprcpdup/code_3-20240319192304_1.csv\n console_msgs (if any):\n\t/tmp/tmpxprcpdup/code_3-20240319192304_0-stdout.txt"
     ]
    }
   ],
   "source": [
    "bern2 = CmdStanModel(stan_file='home/code_3.stan')\n",
    "samp_bern2 = bern2.sample(data={'N':2, 'y':[0,2]})"
   ]
  },
  {
   "cell_type": "markdown",
   "metadata": {},
   "source": [
    "In a Bernoulli distribution, the outcome 'y' can only take values of 0 or 1, representing a binary outcome (success or failure). In this case 'y' is specified as '[0, 2]' therefore it goes beoynd the upper boundary. Constraints on data refer to the limitations on the values that the input data can take in a model. They ensure that the data provided to the model are valid and consistent with the requirements of the model. "
   ]
  },
  {
   "cell_type": "code",
   "execution_count": 62,
   "metadata": {},
   "outputs": [
    {
     "name": "stderr",
     "output_type": "stream",
     "text": [
      "INFO:cmdstanpy:found newer exe file, not recompiling\n",
      "INFO:cmdstanpy:CmdStan start processing\n",
      "chain 1 |\u001b[33m          \u001b[0m| 00:00 Status\n",
      "\u001b[A\n",
      "\n",
      "chain 1 |\u001b[33m████▌     \u001b[0m| 00:00 Iteration:  800 / 2000 [ 40%]  (Warmup)\n",
      "chain 1 |\u001b[34m██████████\u001b[0m| 00:00 Sampling completed                     \n",
      "chain 2 |\u001b[34m██████████\u001b[0m| 00:00 Sampling completed\n",
      "chain 3 |\u001b[34m██████████\u001b[0m| 00:00 Sampling completed                       \n",
      "\n",
      "\n",
      "chain 4 |\u001b[34m██████████\u001b[0m| 00:00 Sampling completed"
     ]
    },
    {
     "name": "stdout",
     "output_type": "stream",
     "text": [
      "                                                                                                                                                                                                                                                                                                                                "
     ]
    },
    {
     "name": "stderr",
     "output_type": "stream",
     "text": [
      "\n",
      "INFO:cmdstanpy:CmdStan done processing.\n"
     ]
    },
    {
     "name": "stdout",
     "output_type": "stream",
     "text": [
      "\n"
     ]
    },
    {
     "data": {
      "text/html": [
       "<div>\n",
       "<style scoped>\n",
       "    .dataframe tbody tr th:only-of-type {\n",
       "        vertical-align: middle;\n",
       "    }\n",
       "\n",
       "    .dataframe tbody tr th {\n",
       "        vertical-align: top;\n",
       "    }\n",
       "\n",
       "    .dataframe thead th {\n",
       "        text-align: right;\n",
       "    }\n",
       "</style>\n",
       "<table border=\"1\" class=\"dataframe\">\n",
       "  <thead>\n",
       "    <tr style=\"text-align: right;\">\n",
       "      <th></th>\n",
       "      <th>lp__</th>\n",
       "      <th>accept_stat__</th>\n",
       "      <th>stepsize__</th>\n",
       "      <th>treedepth__</th>\n",
       "      <th>n_leapfrog__</th>\n",
       "      <th>divergent__</th>\n",
       "      <th>energy__</th>\n",
       "      <th>theta</th>\n",
       "    </tr>\n",
       "  </thead>\n",
       "  <tbody>\n",
       "    <tr>\n",
       "      <th>0</th>\n",
       "      <td>-3.00440</td>\n",
       "      <td>0.961181</td>\n",
       "      <td>1.00121</td>\n",
       "      <td>1.0</td>\n",
       "      <td>1.0</td>\n",
       "      <td>0.0</td>\n",
       "      <td>3.02779</td>\n",
       "      <td>0.334592</td>\n",
       "    </tr>\n",
       "    <tr>\n",
       "      <th>1</th>\n",
       "      <td>-4.41646</td>\n",
       "      <td>0.769028</td>\n",
       "      <td>1.00121</td>\n",
       "      <td>2.0</td>\n",
       "      <td>3.0</td>\n",
       "      <td>0.0</td>\n",
       "      <td>4.57931</td>\n",
       "      <td>0.874306</td>\n",
       "    </tr>\n",
       "    <tr>\n",
       "      <th>2</th>\n",
       "      <td>-2.77491</td>\n",
       "      <td>0.993127</td>\n",
       "      <td>1.00121</td>\n",
       "      <td>2.0</td>\n",
       "      <td>3.0</td>\n",
       "      <td>0.0</td>\n",
       "      <td>4.24884</td>\n",
       "      <td>0.482985</td>\n",
       "    </tr>\n",
       "    <tr>\n",
       "      <th>3</th>\n",
       "      <td>-2.83887</td>\n",
       "      <td>0.974983</td>\n",
       "      <td>1.00121</td>\n",
       "      <td>2.0</td>\n",
       "      <td>3.0</td>\n",
       "      <td>0.0</td>\n",
       "      <td>2.88000</td>\n",
       "      <td>0.590272</td>\n",
       "    </tr>\n",
       "    <tr>\n",
       "      <th>4</th>\n",
       "      <td>-2.83887</td>\n",
       "      <td>0.803053</td>\n",
       "      <td>1.00121</td>\n",
       "      <td>1.0</td>\n",
       "      <td>3.0</td>\n",
       "      <td>0.0</td>\n",
       "      <td>3.49508</td>\n",
       "      <td>0.590272</td>\n",
       "    </tr>\n",
       "    <tr>\n",
       "      <th>...</th>\n",
       "      <td>...</td>\n",
       "      <td>...</td>\n",
       "      <td>...</td>\n",
       "      <td>...</td>\n",
       "      <td>...</td>\n",
       "      <td>...</td>\n",
       "      <td>...</td>\n",
       "      <td>...</td>\n",
       "    </tr>\n",
       "    <tr>\n",
       "      <th>3995</th>\n",
       "      <td>-2.82131</td>\n",
       "      <td>0.950027</td>\n",
       "      <td>1.15627</td>\n",
       "      <td>2.0</td>\n",
       "      <td>3.0</td>\n",
       "      <td>0.0</td>\n",
       "      <td>2.99717</td>\n",
       "      <td>0.422436</td>\n",
       "    </tr>\n",
       "    <tr>\n",
       "      <th>3996</th>\n",
       "      <td>-2.77691</td>\n",
       "      <td>1.000000</td>\n",
       "      <td>1.15627</td>\n",
       "      <td>1.0</td>\n",
       "      <td>1.0</td>\n",
       "      <td>0.0</td>\n",
       "      <td>2.80540</td>\n",
       "      <td>0.476759</td>\n",
       "    </tr>\n",
       "    <tr>\n",
       "      <th>3997</th>\n",
       "      <td>-2.94825</td>\n",
       "      <td>0.953263</td>\n",
       "      <td>1.15627</td>\n",
       "      <td>1.0</td>\n",
       "      <td>3.0</td>\n",
       "      <td>0.0</td>\n",
       "      <td>2.95076</td>\n",
       "      <td>0.355014</td>\n",
       "    </tr>\n",
       "    <tr>\n",
       "      <th>3998</th>\n",
       "      <td>-3.27403</td>\n",
       "      <td>0.730406</td>\n",
       "      <td>1.15627</td>\n",
       "      <td>2.0</td>\n",
       "      <td>3.0</td>\n",
       "      <td>0.0</td>\n",
       "      <td>4.50033</td>\n",
       "      <td>0.735458</td>\n",
       "    </tr>\n",
       "    <tr>\n",
       "      <th>3999</th>\n",
       "      <td>-4.10830</td>\n",
       "      <td>0.816465</td>\n",
       "      <td>1.15627</td>\n",
       "      <td>1.0</td>\n",
       "      <td>1.0</td>\n",
       "      <td>0.0</td>\n",
       "      <td>4.14029</td>\n",
       "      <td>0.848996</td>\n",
       "    </tr>\n",
       "  </tbody>\n",
       "</table>\n",
       "<p>4000 rows × 8 columns</p>\n",
       "</div>"
      ],
      "text/plain": [
       "         lp__  accept_stat__  stepsize__  treedepth__  n_leapfrog__  \\\n",
       "0    -3.00440       0.961181     1.00121          1.0           1.0   \n",
       "1    -4.41646       0.769028     1.00121          2.0           3.0   \n",
       "2    -2.77491       0.993127     1.00121          2.0           3.0   \n",
       "3    -2.83887       0.974983     1.00121          2.0           3.0   \n",
       "4    -2.83887       0.803053     1.00121          1.0           3.0   \n",
       "...       ...            ...         ...          ...           ...   \n",
       "3995 -2.82131       0.950027     1.15627          2.0           3.0   \n",
       "3996 -2.77691       1.000000     1.15627          1.0           1.0   \n",
       "3997 -2.94825       0.953263     1.15627          1.0           3.0   \n",
       "3998 -3.27403       0.730406     1.15627          2.0           3.0   \n",
       "3999 -4.10830       0.816465     1.15627          1.0           1.0   \n",
       "\n",
       "      divergent__  energy__     theta  \n",
       "0             0.0   3.02779  0.334592  \n",
       "1             0.0   4.57931  0.874306  \n",
       "2             0.0   4.24884  0.482985  \n",
       "3             0.0   2.88000  0.590272  \n",
       "4             0.0   3.49508  0.590272  \n",
       "...           ...       ...       ...  \n",
       "3995          0.0   2.99717  0.422436  \n",
       "3996          0.0   2.80540  0.476759  \n",
       "3997          0.0   2.95076  0.355014  \n",
       "3998          0.0   4.50033  0.735458  \n",
       "3999          0.0   4.14029  0.848996  \n",
       "\n",
       "[4000 rows x 8 columns]"
      ]
     },
     "execution_count": 62,
     "metadata": {},
     "output_type": "execute_result"
    }
   ],
   "source": [
    "bern1 = CmdStanModel(stan_file='home/code_2.stan')\n",
    "samp_bern1 = bern1.sample(data={'N':2, 'y':[0,1]})\n",
    "samp_bern1.draws_pd()"
   ]
  },
  {
   "cell_type": "code",
   "execution_count": 63,
   "metadata": {},
   "outputs": [
    {
     "name": "stderr",
     "output_type": "stream",
     "text": [
      "INFO:cmdstanpy:found newer exe file, not recompiling\n",
      "INFO:cmdstanpy:CmdStan start processing\n",
      "chain 1 |\u001b[33m          \u001b[0m| 00:00 Status\n",
      "\u001b[A\n",
      "\n",
      "\u001b[A\u001b[A\n",
      "chain 1 |\u001b[33m▍         \u001b[0m| 00:00 Status\n",
      "\n",
      "chain 1 |\u001b[34m██████████\u001b[0m| 00:00 Sampling completed\n",
      "chain 2 |\u001b[34m██████████\u001b[0m| 00:00 Sampling completed\n",
      "chain 3 |\u001b[34m██████████\u001b[0m| 00:00 Sampling completed\n",
      "chain 4 |\u001b[34m██████████\u001b[0m| 00:00 Sampling completed"
     ]
    },
    {
     "name": "stdout",
     "output_type": "stream",
     "text": [
      "                                                                                                                                                                                                                                                                                                                                "
     ]
    },
    {
     "name": "stderr",
     "output_type": "stream",
     "text": [
      "\n",
      "INFO:cmdstanpy:CmdStan done processing.\n"
     ]
    },
    {
     "name": "stdout",
     "output_type": "stream",
     "text": [
      "\n"
     ]
    },
    {
     "data": {
      "text/html": [
       "<div>\n",
       "<style scoped>\n",
       "    .dataframe tbody tr th:only-of-type {\n",
       "        vertical-align: middle;\n",
       "    }\n",
       "\n",
       "    .dataframe tbody tr th {\n",
       "        vertical-align: top;\n",
       "    }\n",
       "\n",
       "    .dataframe thead th {\n",
       "        text-align: right;\n",
       "    }\n",
       "</style>\n",
       "<table border=\"1\" class=\"dataframe\">\n",
       "  <thead>\n",
       "    <tr style=\"text-align: right;\">\n",
       "      <th></th>\n",
       "      <th>lp__</th>\n",
       "      <th>accept_stat__</th>\n",
       "      <th>stepsize__</th>\n",
       "      <th>treedepth__</th>\n",
       "      <th>n_leapfrog__</th>\n",
       "      <th>divergent__</th>\n",
       "      <th>energy__</th>\n",
       "      <th>theta</th>\n",
       "    </tr>\n",
       "  </thead>\n",
       "  <tbody>\n",
       "    <tr>\n",
       "      <th>0</th>\n",
       "      <td>-3.76736</td>\n",
       "      <td>1.000000</td>\n",
       "      <td>1.17712</td>\n",
       "      <td>2.0</td>\n",
       "      <td>3.0</td>\n",
       "      <td>0.0</td>\n",
       "      <td>5.60390</td>\n",
       "      <td>0.186998</td>\n",
       "    </tr>\n",
       "    <tr>\n",
       "      <th>1</th>\n",
       "      <td>-8.55259</td>\n",
       "      <td>0.634777</td>\n",
       "      <td>1.17712</td>\n",
       "      <td>2.0</td>\n",
       "      <td>3.0</td>\n",
       "      <td>0.0</td>\n",
       "      <td>9.36482</td>\n",
       "      <td>0.014093</td>\n",
       "    </tr>\n",
       "    <tr>\n",
       "      <th>2</th>\n",
       "      <td>-8.15159</td>\n",
       "      <td>1.000000</td>\n",
       "      <td>1.17712</td>\n",
       "      <td>2.0</td>\n",
       "      <td>3.0</td>\n",
       "      <td>0.0</td>\n",
       "      <td>9.07466</td>\n",
       "      <td>0.017277</td>\n",
       "    </tr>\n",
       "    <tr>\n",
       "      <th>3</th>\n",
       "      <td>-7.80442</td>\n",
       "      <td>1.000000</td>\n",
       "      <td>1.17712</td>\n",
       "      <td>1.0</td>\n",
       "      <td>1.0</td>\n",
       "      <td>0.0</td>\n",
       "      <td>8.68745</td>\n",
       "      <td>0.020623</td>\n",
       "    </tr>\n",
       "    <tr>\n",
       "      <th>4</th>\n",
       "      <td>-3.24539</td>\n",
       "      <td>1.000000</td>\n",
       "      <td>1.17712</td>\n",
       "      <td>2.0</td>\n",
       "      <td>3.0</td>\n",
       "      <td>0.0</td>\n",
       "      <td>6.34522</td>\n",
       "      <td>0.729422</td>\n",
       "    </tr>\n",
       "    <tr>\n",
       "      <th>...</th>\n",
       "      <td>...</td>\n",
       "      <td>...</td>\n",
       "      <td>...</td>\n",
       "      <td>...</td>\n",
       "      <td>...</td>\n",
       "      <td>...</td>\n",
       "      <td>...</td>\n",
       "      <td>...</td>\n",
       "    </tr>\n",
       "    <tr>\n",
       "      <th>3995</th>\n",
       "      <td>-2.78149</td>\n",
       "      <td>1.000000</td>\n",
       "      <td>1.06849</td>\n",
       "      <td>1.0</td>\n",
       "      <td>3.0</td>\n",
       "      <td>0.0</td>\n",
       "      <td>2.91833</td>\n",
       "      <td>0.466674</td>\n",
       "    </tr>\n",
       "    <tr>\n",
       "      <th>3996</th>\n",
       "      <td>-2.90101</td>\n",
       "      <td>0.814526</td>\n",
       "      <td>1.06849</td>\n",
       "      <td>2.0</td>\n",
       "      <td>3.0</td>\n",
       "      <td>0.0</td>\n",
       "      <td>3.65293</td>\n",
       "      <td>0.624695</td>\n",
       "    </tr>\n",
       "    <tr>\n",
       "      <th>3997</th>\n",
       "      <td>-2.90101</td>\n",
       "      <td>0.910333</td>\n",
       "      <td>1.06849</td>\n",
       "      <td>1.0</td>\n",
       "      <td>3.0</td>\n",
       "      <td>0.0</td>\n",
       "      <td>3.35396</td>\n",
       "      <td>0.624695</td>\n",
       "    </tr>\n",
       "    <tr>\n",
       "      <th>3998</th>\n",
       "      <td>-2.83092</td>\n",
       "      <td>1.000000</td>\n",
       "      <td>1.06849</td>\n",
       "      <td>1.0</td>\n",
       "      <td>1.0</td>\n",
       "      <td>0.0</td>\n",
       "      <td>2.88877</td>\n",
       "      <td>0.584769</td>\n",
       "    </tr>\n",
       "    <tr>\n",
       "      <th>3999</th>\n",
       "      <td>-3.39075</td>\n",
       "      <td>0.831037</td>\n",
       "      <td>1.06849</td>\n",
       "      <td>1.0</td>\n",
       "      <td>3.0</td>\n",
       "      <td>0.0</td>\n",
       "      <td>3.63718</td>\n",
       "      <td>0.242183</td>\n",
       "    </tr>\n",
       "  </tbody>\n",
       "</table>\n",
       "<p>4000 rows × 8 columns</p>\n",
       "</div>"
      ],
      "text/plain": [
       "         lp__  accept_stat__  stepsize__  treedepth__  n_leapfrog__  \\\n",
       "0    -3.76736       1.000000     1.17712          2.0           3.0   \n",
       "1    -8.55259       0.634777     1.17712          2.0           3.0   \n",
       "2    -8.15159       1.000000     1.17712          2.0           3.0   \n",
       "3    -7.80442       1.000000     1.17712          1.0           1.0   \n",
       "4    -3.24539       1.000000     1.17712          2.0           3.0   \n",
       "...       ...            ...         ...          ...           ...   \n",
       "3995 -2.78149       1.000000     1.06849          1.0           3.0   \n",
       "3996 -2.90101       0.814526     1.06849          2.0           3.0   \n",
       "3997 -2.90101       0.910333     1.06849          1.0           3.0   \n",
       "3998 -2.83092       1.000000     1.06849          1.0           1.0   \n",
       "3999 -3.39075       0.831037     1.06849          1.0           3.0   \n",
       "\n",
       "      divergent__  energy__     theta  \n",
       "0             0.0   5.60390  0.186998  \n",
       "1             0.0   9.36482  0.014093  \n",
       "2             0.0   9.07466  0.017277  \n",
       "3             0.0   8.68745  0.020623  \n",
       "4             0.0   6.34522  0.729422  \n",
       "...           ...       ...       ...  \n",
       "3995          0.0   2.91833  0.466674  \n",
       "3996          0.0   3.65293  0.624695  \n",
       "3997          0.0   3.35396  0.624695  \n",
       "3998          0.0   2.88877  0.584769  \n",
       "3999          0.0   3.63718  0.242183  \n",
       "\n",
       "[4000 rows x 8 columns]"
      ]
     },
     "execution_count": 63,
     "metadata": {},
     "output_type": "execute_result"
    }
   ],
   "source": [
    "bern2 = CmdStanModel(stan_file='home/code_3.stan')\n",
    "samp_bern2 = bern2.sample(data={'N':2, 'y':[0,1]})\n",
    "samp_bern2.draws_pd()"
   ]
  },
  {
   "cell_type": "markdown",
   "metadata": {},
   "source": [
    "## Excercise 3 - Constraints on parameters"
   ]
  },
  {
   "cell_type": "markdown",
   "metadata": {},
   "source": [
    "### Unconstrained parameters"
   ]
  },
  {
   "cell_type": "code",
   "execution_count": 15,
   "metadata": {},
   "outputs": [
    {
     "name": "stdout",
     "output_type": "stream",
     "text": [
      "Overwriting home/code_4.stan\n"
     ]
    }
   ],
   "source": [
    "%%writefile home/code_4.stan\n",
    "parameters {\n",
    "    real theta;\n",
    "}\n",
    "\n",
    "model {\n",
    "    theta ~ gamma(1.25, 1.25);\n",
    "}\n"
   ]
  },
  {
   "cell_type": "code",
   "execution_count": 16,
   "metadata": {},
   "outputs": [
    {
     "name": "stderr",
     "output_type": "stream",
     "text": [
      "INFO:cmdstanpy:compiling stan file /home/code_4.stan to exe file /home/code_4\n",
      "INFO:cmdstanpy:compiled model executable: /home/code_4\n",
      "INFO:cmdstanpy:CmdStan start processing\n",
      "chain 1 |\u001b[33m          \u001b[0m| 00:00 Status\n",
      "\u001b[A\n",
      "\n",
      "chain 1 |\u001b[33m▏         \u001b[0m| 00:00 Status\n",
      "\n",
      "\u001b[A\u001b[A\n",
      "\u001b[A\n",
      "\u001b[A\n",
      "\n",
      "chain 1 |\u001b[34m██▏       \u001b[0m| 00:00 Iteration: 1300 / 7000 [ 18%]  (Sampling)\n",
      "\n",
      "\u001b[A\u001b[A\n",
      "chain 1 |\u001b[34m███▌      \u001b[0m| 00:00 Iteration: 2300 / 7000 [ 32%]  (Sampling)\n",
      "\n",
      "chain 1 |\u001b[34m█████     \u001b[0m| 00:00 Iteration: 3300 / 7000 [ 47%]  (Sampling)\n",
      "\u001b[A\n",
      "\n",
      "chain 1 |\u001b[34m██████▎   \u001b[0m| 00:00 Iteration: 4200 / 7000 [ 60%]  (Sampling)\n",
      "\n",
      "\u001b[A\u001b[A\n",
      "\u001b[A\n",
      "\n",
      "chain 1 |\u001b[34m███████▌  \u001b[0m| 00:00 Iteration: 5100 / 7000 [ 72%]  (Sampling)\n",
      "chain 1 |\u001b[34m████████▊ \u001b[0m| 00:00 Iteration: 6000 / 7000 [ 85%]  (Sampling)\n",
      "\n",
      "\u001b[A\u001b[A\n",
      "chain 1 |\u001b[34m██████████\u001b[0m| 00:01 Iteration: 6900 / 7000 [ 98%]  (Sampling)\n",
      "\n",
      "\u001b[A\u001b[A\n",
      "chain 1 |\u001b[34m██████████\u001b[0m| 00:01 Sampling completed                       \n",
      "chain 2 |\u001b[34m██████████\u001b[0m| 00:01 Sampling completed                       \n",
      "chain 3 |\u001b[34m██████████\u001b[0m| 00:01 Sampling completed                       \n",
      "chain 4 |\u001b[34m██████████\u001b[0m| 00:01 Sampling completed                       "
     ]
    },
    {
     "name": "stdout",
     "output_type": "stream",
     "text": [
      "                                                                                "
     ]
    },
    {
     "name": "stderr",
     "output_type": "stream",
     "text": [
      "\n"
     ]
    },
    {
     "name": "stdout",
     "output_type": "stream",
     "text": [
      "                                                                                                                                                                                                                                                "
     ]
    },
    {
     "name": "stderr",
     "output_type": "stream",
     "text": [
      "INFO:cmdstanpy:CmdStan done processing.\n"
     ]
    },
    {
     "name": "stdout",
     "output_type": "stream",
     "text": [
      "\n"
     ]
    },
    {
     "data": {
      "text/plain": [
       "\"Processing csv files: /samples/code_4-20240319192343_1.csv, /samples/code_4-20240319192343_2.csv, /samples/code_4-20240319192343_3.csv, /samples/code_4-20240319192343_4.csv\\n\\nChecking sampler transitions treedepth.\\nTreedepth satisfactory for all transitions.\\n\\nChecking sampler transitions for divergences.\\n9489 of 24000 (39.54%) transitions ended with a divergence.\\nThese divergent transitions indicate that HMC is not fully able to explore the posterior distribution.\\nTry increasing adapt delta closer to 1.\\nIf this doesn't remove all divergences, try to reparameterize the model.\\n\\nChecking E-BFMI - sampler transitions HMC potential energy.\\nE-BFMI satisfactory.\\n\\nEffective sample size satisfactory.\\n\\nSplit R-hat values satisfactory all parameters.\\n\\nProcessing complete.\\n\""
      ]
     },
     "execution_count": 16,
     "metadata": {},
     "output_type": "execute_result"
    }
   ],
   "source": [
    "model_gm1 = CmdStanModel(stan_file='home/code_4.stan')\n",
    "out_gamma1 = model_gm1.sample(output_dir='samples',iter_sampling=6000,iter_warmup=1000, seed=4838282)\n",
    "out_gamma1.diagnose()"
   ]
  },
  {
   "cell_type": "code",
   "execution_count": 17,
   "metadata": {},
   "outputs": [
    {
     "data": {
      "text/plain": [
       "(6000, 4, 8)"
      ]
     },
     "execution_count": 17,
     "metadata": {},
     "output_type": "execute_result"
    }
   ],
   "source": [
    "out_gamma1.draws().shape"
   ]
  },
  {
   "cell_type": "code",
   "execution_count": 18,
   "metadata": {},
   "outputs": [
    {
     "data": {
      "text/plain": [
       "(24000, 8)"
      ]
     },
     "execution_count": 18,
     "metadata": {},
     "output_type": "execute_result"
    }
   ],
   "source": [
    "out_gamma1.draws_pd().shape"
   ]
  },
  {
   "cell_type": "code",
   "execution_count": 19,
   "metadata": {},
   "outputs": [
    {
     "data": {
      "text/plain": [
       "0        2.605520\n",
       "1        3.285610\n",
       "2        3.637090\n",
       "3        3.555540\n",
       "4        5.203460\n",
       "           ...   \n",
       "23995    0.173249\n",
       "23996    0.091863\n",
       "23997    0.091863\n",
       "23998    0.091863\n",
       "23999    0.091863\n",
       "Name: theta, Length: 24000, dtype: float64"
      ]
     },
     "execution_count": 19,
     "metadata": {},
     "output_type": "execute_result"
    }
   ],
   "source": [
    "out_gamma1.draws_pd()['theta']"
   ]
  },
  {
   "cell_type": "code",
   "execution_count": 20,
   "metadata": {},
   "outputs": [
    {
     "data": {
      "image/png": "[encoded data removed]",
      "text/plain": [
       "<Figure size 432x288 with 1 Axes>"
      ]
     },
     "metadata": {
      "needs_background": "light"
     },
     "output_type": "display_data"
    }
   ],
   "source": [
    "N=500\n",
    "xs = np.linspace(0,8,N)\n",
    "pdfs = stats.gamma.pdf(xs, 1.25, scale = 1 / 1.25) \n",
    "\n",
    "plt.plot(xs, pdfs, linewidth=2)\n",
    "\n",
    "plt.hist(out_gamma1.draws_pd()['theta'], density=True, bins=160)\n",
    "plt.gca().set_xlabel(\"theta\")\n",
    "plt.gca().set_ylabel(\"Probability Density Function\")\n",
    "plt.show()"
   ]
  },
  {
   "cell_type": "markdown",
   "metadata": {},
   "source": [
    "Diagnostic message from code_4.stan tells that HMC (Hamiltonian Monte Carlo) wasn't fully able to generate proper samples for the posterior distribustion - 39.54% of samples may be inaccurate. "
   ]
  },
  {
   "cell_type": "markdown",
   "metadata": {},
   "source": [
    "### Constrained parameter"
   ]
  },
  {
   "cell_type": "code",
   "execution_count": 21,
   "metadata": {},
   "outputs": [
    {
     "name": "stdout",
     "output_type": "stream",
     "text": [
      "Overwriting home/code_5.stan\n"
     ]
    }
   ],
   "source": [
    "%%writefile home/code_5.stan\n",
    "parameters {\n",
    "    real<lower=0> theta;\n",
    "}\n",
    "\n",
    "model {\n",
    "    theta ~ gamma(1.25, 1.25);\n",
    "}"
   ]
  },
  {
   "cell_type": "code",
   "execution_count": 22,
   "metadata": {},
   "outputs": [
    {
     "name": "stderr",
     "output_type": "stream",
     "text": [
      "INFO:cmdstanpy:compiling stan file /home/code_5.stan to exe file /home/code_5\n",
      "INFO:cmdstanpy:compiled model executable: /home/code_5\n",
      "INFO:cmdstanpy:CmdStan start processing\n",
      "chain 1 |\u001b[33m          \u001b[0m| 00:00 Status\n",
      "\u001b[A\n",
      "\n",
      "chain 1 |\u001b[34m█▉        \u001b[0m| 00:00 Iteration: 1100 / 7000 [ 15%]  (Sampling)\n",
      "\u001b[A\n",
      "\n",
      "chain 1 |\u001b[34m██████▊   \u001b[0m| 00:00 Iteration: 4600 / 7000 [ 65%]  (Sampling)\n",
      "\u001b[A\n",
      "\n",
      "chain 1 |\u001b[34m██████████\u001b[0m| 00:00 Sampling completed                       \n",
      "chain 2 |\u001b[34m██████████\u001b[0m| 00:00 Sampling completed                       \n",
      "chain 3 |\u001b[34m██████████\u001b[0m| 00:00 Sampling completed                       \n",
      "chain 4 |\u001b[34m██████████\u001b[0m| 00:00 Sampling completed                       "
     ]
    },
    {
     "name": "stdout",
     "output_type": "stream",
     "text": [
      "                                                                                                                                                                                                                                                                                                                                "
     ]
    },
    {
     "name": "stderr",
     "output_type": "stream",
     "text": [
      "\n",
      "INFO:cmdstanpy:CmdStan done processing.\n"
     ]
    },
    {
     "name": "stdout",
     "output_type": "stream",
     "text": [
      "\n"
     ]
    },
    {
     "data": {
      "text/plain": [
       "\"Processing csv files: /samples/code_5-20240319192438_1.csv, /samples/code_5-20240319192438_2.csv, /samples/code_5-20240319192438_3.csv, /samples/code_5-20240319192438_4.csv\\n\\nChecking sampler transitions treedepth.\\nTreedepth satisfactory for all transitions.\\n\\nChecking sampler transitions for divergences.\\n2 of 24000 (0.01%) transitions ended with a divergence.\\nThese divergent transitions indicate that HMC is not fully able to explore the posterior distribution.\\nTry increasing adapt delta closer to 1.\\nIf this doesn't remove all divergences, try to reparameterize the model.\\n\\nChecking E-BFMI - sampler transitions HMC potential energy.\\nE-BFMI satisfactory.\\n\\nEffective sample size satisfactory.\\n\\nSplit R-hat values satisfactory all parameters.\\n\\nProcessing complete.\\n\""
      ]
     },
     "execution_count": 22,
     "metadata": {},
     "output_type": "execute_result"
    }
   ],
   "source": [
    "model_gm2 = CmdStanModel(stan_file='home/code_5.stan')\n",
    "out_gamma2 = model_gm2.sample(output_dir='samples',iter_sampling=6000,iter_warmup=1000, seed=4838282)\n",
    "out_gamma2.diagnose()"
   ]
  },
  {
   "cell_type": "code",
   "execution_count": 23,
   "metadata": {},
   "outputs": [
    {
     "data": {
      "image/png": "[encoded data removed]",
      "text/plain": [
       "<Figure size 432x288 with 1 Axes>"
      ]
     },
     "metadata": {
      "needs_background": "light"
     },
     "output_type": "display_data"
    }
   ],
   "source": [
    "N=500\n",
    "xs = np.linspace(0,8,N)\n",
    "pdfs = stats.gamma.pdf(xs, 1.25, scale = 1 / 1.25) \n",
    "\n",
    "plt.plot(xs, pdfs, linewidth=2)\n",
    "\n",
    "plt.hist(out_gamma2.draws_pd()['theta'], density=True, bins=160)\n",
    "plt.gca().set_xlabel(\"theta\")\n",
    "plt.gca().set_ylabel(\"Probability Density Function\")\n",
    "plt.show()"
   ]
  },
  {
   "cell_type": "markdown",
   "metadata": {},
   "source": [
    "Once constraints are added, there is no longer divergence when generating samples."
   ]
  },
  {
   "cell_type": "markdown",
   "metadata": {},
   "source": [
    "## Excercise 4 -  Selection of parameters using equation solving\n",
    "\n"
   ]
  },
  {
   "cell_type": "code",
   "execution_count": 32,
   "metadata": {},
   "outputs": [
    {
     "name": "stdout",
     "output_type": "stream",
     "text": [
      "Overwriting home/code_6.stan\n"
     ]
    }
   ],
   "source": [
    "%%writefile home/code_6.stan\n",
    "functions {\n",
    "    vector tail_delta(vector y, vector theta, array [] real x_r, array [] int x_i) {\n",
    "        vector[1] deltas;\n",
    "        deltas[1] = 2 * (normal_cdf(theta[1] | 0, exp(y[1])) - 0.5) - 0.99;\n",
    "        return deltas;\n",
    "    }\n",
    "}\n",
    "data {\n",
    "    vector[1] y_guess;\n",
    "    vector[1] theta;\n",
    "}\n",
    "\n",
    "transformed data {\n",
    "    vector[1] y;\n",
    "    array [0] real x_r;\n",
    "    array [0] int x_i;\n",
    "    \n",
    "    y = algebra_solver(tail_delta, y_guess, theta, x_r, x_i);\n",
    "    \n",
    "    print(\"Standard deviation = \", exp(y[1]));\n",
    "}\n",
    "\n",
    "generated quantities {\n",
    "    real sigma = exp(y[1]);\n",
    "}"
   ]
  },
  {
   "cell_type": "code",
   "execution_count": 33,
   "metadata": {},
   "outputs": [
    {
     "name": "stderr",
     "output_type": "stream",
     "text": [
      "INFO:cmdstanpy:compiling stan file /home/code_6.stan to exe file /home/code_6\n",
      "INFO:cmdstanpy:compiled model executable: /home/code_6\n",
      "INFO:cmdstanpy:CmdStan start processing\n",
      "chain 1 |\u001b[34m██████████\u001b[0m| 00:00 Sampling completed"
     ]
    },
    {
     "name": "stdout",
     "output_type": "stream",
     "text": [
      "                                                                                "
     ]
    },
    {
     "name": "stderr",
     "output_type": "stream",
     "text": [
      "\n",
      "INFO:cmdstanpy:CmdStan done processing.\n"
     ]
    },
    {
     "name": "stdout",
     "output_type": "stream",
     "text": [
      "\n"
     ]
    }
   ],
   "source": [
    "model_tune = CmdStanModel(stan_file='home/code_6.stan')\n",
    "\n",
    "F = 7# number of letters in the first name\n",
    "L = 5# number of letters in the last name\n",
    "y0 = 1# initial guess for the equation solving\n",
    "\n",
    "data={'y_guess':[y0],\n",
    "        'theta':[(F+L)/2]}\n",
    "tunes = model_tune.sample(data=data, fixed_param=True, iter_sampling=1, iter_warmup=1, chains = 1)"
   ]
  },
  {
   "cell_type": "code",
   "execution_count": 45,
   "metadata": {},
   "outputs": [
    {
     "name": "stdout",
     "output_type": "stream",
     "text": [
      "Standard deviation of half normal distribution, such that with 99% probability samples from it will be less than (7+5)/2=6 is equal to = 2.32935\n"
     ]
    }
   ],
   "source": [
    "print(f\"Standard deviation of half normal distribution, such that with 99% probability samples from it will be less than (7+5)/2=6 is equal to = {tunes.draws_pd()['sigma'].values[0]}\")"
   ]
  },
  {
   "cell_type": "markdown",
   "metadata": {},
   "source": [
    "## Excercise 5 - different methods of defining models\n"
   ]
  },
  {
   "cell_type": "code",
   "execution_count": 46,
   "metadata": {},
   "outputs": [
    {
     "name": "stdout",
     "output_type": "stream",
     "text": [
      "Overwriting home/code_7.stan\n"
     ]
    }
   ],
   "source": [
    "%%writefile home/code_7.stan\n",
    "data {\n",
    "    int<lower=1> N;\n",
    "}\n",
    "\n",
    "parameters {\n",
    "    array [N] real y;\n",
    "    real theta;\n",
    "}\n",
    "\n",
    "model {\n",
    "    y ~ normal(theta, 1);\n",
    "    theta ~ normal(0, 1);\n",
    "}\n"
   ]
  },
  {
   "cell_type": "code",
   "execution_count": 47,
   "metadata": {},
   "outputs": [
    {
     "name": "stdout",
     "output_type": "stream",
     "text": [
      "Overwriting home/code_8.stan\n"
     ]
    }
   ],
   "source": [
    "%%writefile home/code_8.stan\n",
    "data {\n",
    "    int<lower=1> N;\n",
    "}\n",
    "\n",
    "parameters {\n",
    "    array [N] real y;\n",
    "    real theta;\n",
    "}\n",
    "\n",
    "model {\n",
    "    target += normal_lpdf(y | theta, 1);\n",
    "    target += normal_lpdf(theta | 0, 1);\n",
    "}"
   ]
  },
  {
   "cell_type": "code",
   "execution_count": 48,
   "metadata": {},
   "outputs": [
    {
     "name": "stdout",
     "output_type": "stream",
     "text": [
      "Overwriting home/code_9.stan\n"
     ]
    }
   ],
   "source": [
    "%%writefile home/code_9.stan\n",
    "data {\n",
    "    int<lower=1> N;\n",
    "}\n",
    "\n",
    "parameters {\n",
    "    array [N] real y;\n",
    "    real theta;\n",
    "}\n",
    "\n",
    "model {\n",
    "    for (n in 1:N) {\n",
    "     target += normal_lpdf(y[n] | theta, 1);   \n",
    "    }\n",
    "    target += normal_lpdf(theta | 0, 1);\n",
    "}"
   ]
  },
  {
   "cell_type": "code",
   "execution_count": 49,
   "metadata": {},
   "outputs": [
    {
     "name": "stderr",
     "output_type": "stream",
     "text": [
      "INFO:cmdstanpy:compiling stan file /home/code_7.stan to exe file /home/code_7\n",
      "INFO:cmdstanpy:compiled model executable: /home/code_7\n"
     ]
    }
   ],
   "source": [
    "model_samp_st = CmdStanModel(stan_file='home/code_7.stan')"
   ]
  },
  {
   "cell_type": "code",
   "execution_count": 50,
   "metadata": {},
   "outputs": [
    {
     "name": "stderr",
     "output_type": "stream",
     "text": [
      "INFO:cmdstanpy:compiling stan file /home/code_8.stan to exe file /home/code_8\n",
      "INFO:cmdstanpy:compiled model executable: /home/code_8\n"
     ]
    }
   ],
   "source": [
    "model_log_target = CmdStanModel(stan_file='home/code_8.stan')"
   ]
  },
  {
   "cell_type": "code",
   "execution_count": 51,
   "metadata": {},
   "outputs": [
    {
     "name": "stderr",
     "output_type": "stream",
     "text": [
      "INFO:cmdstanpy:compiling stan file /home/code_9.stan to exe file /home/code_9\n",
      "INFO:cmdstanpy:compiled model executable: /home/code_9\n"
     ]
    }
   ],
   "source": [
    "model_log_target_ind = CmdStanModel(stan_file='home/code_9.stan')"
   ]
  },
  {
   "cell_type": "code",
   "execution_count": 53,
   "metadata": {},
   "outputs": [
    {
     "name": "stderr",
     "output_type": "stream",
     "text": [
      "INFO:cmdstanpy:CmdStan start processing\n",
      "chain 1 |\u001b[33m          \u001b[0m| 00:00 Status\n",
      "\u001b[A\n",
      "\n",
      "\u001b[A\u001b[A\n",
      "\n",
      "chain 1 |\u001b[33m▍         \u001b[0m| 00:00 Status\n",
      "\u001b[A\n",
      "\n",
      "chain 1 |\u001b[34m███████▋  \u001b[0m| 00:00 Iteration: 1400 / 2000 [ 70%]  (Sampling)\n",
      "chain 1 |\u001b[34m██████████\u001b[0m| 00:00 Sampling completed                       \n",
      "chain 2 |\u001b[34m██████████\u001b[0m| 00:00 Sampling completed                       \n",
      "chain 3 |\u001b[34m██████████\u001b[0m| 00:00 Sampling completed                       \n",
      "chain 4 |\u001b[34m██████████\u001b[0m| 00:00 Sampling completed                       "
     ]
    },
    {
     "name": "stdout",
     "output_type": "stream",
     "text": [
      "                                                                                                                                                                                                                                                                                                                                "
     ]
    },
    {
     "name": "stderr",
     "output_type": "stream",
     "text": [
      "\n",
      "INFO:cmdstanpy:CmdStan done processing.\n",
      "INFO:cmdstanpy:CmdStan start processing\n"
     ]
    },
    {
     "name": "stdout",
     "output_type": "stream",
     "text": [
      "\n"
     ]
    },
    {
     "name": "stderr",
     "output_type": "stream",
     "text": [
      "chain 1 |\u001b[33m          \u001b[0m| 00:00 Status\n",
      "\u001b[A\n",
      "\n",
      "\u001b[A\u001b[A\n",
      "\n",
      "chain 1 |\u001b[33m▍         \u001b[0m| 00:00 Status\n",
      "chain 1 |\u001b[34m███████▋  \u001b[0m| 00:00 Iteration: 1400 / 2000 [ 70%]  (Sampling)\n",
      "chain 1 |\u001b[34m██████████\u001b[0m| 00:00 Sampling completed                       \n",
      "chain 2 |\u001b[34m██████████\u001b[0m| 00:00 Sampling completed                       \n",
      "chain 3 |\u001b[34m██████████\u001b[0m| 00:00 Sampling completed                       \n",
      "\n",
      "\n",
      "chain 4 |\u001b[34m██████████\u001b[0m| 00:00 Sampling completed"
     ]
    },
    {
     "name": "stdout",
     "output_type": "stream",
     "text": [
      "                                                                                                                                                                                                                                                                                                                                "
     ]
    },
    {
     "name": "stderr",
     "output_type": "stream",
     "text": [
      "\n",
      "INFO:cmdstanpy:CmdStan done processing.\n",
      "INFO:cmdstanpy:CmdStan start processing\n"
     ]
    },
    {
     "name": "stdout",
     "output_type": "stream",
     "text": [
      "\n"
     ]
    },
    {
     "name": "stderr",
     "output_type": "stream",
     "text": [
      "chain 1 |\u001b[33m          \u001b[0m| 00:00 Status\n",
      "\u001b[A\n",
      "\n",
      "chain 1 |\u001b[33m█▎        \u001b[0m| 00:00 Iteration:  100 / 2000 [  5%]  (Warmup)\n",
      "\u001b[A\n",
      "\n",
      "chain 1 |\u001b[34m██████████\u001b[0m| 00:00 Sampling completed                     \n",
      "chain 2 |\u001b[34m██████████\u001b[0m| 00:00 Sampling completed                     \n",
      "chain 3 |\u001b[34m██████████\u001b[0m| 00:00 Sampling completed                     \n",
      "chain 4 |\u001b[34m██████████\u001b[0m| 00:00 Sampling completed                     "
     ]
    },
    {
     "name": "stdout",
     "output_type": "stream",
     "text": [
      "                                                                                                                                                                                                                                                                                                                                "
     ]
    },
    {
     "name": "stderr",
     "output_type": "stream",
     "text": [
      "\n",
      "INFO:cmdstanpy:CmdStan done processing.\n"
     ]
    },
    {
     "name": "stdout",
     "output_type": "stream",
     "text": [
      "\n"
     ]
    }
   ],
   "source": [
    "F = 5\n",
    "data = {'N': F}\n",
    "seed = 13082000\n",
    "result_1 = model_samp_st.sample(data=data,seed=seed)\n",
    "result_2 = model_log_target.sample(data=data,seed=seed)\n",
    "result_3 = model_log_target_ind.sample(data=data,seed=seed)"
   ]
  },
  {
   "cell_type": "code",
   "execution_count": 54,
   "metadata": {},
   "outputs": [
    {
     "data": {
      "image/png": "[encoded data removed]",
      "text/plain": [
       "<Figure size 1490.4x662.4 with 6 Axes>"
      ]
     },
     "metadata": {
      "needs_background": "light"
     },
     "output_type": "display_data"
    }
   ],
   "source": [
    "az.plot_density([result_1,result_2,result_3])\n",
    "plt.show()"
   ]
  },
  {
   "cell_type": "markdown",
   "metadata": {},
   "source": [
    "## Excercise 6 - generated quantities post sampling"
   ]
  },
  {
   "cell_type": "code",
   "execution_count": 55,
   "metadata": {},
   "outputs": [
    {
     "name": "stdout",
     "output_type": "stream",
     "text": [
      "Writing home/code_10.stan\n"
     ]
    }
   ],
   "source": [
    "%%writefile home/code_10.stan\n",
    "data {\n",
    "    int<lower=1> N;\n",
    "}\n",
    "\n",
    "parameters {\n",
    "    array [N] real y;\n",
    "    real theta;\n",
    "}\n",
    "\n",
    "model {\n",
    "    y ~ normal(theta, 1);\n",
    "    theta ~ normal(0, 1);\n",
    "}\n",
    "\n",
    "generated quantities {\n",
    "    real mean_y = mean(y);\n",
    "}"
   ]
  },
  {
   "cell_type": "code",
   "execution_count": 56,
   "metadata": {},
   "outputs": [
    {
     "name": "stderr",
     "output_type": "stream",
     "text": [
      "INFO:cmdstanpy:compiling stan file /home/code_10.stan to exe file /home/code_10\n",
      "INFO:cmdstanpy:compiled model executable: /home/code_10\n",
      "INFO:cmdstanpy:Chain [1] start processing\n",
      "INFO:cmdstanpy:Chain [2] start processing\n",
      "INFO:cmdstanpy:Chain [3] start processing\n",
      "INFO:cmdstanpy:Chain [4] start processing\n",
      "INFO:cmdstanpy:Chain [3] done processing\n",
      "INFO:cmdstanpy:Chain [2] done processing\n",
      "INFO:cmdstanpy:Chain [4] done processing\n",
      "INFO:cmdstanpy:Chain [1] done processing\n"
     ]
    }
   ],
   "source": [
    "model_gq = CmdStanModel(stan_file='home/code_10.stan')\n",
    "mean_of_y = model_gq.generate_quantities(data=data,\n",
    "                                        mcmc_sample = result_1)\n"
   ]
  },
  {
   "cell_type": "code",
   "execution_count": 58,
   "metadata": {},
   "outputs": [
    {
     "data": {
      "text/html": [
       "<div>\n",
       "<style scoped>\n",
       "    .dataframe tbody tr th:only-of-type {\n",
       "        vertical-align: middle;\n",
       "    }\n",
       "\n",
       "    .dataframe tbody tr th {\n",
       "        vertical-align: top;\n",
       "    }\n",
       "\n",
       "    .dataframe thead th {\n",
       "        text-align: right;\n",
       "    }\n",
       "</style>\n",
       "<table border=\"1\" class=\"dataframe\">\n",
       "  <thead>\n",
       "    <tr style=\"text-align: right;\">\n",
       "      <th></th>\n",
       "      <th>mean_y</th>\n",
       "    </tr>\n",
       "  </thead>\n",
       "  <tbody>\n",
       "    <tr>\n",
       "      <th>0</th>\n",
       "      <td>-2.364560</td>\n",
       "    </tr>\n",
       "    <tr>\n",
       "      <th>1</th>\n",
       "      <td>-1.240020</td>\n",
       "    </tr>\n",
       "    <tr>\n",
       "      <th>2</th>\n",
       "      <td>-1.146600</td>\n",
       "    </tr>\n",
       "    <tr>\n",
       "      <th>3</th>\n",
       "      <td>0.038987</td>\n",
       "    </tr>\n",
       "    <tr>\n",
       "      <th>4</th>\n",
       "      <td>0.102304</td>\n",
       "    </tr>\n",
       "    <tr>\n",
       "      <th>...</th>\n",
       "      <td>...</td>\n",
       "    </tr>\n",
       "    <tr>\n",
       "      <th>3995</th>\n",
       "      <td>0.657019</td>\n",
       "    </tr>\n",
       "    <tr>\n",
       "      <th>3996</th>\n",
       "      <td>-0.720514</td>\n",
       "    </tr>\n",
       "    <tr>\n",
       "      <th>3997</th>\n",
       "      <td>-0.494515</td>\n",
       "    </tr>\n",
       "    <tr>\n",
       "      <th>3998</th>\n",
       "      <td>-1.262370</td>\n",
       "    </tr>\n",
       "    <tr>\n",
       "      <th>3999</th>\n",
       "      <td>0.546718</td>\n",
       "    </tr>\n",
       "  </tbody>\n",
       "</table>\n",
       "<p>4000 rows × 1 columns</p>\n",
       "</div>"
      ],
      "text/plain": [
       "        mean_y\n",
       "0    -2.364560\n",
       "1    -1.240020\n",
       "2    -1.146600\n",
       "3     0.038987\n",
       "4     0.102304\n",
       "...        ...\n",
       "3995  0.657019\n",
       "3996 -0.720514\n",
       "3997 -0.494515\n",
       "3998 -1.262370\n",
       "3999  0.546718\n",
       "\n",
       "[4000 rows x 1 columns]"
      ]
     },
     "execution_count": 58,
     "metadata": {},
     "output_type": "execute_result"
    }
   ],
   "source": [
    "mean_of_y.draws_pd()"
   ]
  },
  {
   "cell_type": "code",
   "execution_count": 61,
   "metadata": {},
   "outputs": [
    {
     "data": {
      "image/png": "[encoded data removed]",
      "text/plain": [
       "<Figure size 432x288 with 1 Axes>"
      ]
     },
     "metadata": {
      "needs_background": "light"
     },
     "output_type": "display_data"
    }
   ],
   "source": [
    "mean_of_y.draws_pd().hist()\n",
    "plt.title( \"Histogram of Mean of y\")\n",
    "plt.xlabel(\"Mean of y\")\n",
    "plt.ylabel(\"Frequency\")\n",
    "plt.show()"
   ]
  }
 ],
 "metadata": {
  "kernelspec": {
   "display_name": "Python 3.7.10 64-bit ('DA2021': conda)",
   "metadata": {
    "interpreter": {
     "hash": "045f3ba9fbd7084f57766e40ea0c4bb3a1b26edfff4812021a661f88e63a0844"
    }
   },
   "name": "python3"
  },
  "language_info": {
   "codemirror_mode": {
    "name": "ipython",
    "version": 3
   },
   "file_extension": ".py",
   "mimetype": "text/x-python",
   "name": "python",
   "nbconvert_exporter": "python",
   "pygments_lexer": "ipython3",
   "version": "3.12.2"
  },
  "orig_nbformat": 2
 },
 "nbformat": 4,
 "nbformat_minor": 2
}
